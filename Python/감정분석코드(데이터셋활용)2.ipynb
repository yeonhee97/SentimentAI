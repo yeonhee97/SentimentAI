{
 "cells": [
  {
   "cell_type": "code",
   "execution_count": 1,
   "metadata": {},
   "outputs": [
    {
     "name": "stdout",
     "output_type": "stream",
     "text": [
      "Requirement already satisfied: flask_restful in c:\\users\\rhkr8\\anaconda3\\lib\\site-packages (0.3.8)\n",
      "Requirement already satisfied: six>=1.3.0 in c:\\users\\rhkr8\\anaconda3\\lib\\site-packages (from flask_restful) (1.15.0)\n",
      "Requirement already satisfied: aniso8601>=0.82 in c:\\users\\rhkr8\\anaconda3\\lib\\site-packages (from flask_restful) (9.0.1)\n",
      "Requirement already satisfied: pytz in c:\\users\\rhkr8\\anaconda3\\lib\\site-packages (from flask_restful) (2020.1)\n",
      "Requirement already satisfied: Flask>=0.8 in c:\\users\\rhkr8\\anaconda3\\lib\\site-packages (from flask_restful) (1.1.2)\n",
      "Requirement already satisfied: click>=5.1 in c:\\users\\rhkr8\\anaconda3\\lib\\site-packages (from Flask>=0.8->flask_restful) (7.1.2)\n",
      "Requirement already satisfied: itsdangerous>=0.24 in c:\\users\\rhkr8\\anaconda3\\lib\\site-packages (from Flask>=0.8->flask_restful) (1.1.0)\n",
      "Requirement already satisfied: Jinja2>=2.10.1 in c:\\users\\rhkr8\\anaconda3\\lib\\site-packages (from Flask>=0.8->flask_restful) (2.11.2)\n",
      "Requirement already satisfied: Werkzeug>=0.15 in c:\\users\\rhkr8\\anaconda3\\lib\\site-packages (from Flask>=0.8->flask_restful) (1.0.1)\n",
      "Requirement already satisfied: MarkupSafe>=0.23 in c:\\users\\rhkr8\\anaconda3\\lib\\site-packages (from Jinja2>=2.10.1->Flask>=0.8->flask_restful) (1.1.1)\n"
     ]
    }
   ],
   "source": [
    "#!pip install flask\n",
    "!pip install flask_restful"
   ]
  },
  {
   "cell_type": "code",
   "execution_count": 1,
   "metadata": {},
   "outputs": [],
   "source": [
    "import pandas as pd\n",
    "\n",
    "train_data = pd.read_csv(\"감정_train.csv\")\n",
    "test_data = pd.read_csv(\"감정_test.csv\")"
   ]
  },
  {
   "cell_type": "code",
   "execution_count": 2,
   "metadata": {},
   "outputs": [],
   "source": [
    "%matplotlib inline\n",
    "import matplotlib.pyplot as plt"
   ]
  },
  {
   "cell_type": "code",
   "execution_count": 3,
   "metadata": {},
   "outputs": [
    {
     "data": {
      "text/plain": [
       "<matplotlib.axes._subplots.AxesSubplot at 0x2627956a610>"
      ]
     },
     "execution_count": 3,
     "metadata": {},
     "output_type": "execute_result"
    },
    {
     "data": {
      "image/png": "[encoded data removed]",
      "text/plain": [
       "<Figure size 432x288 with 1 Axes>"
      ]
     },
     "metadata": {
      "needs_background": "light"
     },
     "output_type": "display_data"
    }
   ],
   "source": [
    "train_data['label'].value_counts().plot(kind='bar')"
   ]
  },
  {
   "cell_type": "code",
   "execution_count": 4,
   "metadata": {
    "scrolled": true
   },
   "outputs": [
    {
     "data": {
      "text/plain": [
       "<matplotlib.axes._subplots.AxesSubplot at 0x26279cab670>"
      ]
     },
     "execution_count": 4,
     "metadata": {},
     "output_type": "execute_result"
    },
    {
     "data": {
      "image/png": "[encoded data removed]",
      "text/plain": [
       "<Figure size 432x288 with 1 Axes>"
      ]
     },
     "metadata": {
      "needs_background": "light"
     },
     "output_type": "display_data"
    }
   ],
   "source": [
    "test_data['label'].value_counts().plot(kind='bar')"
   ]
  },
  {
   "cell_type": "code",
   "execution_count": 5,
   "metadata": {},
   "outputs": [
    {
     "name": "stdout",
     "output_type": "stream",
     "text": [
      "   label  count\n",
      "0      0   3999\n",
      "1      1   2787\n",
      "2      2   4259\n",
      "3      3   4226\n",
      "   label  count\n",
      "0      0   1001\n",
      "1      1    701\n",
      "2      2   1001\n",
      "3      3   1001\n"
     ]
    }
   ],
   "source": [
    "print(train_data.groupby('label').size().reset_index(name='count'))\n",
    "print(test_data.groupby('label').size().reset_index(name='count'))"
   ]
  },
  {
   "cell_type": "code",
   "execution_count": 6,
   "metadata": {},
   "outputs": [],
   "source": [
    "stopwords = ['의', '가', '이', '은', '들', '는', '좀', '잘', '걍', '과', '도', '를', '으로', '자', '에', '와', '한', '하다']"
   ]
  },
  {
   "cell_type": "code",
   "execution_count": 7,
   "metadata": {},
   "outputs": [],
   "source": [
    "import konlpy \n",
    "from konlpy.tag import Okt \n",
    "okt = Okt() \n",
    "X_train = [] \n",
    "for sentence in train_data['title']: \n",
    "    temp_X = [] \n",
    "    temp_X = okt.morphs(sentence, stem=True) # 토큰화 \n",
    "    temp_X = [word for word in temp_X if not word in stopwords] # 불용어 제거 \n",
    "    X_train.append(temp_X) \n",
    "    \n",
    "X_test = [] \n",
    "for sentence in test_data['title']: \n",
    "    temp_X = [] \n",
    "    temp_X = okt.morphs(sentence, stem=True) # 토큰화 \n",
    "    temp_X = [word for word in temp_X if not word in stopwords] # 불용어 제거 \n",
    "    X_test.append(temp_X)"
   ]
  },
  {
   "cell_type": "code",
   "execution_count": 8,
   "metadata": {},
   "outputs": [],
   "source": [
    "from keras.preprocessing.text import Tokenizer \n",
    "max_words = 35000 \n",
    "tokenizer = Tokenizer(num_words = max_words) \n",
    "tokenizer.fit_on_texts(X_train) \n",
    "X_train = tokenizer.texts_to_sequences(X_train) \n",
    "X_test = tokenizer.texts_to_sequences(X_test)"
   ]
  },
  {
   "cell_type": "code",
   "execution_count": 9,
   "metadata": {},
   "outputs": [
    {
     "name": "stdout",
     "output_type": "stream",
     "text": [
      "문장의 최대 길이 :  75\n",
      "문장의 평균 길이 :  7.894178508283675\n"
     ]
    },
    {
     "data": {
      "image/png": "[encoded data removed]",
      "text/plain": [
       "<Figure size 432x288 with 1 Axes>"
      ]
     },
     "metadata": {
      "needs_background": "light"
     },
     "output_type": "display_data"
    }
   ],
   "source": [
    "print(\"문장의 최대 길이 : \", max(len(l) for l in X_train)) \n",
    "print(\"문장의 평균 길이 : \", sum(map(len, X_train))/ len(X_train)) \n",
    "plt.hist([len(s) for s in X_train], bins=50) \n",
    "plt.xlabel('length of Data') \n",
    "plt.ylabel('number of Data') \n",
    "plt.show()"
   ]
  },
  {
   "cell_type": "code",
   "execution_count": 10,
   "metadata": {},
   "outputs": [
    {
     "name": "stdout",
     "output_type": "stream",
     "text": [
      "문장의 최대 길이 :  48\n",
      "문장의 평균 길이 :  7.274838012958964\n"
     ]
    },
    {
     "data": {
      "image/png": "[encoded data removed]",
      "text/plain": [
       "<Figure size 432x288 with 1 Axes>"
      ]
     },
     "metadata": {
      "needs_background": "light"
     },
     "output_type": "display_data"
    }
   ],
   "source": [
    "print(\"문장의 최대 길이 : \", max(len(l) for l in X_test)) \n",
    "print(\"문장의 평균 길이 : \", sum(map(len, X_test))/ len(X_test)) \n",
    "plt.hist([len(s) for s in X_test], bins=50) \n",
    "plt.xlabel('length of Data') \n",
    "plt.ylabel('number of Data') \n",
    "plt.show()"
   ]
  },
  {
   "cell_type": "code",
   "execution_count": 11,
   "metadata": {},
   "outputs": [],
   "source": [
    "import numpy as np \n",
    "\n",
    "y_train = [] \n",
    "y_test = [] \n",
    "\n",
    "\n",
    "\n",
    "for i in range(len(train_data['label'])): \n",
    "    if train_data['label'].iloc[i] == 3:\n",
    "        y_train.append([0, 0, 0, 1]) \n",
    "    elif train_data['label'].iloc[i] == 2: \n",
    "        y_train.append([0, 0, 1, 0]) \n",
    "    elif train_data['label'].iloc[i] == 1: \n",
    "        y_train.append([0, 1, 0, 0]) \n",
    "    elif train_data['label'].iloc[i] == 0: \n",
    "        y_train.append([1, 0, 0, 0]) \n",
    "        \n",
    "for i in range(len(test_data['label'])): \n",
    "    if test_data['label'].iloc[i] == 3:\n",
    "        y_test.append([0, 0, 0, 1]) \n",
    "    elif test_data['label'].iloc[i] == 2: \n",
    "        y_test.append([0, 0, 1, 0]) \n",
    "    elif test_data['label'].iloc[i] == 1: \n",
    "        y_test.append([0, 1, 0, 0]) \n",
    "    elif test_data['label'].iloc[i] == 0: \n",
    "        y_test.append([1, 0, 0, 0])\n",
    "y_train = np.array(y_train) \n",
    "y_test = np.array(y_test)"
   ]
  },
  {
   "cell_type": "code",
   "execution_count": 12,
   "metadata": {},
   "outputs": [],
   "source": [
    "from keras.layers import Embedding, Dense, LSTM \n",
    "from keras.models import Sequential \n",
    "from keras.preprocessing.sequence import pad_sequences \n",
    "max_len = 20 # 전체 데이터의 길이를 20로 맞춘다 \n",
    "\n",
    "X_train = pad_sequences(X_train, maxlen=max_len) \n",
    "X_test = pad_sequences(X_test, maxlen=max_len)"
   ]
  },
  {
   "cell_type": "code",
   "execution_count": 13,
   "metadata": {
    "scrolled": false
   },
   "outputs": [
    {
     "name": "stdout",
     "output_type": "stream",
     "text": [
      "Epoch 1/12\n",
      "  50/1375 [>.............................] - ETA: 53s - loss: 1.3497 - accuracy: 0.4080"
     ]
    },
    {
     "ename": "KeyboardInterrupt",
     "evalue": "",
     "output_type": "error",
     "traceback": [
      "\u001b[1;31m---------------------------------------------------------------------------\u001b[0m",
      "\u001b[1;31mKeyboardInterrupt\u001b[0m                         Traceback (most recent call last)",
      "\u001b[1;32m<ipython-input-13-067abbe49f9c>\u001b[0m in \u001b[0;36m<module>\u001b[1;34m\u001b[0m\n\u001b[0;32m      5\u001b[0m \u001b[1;33m\u001b[0m\u001b[0m\n\u001b[0;32m      6\u001b[0m \u001b[0mmodel\u001b[0m\u001b[1;33m.\u001b[0m\u001b[0mcompile\u001b[0m\u001b[1;33m(\u001b[0m\u001b[0moptimizer\u001b[0m\u001b[1;33m=\u001b[0m\u001b[1;34m'Adam'\u001b[0m\u001b[1;33m,\u001b[0m \u001b[0mloss\u001b[0m\u001b[1;33m=\u001b[0m\u001b[1;34m'categorical_crossentropy'\u001b[0m\u001b[1;33m,\u001b[0m \u001b[0mmetrics\u001b[0m\u001b[1;33m=\u001b[0m\u001b[1;33m[\u001b[0m\u001b[1;34m'accuracy'\u001b[0m\u001b[1;33m]\u001b[0m\u001b[1;33m)\u001b[0m\u001b[1;33m\u001b[0m\u001b[1;33m\u001b[0m\u001b[0m\n\u001b[1;32m----> 7\u001b[1;33m \u001b[0mhistory\u001b[0m \u001b[1;33m=\u001b[0m \u001b[0mmodel\u001b[0m\u001b[1;33m.\u001b[0m\u001b[0mfit\u001b[0m\u001b[1;33m(\u001b[0m\u001b[0mX_train\u001b[0m\u001b[1;33m,\u001b[0m \u001b[0my_train\u001b[0m\u001b[1;33m,\u001b[0m \u001b[0mepochs\u001b[0m\u001b[1;33m=\u001b[0m\u001b[1;36m12\u001b[0m\u001b[1;33m,\u001b[0m \u001b[0mbatch_size\u001b[0m\u001b[1;33m=\u001b[0m\u001b[1;36m10\u001b[0m\u001b[1;33m,\u001b[0m \u001b[0mvalidation_split\u001b[0m\u001b[1;33m=\u001b[0m\u001b[1;36m0.1\u001b[0m\u001b[1;33m)\u001b[0m\u001b[1;33m\u001b[0m\u001b[1;33m\u001b[0m\u001b[0m\n\u001b[0m",
      "\u001b[1;32m~\\anaconda3\\lib\\site-packages\\tensorflow\\python\\keras\\engine\\training.py\u001b[0m in \u001b[0;36m_method_wrapper\u001b[1;34m(self, *args, **kwargs)\u001b[0m\n\u001b[0;32m    106\u001b[0m   \u001b[1;32mdef\u001b[0m \u001b[0m_method_wrapper\u001b[0m\u001b[1;33m(\u001b[0m\u001b[0mself\u001b[0m\u001b[1;33m,\u001b[0m \u001b[1;33m*\u001b[0m\u001b[0margs\u001b[0m\u001b[1;33m,\u001b[0m \u001b[1;33m**\u001b[0m\u001b[0mkwargs\u001b[0m\u001b[1;33m)\u001b[0m\u001b[1;33m:\u001b[0m\u001b[1;33m\u001b[0m\u001b[1;33m\u001b[0m\u001b[0m\n\u001b[0;32m    107\u001b[0m     \u001b[1;32mif\u001b[0m \u001b[1;32mnot\u001b[0m \u001b[0mself\u001b[0m\u001b[1;33m.\u001b[0m\u001b[0m_in_multi_worker_mode\u001b[0m\u001b[1;33m(\u001b[0m\u001b[1;33m)\u001b[0m\u001b[1;33m:\u001b[0m  \u001b[1;31m# pylint: disable=protected-access\u001b[0m\u001b[1;33m\u001b[0m\u001b[1;33m\u001b[0m\u001b[0m\n\u001b[1;32m--> 108\u001b[1;33m       \u001b[1;32mreturn\u001b[0m \u001b[0mmethod\u001b[0m\u001b[1;33m(\u001b[0m\u001b[0mself\u001b[0m\u001b[1;33m,\u001b[0m \u001b[1;33m*\u001b[0m\u001b[0margs\u001b[0m\u001b[1;33m,\u001b[0m \u001b[1;33m**\u001b[0m\u001b[0mkwargs\u001b[0m\u001b[1;33m)\u001b[0m\u001b[1;33m\u001b[0m\u001b[1;33m\u001b[0m\u001b[0m\n\u001b[0m\u001b[0;32m    109\u001b[0m \u001b[1;33m\u001b[0m\u001b[0m\n\u001b[0;32m    110\u001b[0m     \u001b[1;31m# Running inside `run_distribute_coordinator` already.\u001b[0m\u001b[1;33m\u001b[0m\u001b[1;33m\u001b[0m\u001b[1;33m\u001b[0m\u001b[0m\n",
      "\u001b[1;32m~\\anaconda3\\lib\\site-packages\\tensorflow\\python\\keras\\engine\\training.py\u001b[0m in \u001b[0;36mfit\u001b[1;34m(self, x, y, batch_size, epochs, verbose, callbacks, validation_split, validation_data, shuffle, class_weight, sample_weight, initial_epoch, steps_per_epoch, validation_steps, validation_batch_size, validation_freq, max_queue_size, workers, use_multiprocessing)\u001b[0m\n\u001b[0;32m   1096\u001b[0m                 batch_size=batch_size):\n\u001b[0;32m   1097\u001b[0m               \u001b[0mcallbacks\u001b[0m\u001b[1;33m.\u001b[0m\u001b[0mon_train_batch_begin\u001b[0m\u001b[1;33m(\u001b[0m\u001b[0mstep\u001b[0m\u001b[1;33m)\u001b[0m\u001b[1;33m\u001b[0m\u001b[1;33m\u001b[0m\u001b[0m\n\u001b[1;32m-> 1098\u001b[1;33m               \u001b[0mtmp_logs\u001b[0m \u001b[1;33m=\u001b[0m \u001b[0mtrain_function\u001b[0m\u001b[1;33m(\u001b[0m\u001b[0miterator\u001b[0m\u001b[1;33m)\u001b[0m\u001b[1;33m\u001b[0m\u001b[1;33m\u001b[0m\u001b[0m\n\u001b[0m\u001b[0;32m   1099\u001b[0m               \u001b[1;32mif\u001b[0m \u001b[0mdata_handler\u001b[0m\u001b[1;33m.\u001b[0m\u001b[0mshould_sync\u001b[0m\u001b[1;33m:\u001b[0m\u001b[1;33m\u001b[0m\u001b[1;33m\u001b[0m\u001b[0m\n\u001b[0;32m   1100\u001b[0m                 \u001b[0mcontext\u001b[0m\u001b[1;33m.\u001b[0m\u001b[0masync_wait\u001b[0m\u001b[1;33m(\u001b[0m\u001b[1;33m)\u001b[0m\u001b[1;33m\u001b[0m\u001b[1;33m\u001b[0m\u001b[0m\n",
      "\u001b[1;32m~\\anaconda3\\lib\\site-packages\\tensorflow\\python\\eager\\def_function.py\u001b[0m in \u001b[0;36m__call__\u001b[1;34m(self, *args, **kwds)\u001b[0m\n\u001b[0;32m    778\u001b[0m       \u001b[1;32melse\u001b[0m\u001b[1;33m:\u001b[0m\u001b[1;33m\u001b[0m\u001b[1;33m\u001b[0m\u001b[0m\n\u001b[0;32m    779\u001b[0m         \u001b[0mcompiler\u001b[0m \u001b[1;33m=\u001b[0m \u001b[1;34m\"nonXla\"\u001b[0m\u001b[1;33m\u001b[0m\u001b[1;33m\u001b[0m\u001b[0m\n\u001b[1;32m--> 780\u001b[1;33m         \u001b[0mresult\u001b[0m \u001b[1;33m=\u001b[0m \u001b[0mself\u001b[0m\u001b[1;33m.\u001b[0m\u001b[0m_call\u001b[0m\u001b[1;33m(\u001b[0m\u001b[1;33m*\u001b[0m\u001b[0margs\u001b[0m\u001b[1;33m,\u001b[0m \u001b[1;33m**\u001b[0m\u001b[0mkwds\u001b[0m\u001b[1;33m)\u001b[0m\u001b[1;33m\u001b[0m\u001b[1;33m\u001b[0m\u001b[0m\n\u001b[0m\u001b[0;32m    781\u001b[0m \u001b[1;33m\u001b[0m\u001b[0m\n\u001b[0;32m    782\u001b[0m       \u001b[0mnew_tracing_count\u001b[0m \u001b[1;33m=\u001b[0m \u001b[0mself\u001b[0m\u001b[1;33m.\u001b[0m\u001b[0m_get_tracing_count\u001b[0m\u001b[1;33m(\u001b[0m\u001b[1;33m)\u001b[0m\u001b[1;33m\u001b[0m\u001b[1;33m\u001b[0m\u001b[0m\n",
      "\u001b[1;32m~\\anaconda3\\lib\\site-packages\\tensorflow\\python\\eager\\def_function.py\u001b[0m in \u001b[0;36m_call\u001b[1;34m(self, *args, **kwds)\u001b[0m\n\u001b[0;32m    805\u001b[0m       \u001b[1;31m# In this case we have created variables on the first call, so we run the\u001b[0m\u001b[1;33m\u001b[0m\u001b[1;33m\u001b[0m\u001b[1;33m\u001b[0m\u001b[0m\n\u001b[0;32m    806\u001b[0m       \u001b[1;31m# defunned version which is guaranteed to never create variables.\u001b[0m\u001b[1;33m\u001b[0m\u001b[1;33m\u001b[0m\u001b[1;33m\u001b[0m\u001b[0m\n\u001b[1;32m--> 807\u001b[1;33m       \u001b[1;32mreturn\u001b[0m \u001b[0mself\u001b[0m\u001b[1;33m.\u001b[0m\u001b[0m_stateless_fn\u001b[0m\u001b[1;33m(\u001b[0m\u001b[1;33m*\u001b[0m\u001b[0margs\u001b[0m\u001b[1;33m,\u001b[0m \u001b[1;33m**\u001b[0m\u001b[0mkwds\u001b[0m\u001b[1;33m)\u001b[0m  \u001b[1;31m# pylint: disable=not-callable\u001b[0m\u001b[1;33m\u001b[0m\u001b[1;33m\u001b[0m\u001b[0m\n\u001b[0m\u001b[0;32m    808\u001b[0m     \u001b[1;32melif\u001b[0m \u001b[0mself\u001b[0m\u001b[1;33m.\u001b[0m\u001b[0m_stateful_fn\u001b[0m \u001b[1;32mis\u001b[0m \u001b[1;32mnot\u001b[0m \u001b[1;32mNone\u001b[0m\u001b[1;33m:\u001b[0m\u001b[1;33m\u001b[0m\u001b[1;33m\u001b[0m\u001b[0m\n\u001b[0;32m    809\u001b[0m       \u001b[1;31m# Release the lock early so that multiple threads can perform the call\u001b[0m\u001b[1;33m\u001b[0m\u001b[1;33m\u001b[0m\u001b[1;33m\u001b[0m\u001b[0m\n",
      "\u001b[1;32m~\\anaconda3\\lib\\site-packages\\tensorflow\\python\\eager\\function.py\u001b[0m in \u001b[0;36m__call__\u001b[1;34m(self, *args, **kwargs)\u001b[0m\n\u001b[0;32m   2827\u001b[0m     \u001b[1;32mwith\u001b[0m \u001b[0mself\u001b[0m\u001b[1;33m.\u001b[0m\u001b[0m_lock\u001b[0m\u001b[1;33m:\u001b[0m\u001b[1;33m\u001b[0m\u001b[1;33m\u001b[0m\u001b[0m\n\u001b[0;32m   2828\u001b[0m       \u001b[0mgraph_function\u001b[0m\u001b[1;33m,\u001b[0m \u001b[0margs\u001b[0m\u001b[1;33m,\u001b[0m \u001b[0mkwargs\u001b[0m \u001b[1;33m=\u001b[0m \u001b[0mself\u001b[0m\u001b[1;33m.\u001b[0m\u001b[0m_maybe_define_function\u001b[0m\u001b[1;33m(\u001b[0m\u001b[0margs\u001b[0m\u001b[1;33m,\u001b[0m \u001b[0mkwargs\u001b[0m\u001b[1;33m)\u001b[0m\u001b[1;33m\u001b[0m\u001b[1;33m\u001b[0m\u001b[0m\n\u001b[1;32m-> 2829\u001b[1;33m     \u001b[1;32mreturn\u001b[0m \u001b[0mgraph_function\u001b[0m\u001b[1;33m.\u001b[0m\u001b[0m_filtered_call\u001b[0m\u001b[1;33m(\u001b[0m\u001b[0margs\u001b[0m\u001b[1;33m,\u001b[0m \u001b[0mkwargs\u001b[0m\u001b[1;33m)\u001b[0m  \u001b[1;31m# pylint: disable=protected-access\u001b[0m\u001b[1;33m\u001b[0m\u001b[1;33m\u001b[0m\u001b[0m\n\u001b[0m\u001b[0;32m   2830\u001b[0m \u001b[1;33m\u001b[0m\u001b[0m\n\u001b[0;32m   2831\u001b[0m   \u001b[1;33m@\u001b[0m\u001b[0mproperty\u001b[0m\u001b[1;33m\u001b[0m\u001b[1;33m\u001b[0m\u001b[0m\n",
      "\u001b[1;32m~\\anaconda3\\lib\\site-packages\\tensorflow\\python\\eager\\function.py\u001b[0m in \u001b[0;36m_filtered_call\u001b[1;34m(self, args, kwargs, cancellation_manager)\u001b[0m\n\u001b[0;32m   1841\u001b[0m       \u001b[0;31m`\u001b[0m\u001b[0margs\u001b[0m\u001b[0;31m`\u001b[0m \u001b[1;32mand\u001b[0m\u001b[0;31m \u001b[0m\u001b[0;31m`\u001b[0m\u001b[0mkwargs\u001b[0m\u001b[0;31m`\u001b[0m\u001b[1;33m.\u001b[0m\u001b[1;33m\u001b[0m\u001b[1;33m\u001b[0m\u001b[0m\n\u001b[0;32m   1842\u001b[0m     \"\"\"\n\u001b[1;32m-> 1843\u001b[1;33m     return self._call_flat(\n\u001b[0m\u001b[0;32m   1844\u001b[0m         [t for t in nest.flatten((args, kwargs), expand_composites=True)\n\u001b[0;32m   1845\u001b[0m          if isinstance(t, (ops.Tensor,\n",
      "\u001b[1;32m~\\anaconda3\\lib\\site-packages\\tensorflow\\python\\eager\\function.py\u001b[0m in \u001b[0;36m_call_flat\u001b[1;34m(self, args, captured_inputs, cancellation_manager)\u001b[0m\n\u001b[0;32m   1921\u001b[0m         and executing_eagerly):\n\u001b[0;32m   1922\u001b[0m       \u001b[1;31m# No tape is watching; skip to running the function.\u001b[0m\u001b[1;33m\u001b[0m\u001b[1;33m\u001b[0m\u001b[1;33m\u001b[0m\u001b[0m\n\u001b[1;32m-> 1923\u001b[1;33m       return self._build_call_outputs(self._inference_function.call(\n\u001b[0m\u001b[0;32m   1924\u001b[0m           ctx, args, cancellation_manager=cancellation_manager))\n\u001b[0;32m   1925\u001b[0m     forward_backward = self._select_forward_and_backward_functions(\n",
      "\u001b[1;32m~\\anaconda3\\lib\\site-packages\\tensorflow\\python\\eager\\function.py\u001b[0m in \u001b[0;36mcall\u001b[1;34m(self, ctx, args, cancellation_manager)\u001b[0m\n\u001b[0;32m    543\u001b[0m       \u001b[1;32mwith\u001b[0m \u001b[0m_InterpolateFunctionError\u001b[0m\u001b[1;33m(\u001b[0m\u001b[0mself\u001b[0m\u001b[1;33m)\u001b[0m\u001b[1;33m:\u001b[0m\u001b[1;33m\u001b[0m\u001b[1;33m\u001b[0m\u001b[0m\n\u001b[0;32m    544\u001b[0m         \u001b[1;32mif\u001b[0m \u001b[0mcancellation_manager\u001b[0m \u001b[1;32mis\u001b[0m \u001b[1;32mNone\u001b[0m\u001b[1;33m:\u001b[0m\u001b[1;33m\u001b[0m\u001b[1;33m\u001b[0m\u001b[0m\n\u001b[1;32m--> 545\u001b[1;33m           outputs = execute.execute(\n\u001b[0m\u001b[0;32m    546\u001b[0m               \u001b[0mstr\u001b[0m\u001b[1;33m(\u001b[0m\u001b[0mself\u001b[0m\u001b[1;33m.\u001b[0m\u001b[0msignature\u001b[0m\u001b[1;33m.\u001b[0m\u001b[0mname\u001b[0m\u001b[1;33m)\u001b[0m\u001b[1;33m,\u001b[0m\u001b[1;33m\u001b[0m\u001b[1;33m\u001b[0m\u001b[0m\n\u001b[0;32m    547\u001b[0m               \u001b[0mnum_outputs\u001b[0m\u001b[1;33m=\u001b[0m\u001b[0mself\u001b[0m\u001b[1;33m.\u001b[0m\u001b[0m_num_outputs\u001b[0m\u001b[1;33m,\u001b[0m\u001b[1;33m\u001b[0m\u001b[1;33m\u001b[0m\u001b[0m\n",
      "\u001b[1;32m~\\anaconda3\\lib\\site-packages\\tensorflow\\python\\eager\\execute.py\u001b[0m in \u001b[0;36mquick_execute\u001b[1;34m(op_name, num_outputs, inputs, attrs, ctx, name)\u001b[0m\n\u001b[0;32m     57\u001b[0m   \u001b[1;32mtry\u001b[0m\u001b[1;33m:\u001b[0m\u001b[1;33m\u001b[0m\u001b[1;33m\u001b[0m\u001b[0m\n\u001b[0;32m     58\u001b[0m     \u001b[0mctx\u001b[0m\u001b[1;33m.\u001b[0m\u001b[0mensure_initialized\u001b[0m\u001b[1;33m(\u001b[0m\u001b[1;33m)\u001b[0m\u001b[1;33m\u001b[0m\u001b[1;33m\u001b[0m\u001b[0m\n\u001b[1;32m---> 59\u001b[1;33m     tensors = pywrap_tfe.TFE_Py_Execute(ctx._handle, device_name, op_name,\n\u001b[0m\u001b[0;32m     60\u001b[0m                                         inputs, attrs, num_outputs)\n\u001b[0;32m     61\u001b[0m   \u001b[1;32mexcept\u001b[0m \u001b[0mcore\u001b[0m\u001b[1;33m.\u001b[0m\u001b[0m_NotOkStatusException\u001b[0m \u001b[1;32mas\u001b[0m \u001b[0me\u001b[0m\u001b[1;33m:\u001b[0m\u001b[1;33m\u001b[0m\u001b[1;33m\u001b[0m\u001b[0m\n",
      "\u001b[1;31mKeyboardInterrupt\u001b[0m: "
     ]
    }
   ],
   "source": [
    "model = Sequential() \n",
    "model.add(Embedding(max_words, 100)) \n",
    "model.add(LSTM(128))\n",
    "model.add(Dense(4, activation='softmax')) \n",
    "\n",
    "model.compile(optimizer='Adam', loss='categorical_crossentropy', metrics=['accuracy']) \n",
    "history = model.fit(X_train, y_train, epochs=12, batch_size=10, validation_split=0.1)"
   ]
  },
  {
   "cell_type": "code",
   "execution_count": 39,
   "metadata": {
    "scrolled": false
   },
   "outputs": [
    {
     "name": "stdout",
     "output_type": "stream",
     "text": [
      "116/116 [==============================] - 1s 5ms/step - loss: 1.8987 - accuracy: 0.6814\n",
      "\n",
      " 테스트 정확도 : 68.14%\n"
     ]
    }
   ],
   "source": [
    "print(\"\\n 테스트 정확도 : {:.2f}%\".format(model.evaluate(X_test, y_test)[1]*100))"
   ]
  },
  {
   "cell_type": "code",
   "execution_count": 40,
   "metadata": {},
   "outputs": [],
   "source": [
    "predict = model.predict(X_test)"
   ]
  },
  {
   "cell_type": "code",
   "execution_count": 41,
   "metadata": {},
   "outputs": [],
   "source": [
    "import numpy as np \n",
    "predict_labels = np.argmax(predict, axis=1) \n",
    "original_labels = np.argmax(y_test, axis=1)"
   ]
  },
  {
   "cell_type": "code",
   "execution_count": 42,
   "metadata": {
    "scrolled": false
   },
   "outputs": [
    {
     "name": "stdout",
     "output_type": "stream",
     "text": [
      "문장 / 단어 :  우리모두 준혁이성과 LG선수들이 선전할수 있게 기를 넣어줍시다. /\t 원래 라벨 :  3 /\t예측한 라벨 :  3\n",
      "문장 / 단어 :   웃긴거 알죠?~ㅋㅋ /\t 원래 라벨 :  3 /\t예측한 라벨 :  3\n",
      "문장 / 단어 :  덕분에 주방에서 요리하는게 넘 좋아졌어요 /\t 원래 라벨 :  3 /\t예측한 라벨 :  3\n",
      "문장 / 단어 :    마지막 순간 손가락으로 총을 만들어 쏘실때에는 제가 직접 맞는 것 같습니다. /\t 원래 라벨 :  3 /\t예측한 라벨 :  2\n",
      "문장 / 단어 :  어떻게 여성 요리사 보다 더 인기가 많으신지...저도 늘 반찬 만들때 따라하고 있답니다. /\t 원래 라벨 :  3 /\t예측한 라벨 :  3\n",
      "문장 / 단어 :  우리에게 맛있는 음식을 전하시는 백주부님 당신 멋져 /\t 원래 라벨 :  3 /\t예측한 라벨 :  3\n",
      "문장 / 단어 :    응원합니다.그리고..사랑합니다.  화이팅!!!! /\t 원래 라벨 :  3 /\t예측한 라벨 :  3\n",
      "문장 / 단어 :  원호 형님 형님이 올해 우리팀으로 온다고 해서 얼마나 기뻤는지 몰라요 /\t 원래 라벨 :  3 /\t예측한 라벨 :  3\n",
      "문장 / 단어 :  500일 축하해요 /\t 원래 라벨 :  3 /\t예측한 라벨 :  3\n",
      "문장 / 단어 :  생일진심으로 축하해요 /\t 원래 라벨 :  3 /\t예측한 라벨 :  3\n",
      "문장 / 단어 :    축하~!!! /\t 원래 라벨 :  3 /\t예측한 라벨 :  3\n",
      "문장 / 단어 :  요리가 차~암 쉽쥬~~~~^^ /\t 원래 라벨 :  3 /\t예측한 라벨 :  3\n",
      "문장 / 단어 :  요리의 매력에 빠졓슈 /\t 원래 라벨 :  3 /\t예측한 라벨 :  3\n",
      "문장 / 단어 :  예밤 300일 너무너무 축하해요 ^^ /\t 원래 라벨 :  3 /\t예측한 라벨 :  3\n",
      "문장 / 단어 :   항상 밝은 에너지덕분에 힘이 납니다!!! /\t 원래 라벨 :  3 /\t예측한 라벨 :  3\n",
      "문장 / 단어 :   대단하신 우리 백쌤, 화이팅요!! /\t 원래 라벨 :  3 /\t예측한 라벨 :  3\n",
      "문장 / 단어 :   화이팅!!^^ /\t 원래 라벨 :  3 /\t예측한 라벨 :  3\n",
      "문장 / 단어 :   제일처럼 기쁘고 좋은데.... /\t 원래 라벨 :  3 /\t예측한 라벨 :  1\n",
      "문장 / 단어 :  생일 축하해요 /\t 원래 라벨 :  3 /\t예측한 라벨 :  3\n",
      "문장 / 단어 :  덕분에 요리가 즐거워요~ /\t 원래 라벨 :  3 /\t예측한 라벨 :  3\n"
     ]
    }
   ],
   "source": [
    "for i in range(20): \n",
    "    print(\"문장 / 단어 : \", test_data['title'].iloc[i], \"/\\t 원래 라벨 : \", original_labels[i], \"/\\t예측한 라벨 : \", predict_labels[i])"
   ]
  },
  {
   "cell_type": "code",
   "execution_count": 43,
   "metadata": {},
   "outputs": [],
   "source": [
    "def sentiment_predict(new_sentence):\n",
    "  ang=0\n",
    "  sad=0\n",
    "  anx=0\n",
    "  joy = 0\n",
    "  num=[]\n",
    "  maxnum=0\n",
    "  new_sentence_1 = okt.morphs(new_sentence, stem=True) # 토큰화\n",
    "  new_sentence_1 = [word for word in new_sentence if not word in stopwords] # 불용어 제거\n",
    "  encoded = tokenizer.texts_to_sequences([new_sentence_1]) # 정수 인코딩\n",
    "  pad_new = pad_sequences(encoded, maxlen = max_len) # 패딩\n",
    "  predict1 = model.predict(pad_new)\n",
    "  predict_labels1 = np.argmax(predict1, axis=1)\n",
    "    \n",
    "  if(predict_labels1 == 0):\n",
    "#         print('[분노/혐오]',end=' ')\n",
    "#         print(new_sentence)\n",
    "#     ang+=1\n",
    "        return 0\n",
    "  elif(predict_labels1 == 1):\n",
    "#        print('[슬픔]',end=' ')\n",
    "#        print(new_sentence)\n",
    "#     sad+=1\n",
    "        return 1\n",
    "  elif(predict_labels1 == 2):\n",
    "#        print('[걱정/불안]',end=' ')\n",
    "#        print(new_sentence)\n",
    "#     anx+=1\n",
    "        return 2\n",
    "  elif(predict_labels1 == 3):\n",
    "#        print('[기쁨/긍정]',end=' ')\n",
    "#        print(new_sentence)\n",
    "#     joy+=1\n",
    "        return 3\n",
    "    "
   ]
  },
  {
   "cell_type": "code",
   "execution_count": 44,
   "metadata": {},
   "outputs": [],
   "source": [
    "a = 0\n",
    "b = 0\n",
    "c = 0\n",
    "d = 0\n",
    "def sentiment_predict(new_sentence):\n",
    "  new_sentence_1 = okt.morphs(new_sentence, stem=True) # 토큰화\n",
    "  new_sentence_1 = [word for word in new_sentence if not word in stopwords] # 불용어 제거\n",
    "  encoded = tokenizer.texts_to_sequences([new_sentence_1]) # 정수 인코딩\n",
    "  pad_new = pad_sequences(encoded, maxlen = max_len) # 패딩\n",
    "  predict1 = model.predict(pad_new)\n",
    "  predict_labels1 = np.argmax(predict1, axis=1)\n",
    "  if(predict_labels1 == 0):\n",
    "    global a\n",
    "    a=a+1\n",
    "    print('[분노/혐오]',end=' ')\n",
    "    print(new_sentence)\n",
    "  elif(predict_labels1 == 1):\n",
    "    global b\n",
    "    b=b+1\n",
    "    print('[슬픔]',end=' ')\n",
    "    print(new_sentence)\n",
    "  elif(predict_labels1 == 2):\n",
    "    global c\n",
    "    c=c+1\n",
    "    print('[걱정/불안]',end=' ')\n",
    "    print(new_sentence)\n",
    "  elif(predict_labels1 == 3):\n",
    "    global d\n",
    "    d=d+1\n",
    "    print('[기쁨/긍정]',end=' ')\n",
    "    print(new_sentence)"
   ]
  },
  {
   "cell_type": "code",
   "execution_count": 47,
   "metadata": {},
   "outputs": [
    {
     "name": "stdout",
     "output_type": "stream",
     "text": [
      "[' 띠용', ' 갑자기 만들어진 방이 당황스럽구나 ', ' 말좀 해봐 친구들아', ' 밥 먹었어?? ', ' 밥 방금먹었지', ' 응 나도 방금 먹었어', ' 파스타 먹었는데 너무 맛있더라!', ' ㅋㅋㅋㅋ맛있게 먹었니?', ' 헐 파스타 개부러워', ' 존맛이야~', ' 개맛있겠다', ' 말을 잘못해서 미안해 ㅜ', ' 똑바로 해라 한번에;', ' 나는 내일 시험이라 공부중이야ㅠ', ' 이거 언제 다하냐..', ' 과제해야지..', ' 시험기간이라 너무 힘들어..진심 ', ' 진짜 답없다', ' 할거 너무 많아', ' 학기끝나기전까지는 진짜 쉴틈이없다', ' 얼른 종강하고싶다', ' 그러게.. ', ' 종강해도... 팀프로젝트', ' 우리 팀플 그래도 잘 할 수 있을거야', ' 너무 걱정하지마', ' 맞아 열심히 해보자', ' 그래 힘내보자', ' 음 좀 징그러워서 별로 안좋아해', ' 응 나는 좋아해', ' 맞아 엄청 무섭더라고ㄷㄷ', ' 코로나때매 영화도 못보고 ㅜ', ' 엄청 재밌어 나중에 꼭 봐봐', ' 맞아 진짜 존잼이야ㅜ', ' 꼭 봐야겠다', ' 코로나 빨리 잠잠해지면 좋겠어', ' 걱정이 이만저만 아니야', ' 큰일이야.. 언제 잠잠 해질려나', ' 그러게 집에만 있으려니 너무 답답해', ' 나가서 놀고싶다ㅠ', ' 안녕하세요 반가워요', ' 네 안녕하세요', ' 오늘 날씨 좋네요', ' 제 생각에는 별로에요', ' 왜 그렇게 생각하세요?', ' 저는 더위를 많이타서요..', ' 아~ 그렇구나', ' 아 개짜증나네', ' 아 화나', ' 아니 이게 무슨일이야', ' 도와줘 제발', ' 개소리하지말고', ' 과제 때매 막막하다....', ' 발표 잘 됬으면 좋겠다', ' 너무 좋은데?', ' 와 개쩐다 ㅋㅋ', ' ㄹㅇ 쥰내 웃기네 ㅋㅋ', ' 천천히 하고와 ㅎㅎ', ' 역겹네 진짜', ' 돈이 걸려야 겜하는 새끼...', ' 아니 따라갈 수가 없네', ' 저걸 왜 하고 있는거지', ' 아니 이런건 어디서 찾았어 ㅋㅋㅋㅋ', ' 개병대 수준', ' 지린다 ㅋㅋㅋㅋㅋ']\n",
      "[기쁨/긍정]  띠용\n",
      "[기쁨/긍정]  갑자기 만들어진 방이 당황스럽구나 \n",
      "[기쁨/긍정]  말좀 해봐 친구들아\n",
      "[걱정/불안]  밥 먹었어?? \n",
      "[기쁨/긍정]  밥 방금먹었지\n",
      "[기쁨/긍정]  응 나도 방금 먹었어\n",
      "[분노/혐오]  파스타 먹었는데 너무 맛있더라!\n",
      "[기쁨/긍정]  ㅋㅋㅋㅋ맛있게 먹었니?\n",
      "[기쁨/긍정]  헐 파스타 개부러워\n",
      "[기쁨/긍정]  존맛이야~\n",
      "[분노/혐오]  개맛있겠다\n",
      "[슬픔]  말을 잘못해서 미안해 ㅜ\n",
      "[기쁨/긍정]  똑바로 해라 한번에;\n",
      "[슬픔]  나는 내일 시험이라 공부중이야ㅠ\n",
      "[분노/혐오]  이거 언제 다하냐..\n",
      "[기쁨/긍정]  과제해야지..\n",
      "[기쁨/긍정]  시험기간이라 너무 힘들어..진심 \n",
      "[걱정/불안]  진짜 답없다\n",
      "[분노/혐오]  할거 너무 많아\n",
      "[슬픔]  학기끝나기전까지는 진짜 쉴틈이없다\n",
      "[슬픔]  얼른 종강하고싶다\n",
      "[기쁨/긍정]  그러게.. \n",
      "[기쁨/긍정]  종강해도... 팀프로젝트\n",
      "[기쁨/긍정]  우리 팀플 그래도 잘 할 수 있을거야\n",
      "[걱정/불안]  너무 걱정하지마\n",
      "[기쁨/긍정]  맞아 열심히 해보자\n",
      "[기쁨/긍정]  그래 힘내보자\n",
      "[기쁨/긍정]  음 좀 징그러워서 별로 안좋아해\n",
      "[슬픔]  응 나는 좋아해\n",
      "[분노/혐오]  맞아 엄청 무섭더라고ㄷㄷ\n",
      "[걱정/불안]  코로나때매 영화도 못보고 ㅜ\n",
      "[기쁨/긍정]  엄청 재밌어 나중에 꼭 봐봐\n",
      "[기쁨/긍정]  맞아 진짜 존잼이야ㅜ\n",
      "[기쁨/긍정]  꼭 봐야겠다\n",
      "[걱정/불안]  코로나 빨리 잠잠해지면 좋겠어\n",
      "[슬픔]  걱정이 이만저만 아니야\n",
      "[슬픔]  큰일이야.. 언제 잠잠 해질려나\n",
      "[분노/혐오]  그러게 집에만 있으려니 너무 답답해\n",
      "[슬픔]  나가서 놀고싶다ㅠ\n",
      "[걱정/불안]  안녕하세요 반가워요\n",
      "[걱정/불안]  네 안녕하세요\n",
      "[기쁨/긍정]  오늘 날씨 좋네요\n",
      "[걱정/불안]  제 생각에는 별로에요\n",
      "[분노/혐오]  왜 그렇게 생각하세요?\n",
      "[걱정/불안]  저는 더위를 많이타서요..\n",
      "[기쁨/긍정]  아~ 그렇구나\n",
      "[분노/혐오]  아 개짜증나네\n",
      "[걱정/불안]  아 화나\n",
      "[분노/혐오]  아니 이게 무슨일이야\n",
      "[분노/혐오]  도와줘 제발\n",
      "[분노/혐오]  개소리하지말고\n",
      "[슬픔]  과제 때매 막막하다....\n",
      "[기쁨/긍정]  발표 잘 됬으면 좋겠다\n",
      "[분노/혐오]  너무 좋은데?\n",
      "[기쁨/긍정]  와 개쩐다 ㅋㅋ\n",
      "[기쁨/긍정]  ㄹㅇ 쥰내 웃기네 ㅋㅋ\n",
      "[기쁨/긍정]  천천히 하고와 ㅎㅎ\n",
      "[슬픔]  역겹네 진짜\n",
      "[기쁨/긍정]  돈이 걸려야 겜하는 새끼...\n",
      "[분노/혐오]  아니 따라갈 수가 없네\n",
      "[걱정/불안]  저걸 왜 하고 있는거지\n",
      "[기쁨/긍정]  아니 이런건 어디서 찾았어 ㅋㅋㅋㅋ\n",
      "[분노/혐오]  개병대 수준\n",
      "[기쁨/긍정]  지린다 ㅋㅋㅋㅋㅋ\n",
      "\n"
     ]
    }
   ],
   "source": [
    "import csv\n",
    "\n",
    "def read_data(filename):\n",
    "    save = []\n",
    "    f = open(filename,'r')\n",
    "    data = csv.reader(f)\n",
    "    for row in data:\n",
    "         save.append(row[2])\n",
    "    print(save)\n",
    "    for i in save:  \n",
    "        sentiment_predict(i)\n",
    "    print()\n",
    "read_data('group.csv')"
   ]
  },
  {
   "cell_type": "code",
   "execution_count": 20,
   "metadata": {
    "scrolled": true
   },
   "outputs": [
    {
     "name": "stdout",
     "output_type": "stream",
     "text": [
      " * Serving Flask app \"__main__\" (lazy loading)\n",
      " * Environment: production\n",
      "   WARNING: This is a development server. Do not use it in a production deployment.\n",
      "   Use a production WSGI server instead.\n",
      " * Debug mode: off\n"
     ]
    },
    {
     "name": "stderr",
     "output_type": "stream",
     "text": [
      " * Running on http://0.0.0.0:5000/ (Press CTRL+C to quit)\n",
      "192.168.117.1 - - [13/May/2021 14:25:47] \"\u001b[37mPOST /test HTTP/1.1\u001b[0m\" 200 -\n",
      "192.168.117.1 - - [13/May/2021 14:25:47] \"\u001b[37mPOST /test HTTP/1.1\u001b[0m\" 200 -\n",
      "192.168.117.1 - - [13/May/2021 14:25:47] \"\u001b[37mPOST /test HTTP/1.1\u001b[0m\" 200 -\n",
      "192.168.117.1 - - [13/May/2021 14:25:47] \"\u001b[37mPOST /test HTTP/1.1\u001b[0m\" 200 -\n",
      "192.168.117.1 - - [13/May/2021 14:25:47] \"\u001b[37mPOST /test HTTP/1.1\u001b[0m\" 200 -\n",
      "192.168.117.1 - - [13/May/2021 14:25:47] \"\u001b[37mPOST /test HTTP/1.1\u001b[0m\" 200 -\n"
     ]
    },
    {
     "name": "stdout",
     "output_type": "stream",
     "text": [
      "2\n",
      "3\n",
      "0\n",
      "2\n",
      "3\n",
      "1\n"
     ]
    },
    {
     "name": "stderr",
     "output_type": "stream",
     "text": [
      "192.168.117.1 - - [13/May/2021 14:25:47] \"\u001b[37mPOST /test HTTP/1.1\u001b[0m\" 200 -\n",
      "192.168.117.1 - - [13/May/2021 14:25:47] \"\u001b[37mPOST /test HTTP/1.1\u001b[0m\" 200 -\n",
      "192.168.117.1 - - [13/May/2021 14:25:47] \"\u001b[37mPOST /test HTTP/1.1\u001b[0m\" 200 -\n",
      "192.168.117.1 - - [13/May/2021 14:25:47] \"\u001b[37mPOST /test HTTP/1.1\u001b[0m\" 200 -\n",
      "192.168.117.1 - - [13/May/2021 14:25:47] \"\u001b[37mPOST /test HTTP/1.1\u001b[0m\" 200 -\n",
      "192.168.117.1 - - [13/May/2021 14:25:47] \"\u001b[37mPOST /test HTTP/1.1\u001b[0m\" 200 -\n",
      "192.168.117.1 - - [13/May/2021 14:25:47] \"\u001b[37mPOST /test HTTP/1.1\u001b[0m\" 200 -\n",
      "192.168.117.1 - - [13/May/2021 14:25:47] \"\u001b[37mPOST /test HTTP/1.1\u001b[0m\" 200 -\n"
     ]
    },
    {
     "name": "stdout",
     "output_type": "stream",
     "text": [
      "1\n",
      "0\n",
      "21\n",
      "\n",
      "1\n",
      "3\n",
      "2\n",
      "0\n"
     ]
    },
    {
     "name": "stderr",
     "output_type": "stream",
     "text": [
      "192.168.117.1 - - [13/May/2021 14:25:47] \"\u001b[37mPOST /test HTTP/1.1\u001b[0m\" 200 -\n",
      "192.168.117.1 - - [13/May/2021 14:25:47] \"\u001b[37mPOST /test HTTP/1.1\u001b[0m\" 200 -\n"
     ]
    },
    {
     "name": "stdout",
     "output_type": "stream",
     "text": [
      "3\n",
      "1\n"
     ]
    },
    {
     "name": "stderr",
     "output_type": "stream",
     "text": [
      "192.168.117.1 - - [13/May/2021 14:35:40] \"\u001b[37mPOST /test HTTP/1.1\u001b[0m\" 200 -\n",
      "192.168.117.1 - - [13/May/2021 14:35:40] \"\u001b[37mPOST /test HTTP/1.1\u001b[0m\" 200 -\n",
      "192.168.117.1 - - [13/May/2021 14:35:40] \"\u001b[37mPOST /test HTTP/1.1\u001b[0m\" 200 -\n",
      "192.168.117.1 - - [13/May/2021 14:35:40] \"\u001b[37mPOST /test HTTP/1.1\u001b[0m\" 200 -\n",
      "192.168.117.1 - - [13/May/2021 14:35:40] \"\u001b[37mPOST /test HTTP/1.1\u001b[0m\" 200 -\n"
     ]
    },
    {
     "name": "stdout",
     "output_type": "stream",
     "text": [
      "2\n",
      "0\n",
      "3\n",
      "3\n",
      "2\n"
     ]
    },
    {
     "name": "stderr",
     "output_type": "stream",
     "text": [
      "192.168.117.1 - - [13/May/2021 14:35:40] \"\u001b[37mPOST /test HTTP/1.1\u001b[0m\" 200 -\n",
      "192.168.117.1 - - [13/May/2021 14:35:40] \"\u001b[37mPOST /test HTTP/1.1\u001b[0m\" 200 -\n",
      "192.168.117.1 - - [13/May/2021 14:35:40] \"\u001b[37mPOST /test HTTP/1.1\u001b[0m\" 200 -\n",
      "192.168.117.1 - - [13/May/2021 14:35:40] \"\u001b[37mPOST /test HTTP/1.1\u001b[0m\" 200 -\n",
      "192.168.117.1 - - [13/May/2021 14:35:40] \"\u001b[37mPOST /test HTTP/1.1\u001b[0m\" 200 -\n"
     ]
    },
    {
     "name": "stdout",
     "output_type": "stream",
     "text": [
      "1\n",
      "1\n",
      "2\n",
      "0\n",
      "1\n"
     ]
    },
    {
     "name": "stderr",
     "output_type": "stream",
     "text": [
      "192.168.117.1 - - [13/May/2021 14:35:41] \"\u001b[37mPOST /test HTTP/1.1\u001b[0m\" 200 -\n",
      "192.168.117.1 - - [13/May/2021 14:35:41] \"\u001b[37mPOST /test HTTP/1.1\u001b[0m\" 200 -\n",
      "192.168.117.1 - - [13/May/2021 14:35:41] \"\u001b[37mPOST /test HTTP/1.1\u001b[0m\" 200 -\n",
      "192.168.117.1 - - [13/May/2021 14:35:41] \"\u001b[37mPOST /test HTTP/1.1\u001b[0m\" 200 -\n",
      "192.168.117.1 - - [13/May/2021 14:35:41] \"\u001b[37mPOST /test HTTP/1.1\u001b[0m\" 200 -\n",
      "192.168.117.1 - - [13/May/2021 14:35:41] \"\u001b[37mPOST /test HTTP/1.1\u001b[0m\" 200 -\n"
     ]
    },
    {
     "name": "stdout",
     "output_type": "stream",
     "text": [
      "1\n",
      "3\n",
      "2\n",
      "3\n",
      "0\n",
      "1\n"
     ]
    },
    {
     "name": "stderr",
     "output_type": "stream",
     "text": [
      "192.168.117.1 - - [13/May/2021 14:35:48] \"\u001b[37mPOST /test HTTP/1.1\u001b[0m\" 200 -\n",
      "192.168.117.1 - - [13/May/2021 14:35:48] \"\u001b[37mPOST /test HTTP/1.1\u001b[0m\" 200 -\n",
      "192.168.117.1 - - [13/May/2021 14:35:48] \"\u001b[37mPOST /test HTTP/1.1\u001b[0m\" 200 -\n",
      "192.168.117.1 - - [13/May/2021 14:35:48] \"\u001b[37mPOST /test HTTP/1.1\u001b[0m\" 200 -\n",
      "192.168.117.1 - - [13/May/2021 14:35:48] \"\u001b[37mPOST /test HTTP/1.1\u001b[0m\" 200 -\n"
     ]
    },
    {
     "name": "stdout",
     "output_type": "stream",
     "text": [
      "2\n",
      "3\n",
      "2\n",
      "3\n",
      "0\n"
     ]
    },
    {
     "name": "stderr",
     "output_type": "stream",
     "text": [
      "192.168.117.1 - - [13/May/2021 14:35:48] \"\u001b[37mPOST /test HTTP/1.1\u001b[0m\" 200 -\n",
      "192.168.117.1 - - [13/May/2021 14:35:48] \"\u001b[37mPOST /test HTTP/1.1\u001b[0m\" 200 -\n",
      "192.168.117.1 - - [13/May/2021 14:35:48] \"\u001b[37mPOST /test HTTP/1.1\u001b[0m\" 200 -\n",
      "192.168.117.1 - - [13/May/2021 14:35:48] \"\u001b[37mPOST /test HTTP/1.1\u001b[0m\" 200 -\n"
     ]
    },
    {
     "name": "stdout",
     "output_type": "stream",
     "text": [
      "1\n",
      "0\n",
      "2\n",
      "1\n"
     ]
    },
    {
     "name": "stderr",
     "output_type": "stream",
     "text": [
      "192.168.117.1 - - [13/May/2021 14:35:48] \"\u001b[37mPOST /test HTTP/1.1\u001b[0m\" 200 -\n",
      "192.168.117.1 - - [13/May/2021 14:35:48] \"\u001b[37mPOST /test HTTP/1.1\u001b[0m\" 200 -\n",
      "192.168.117.1 - - [13/May/2021 14:35:48] \"\u001b[37mPOST /test HTTP/1.1\u001b[0m\" 200 -\n",
      "192.168.117.1 - - [13/May/2021 14:35:48] \"\u001b[37mPOST /test HTTP/1.1\u001b[0m\" 200 -\n"
     ]
    },
    {
     "name": "stdout",
     "output_type": "stream",
     "text": [
      "1\n",
      "3\n",
      "2\n",
      "0\n"
     ]
    },
    {
     "name": "stderr",
     "output_type": "stream",
     "text": [
      "192.168.117.1 - - [13/May/2021 14:35:48] \"\u001b[37mPOST /test HTTP/1.1\u001b[0m\" 200 -\n",
      "192.168.117.1 - - [13/May/2021 14:35:48] \"\u001b[37mPOST /test HTTP/1.1\u001b[0m\" 200 -\n",
      "192.168.117.1 - - [13/May/2021 14:35:48] \"\u001b[37mPOST /test HTTP/1.1\u001b[0m\" 200 -\n"
     ]
    },
    {
     "name": "stdout",
     "output_type": "stream",
     "text": [
      "1\n",
      "1\n",
      "3\n"
     ]
    },
    {
     "name": "stderr",
     "output_type": "stream",
     "text": [
      "192.168.117.1 - - [13/May/2021 14:37:29] \"\u001b[37mPOST /test HTTP/1.1\u001b[0m\" 200 -\n",
      "192.168.117.1 - - [13/May/2021 14:37:29] \"\u001b[37mPOST /test HTTP/1.1\u001b[0m\" 200 -\n",
      "192.168.117.1 - - [13/May/2021 14:37:29] \"\u001b[37mPOST /test HTTP/1.1\u001b[0m\" 200 -\n",
      "192.168.117.1 - - [13/May/2021 14:37:29] \"\u001b[37mPOST /test HTTP/1.1\u001b[0m\" 200 -\n",
      "192.168.117.1 - - [13/May/2021 14:37:29] \"\u001b[37mPOST /test HTTP/1.1\u001b[0m\" 200 -\n"
     ]
    },
    {
     "name": "stdout",
     "output_type": "stream",
     "text": [
      "2\n",
      "3\n",
      "0\n",
      "23\n",
      "\n"
     ]
    },
    {
     "name": "stderr",
     "output_type": "stream",
     "text": [
      "192.168.117.1 - - [13/May/2021 14:37:29] \"\u001b[37mPOST /test HTTP/1.1\u001b[0m\" 200 -\n",
      "192.168.117.1 - - [13/May/2021 14:37:29] \"\u001b[37mPOST /test HTTP/1.1\u001b[0m\" 200 -\n",
      "192.168.117.1 - - [13/May/2021 14:37:29] \"\u001b[37mPOST /test HTTP/1.1\u001b[0m\" 200 -\n",
      "192.168.117.1 - - [13/May/2021 14:37:29] \"\u001b[37mPOST /test HTTP/1.1\u001b[0m\" 200 -\n",
      "192.168.117.1 - - [13/May/2021 14:37:29] \"\u001b[37mPOST /test HTTP/1.1\u001b[0m\" 200 -\n"
     ]
    },
    {
     "name": "stdout",
     "output_type": "stream",
     "text": [
      "1\n",
      "10\n",
      "\n",
      "1\n",
      "2\n"
     ]
    },
    {
     "name": "stderr",
     "output_type": "stream",
     "text": [
      "192.168.117.1 - - [13/May/2021 14:37:30] \"\u001b[37mPOST /test HTTP/1.1\u001b[0m\" 200 -\n",
      "192.168.117.1 - - [13/May/2021 14:37:30] \"\u001b[37mPOST /test HTTP/1.1\u001b[0m\" 200 -\n",
      "192.168.117.1 - - [13/May/2021 14:37:30] \"\u001b[37mPOST /test HTTP/1.1\u001b[0m\" 200 -\n",
      "192.168.117.1 - - [13/May/2021 14:37:30] \"\u001b[37mPOST /test HTTP/1.1\u001b[0m\" 200 -\n",
      "192.168.117.1 - - [13/May/2021 14:37:30] \"\u001b[37mPOST /test HTTP/1.1\u001b[0m\" 200 -\n",
      "192.168.117.1 - - [13/May/2021 14:37:30] \"\u001b[37mPOST /test HTTP/1.1\u001b[0m\" 200 -\n"
     ]
    },
    {
     "name": "stdout",
     "output_type": "stream",
     "text": [
      "1\n",
      "3\n",
      "2\n",
      "0\n",
      "3\n",
      "1\n"
     ]
    },
    {
     "name": "stderr",
     "output_type": "stream",
     "text": [
      "192.168.117.1 - - [13/May/2021 14:37:35] \"\u001b[37mPOST /test HTTP/1.1\u001b[0m\" 200 -\n",
      "192.168.117.1 - - [13/May/2021 14:37:35] \"\u001b[37mPOST /test HTTP/1.1\u001b[0m\" 200 -\n",
      "192.168.117.1 - - [13/May/2021 14:37:35] \"\u001b[37mPOST /test HTTP/1.1\u001b[0m\" 200 -\n",
      "192.168.117.1 - - [13/May/2021 14:37:35] \"\u001b[37mPOST /test HTTP/1.1\u001b[0m\" 200 -\n",
      "192.168.117.1 - - [13/May/2021 14:37:35] \"\u001b[37mPOST /test HTTP/1.1\u001b[0m\" 200 -\n"
     ]
    },
    {
     "name": "stdout",
     "output_type": "stream",
     "text": [
      "0\n",
      "3\n",
      "2\n",
      "32\n",
      "\n"
     ]
    },
    {
     "name": "stderr",
     "output_type": "stream",
     "text": [
      "192.168.117.1 - - [13/May/2021 14:37:35] \"\u001b[37mPOST /test HTTP/1.1\u001b[0m\" 200 -\n",
      "192.168.117.1 - - [13/May/2021 14:37:35] \"\u001b[37mPOST /test HTTP/1.1\u001b[0m\" 200 -\n",
      "192.168.117.1 - - [13/May/2021 14:37:35] \"\u001b[37mPOST /test HTTP/1.1\u001b[0m\" 200 -\n",
      "192.168.117.1 - - [13/May/2021 14:37:35] \"\u001b[37mPOST /test HTTP/1.1\u001b[0m\" 200 -\n",
      "192.168.117.1 - - [13/May/2021 14:37:35] \"\u001b[37mPOST /test HTTP/1.1\u001b[0m\" 200 -\n"
     ]
    },
    {
     "name": "stdout",
     "output_type": "stream",
     "text": [
      "11\n",
      "\n",
      "0\n",
      "1\n",
      "2\n"
     ]
    },
    {
     "name": "stderr",
     "output_type": "stream",
     "text": [
      "192.168.117.1 - - [13/May/2021 14:37:36] \"\u001b[37mPOST /test HTTP/1.1\u001b[0m\" 200 -\n",
      "192.168.117.1 - - [13/May/2021 14:37:36] \"\u001b[37mPOST /test HTTP/1.1\u001b[0m\" 200 -\n",
      "192.168.117.1 - - [13/May/2021 14:37:36] \"\u001b[37mPOST /test HTTP/1.1\u001b[0m\" 200 -\n",
      "192.168.117.1 - - [13/May/2021 14:37:36] \"\u001b[37mPOST /test HTTP/1.1\u001b[0m\" 200 -\n",
      "192.168.117.1 - - [13/May/2021 14:37:36] \"\u001b[37mPOST /test HTTP/1.1\u001b[0m\" 200 -\n",
      "192.168.117.1 - - [13/May/2021 14:37:36] \"\u001b[37mPOST /test HTTP/1.1\u001b[0m\" 200 -\n"
     ]
    },
    {
     "name": "stdout",
     "output_type": "stream",
     "text": [
      "1\n",
      "20\n",
      "\n",
      "33\n",
      "\n",
      "1\n"
     ]
    },
    {
     "name": "stderr",
     "output_type": "stream",
     "text": [
      "192.168.117.1 - - [13/May/2021 14:39:51] \"\u001b[37mPOST /test HTTP/1.1\u001b[0m\" 200 -\n",
      "192.168.117.1 - - [13/May/2021 14:39:51] \"\u001b[37mPOST /test HTTP/1.1\u001b[0m\" 200 -\n",
      "192.168.117.1 - - [13/May/2021 14:39:51] \"\u001b[37mPOST /test HTTP/1.1\u001b[0m\" 200 -\n",
      "192.168.117.1 - - [13/May/2021 14:39:51] \"\u001b[37mPOST /test HTTP/1.1\u001b[0m\" 200 -\n",
      "192.168.117.1 - - [13/May/2021 14:39:51] \"\u001b[37mPOST /test HTTP/1.1\u001b[0m\" 200 -\n",
      "192.168.117.1 - - [13/May/2021 14:39:51] \"\u001b[37mPOST /test HTTP/1.1\u001b[0m\" 200 -\n"
     ]
    },
    {
     "name": "stdout",
     "output_type": "stream",
     "text": [
      "2\n",
      "0\n",
      "3\n",
      "32\n",
      "\n",
      "1\n"
     ]
    },
    {
     "name": "stderr",
     "output_type": "stream",
     "text": [
      "192.168.117.1 - - [13/May/2021 14:39:51] \"\u001b[37mPOST /test HTTP/1.1\u001b[0m\" 200 -\n",
      "192.168.117.1 - - [13/May/2021 14:39:51] \"\u001b[37mPOST /test HTTP/1.1\u001b[0m\" 200 -\n",
      "192.168.117.1 - - [13/May/2021 14:39:51] \"\u001b[37mPOST /test HTTP/1.1\u001b[0m\" 200 -\n",
      "192.168.117.1 - - [13/May/2021 14:39:51] \"\u001b[37mPOST /test HTTP/1.1\u001b[0m\" 200 -\n"
     ]
    },
    {
     "name": "stdout",
     "output_type": "stream",
     "text": [
      "1\n",
      "1\n",
      "0\n",
      "2\n"
     ]
    },
    {
     "name": "stderr",
     "output_type": "stream",
     "text": [
      "192.168.117.1 - - [13/May/2021 14:39:51] \"\u001b[37mPOST /test HTTP/1.1\u001b[0m\" 200 -\n",
      "192.168.117.1 - - [13/May/2021 14:39:51] \"\u001b[37mPOST /test HTTP/1.1\u001b[0m\" 200 -\n",
      "192.168.117.1 - - [13/May/2021 14:39:51] \"\u001b[37mPOST /test HTTP/1.1\u001b[0m\" 200 -\n",
      "192.168.117.1 - - [13/May/2021 14:39:51] \"\u001b[37mPOST /test HTTP/1.1\u001b[0m\" 200 -\n",
      "192.168.117.1 - - [13/May/2021 14:39:51] \"\u001b[37mPOST /test HTTP/1.1\u001b[0m\" 200 -\n",
      "192.168.117.1 - - [13/May/2021 14:39:51] \"\u001b[37mPOST /test HTTP/1.1\u001b[0m\" 200 -\n"
     ]
    },
    {
     "name": "stdout",
     "output_type": "stream",
     "text": [
      "1\n",
      "2\n",
      "3\n",
      "0\n",
      "3\n",
      "1\n"
     ]
    },
    {
     "name": "stderr",
     "output_type": "stream",
     "text": [
      "192.168.117.1 - - [13/May/2021 14:40:08] \"\u001b[37mPOST /test HTTP/1.1\u001b[0m\" 200 -\n",
      "192.168.117.1 - - [13/May/2021 14:40:08] \"\u001b[37mPOST /test HTTP/1.1\u001b[0m\" 200 -\n",
      "192.168.117.1 - - [13/May/2021 14:40:08] \"\u001b[37mPOST /test HTTP/1.1\u001b[0m\" 200 -\n",
      "192.168.117.1 - - [13/May/2021 14:40:08] \"\u001b[37mPOST /test HTTP/1.1\u001b[0m\" 200 -\n",
      "192.168.117.1 - - [13/May/2021 14:40:08] \"\u001b[37mPOST /test HTTP/1.1\u001b[0m\" 200 -\n"
     ]
    },
    {
     "name": "stdout",
     "output_type": "stream",
     "text": [
      "2\n",
      "3\n",
      "0\n",
      "2\n",
      "3\n"
     ]
    },
    {
     "name": "stderr",
     "output_type": "stream",
     "text": [
      "192.168.117.1 - - [13/May/2021 14:40:09] \"\u001b[37mPOST /test HTTP/1.1\u001b[0m\" 200 -\n",
      "192.168.117.1 - - [13/May/2021 14:40:09] \"\u001b[37mPOST /test HTTP/1.1\u001b[0m\" 200 -\n",
      "192.168.117.1 - - [13/May/2021 14:40:09] \"\u001b[37mPOST /test HTTP/1.1\u001b[0m\" 200 -\n",
      "192.168.117.1 - - [13/May/2021 14:40:09] \"\u001b[37mPOST /test HTTP/1.1\u001b[0m\" 200 -\n"
     ]
    },
    {
     "name": "stdout",
     "output_type": "stream",
     "text": [
      "0\n",
      "1\n",
      "1\n",
      "1\n"
     ]
    },
    {
     "name": "stderr",
     "output_type": "stream",
     "text": [
      "192.168.117.1 - - [13/May/2021 14:40:09] \"\u001b[37mPOST /test HTTP/1.1\u001b[0m\" 200 -\n",
      "192.168.117.1 - - [13/May/2021 14:40:09] \"\u001b[37mPOST /test HTTP/1.1\u001b[0m\" 200 -\n",
      "192.168.117.1 - - [13/May/2021 14:40:09] \"\u001b[37mPOST /test HTTP/1.1\u001b[0m\" 200 -\n",
      "192.168.117.1 - - [13/May/2021 14:40:09] \"\u001b[37mPOST /test HTTP/1.1\u001b[0m\" 200 -\n",
      "192.168.117.1 - - [13/May/2021 14:40:09] \"\u001b[37mPOST /test HTTP/1.1\u001b[0m\" 200 -\n",
      "192.168.117.1 - - [13/May/2021 14:40:09] \"\u001b[37mPOST /test HTTP/1.1\u001b[0m\" 200 -\n",
      "192.168.117.1 - - [13/May/2021 14:40:09] \"\u001b[37mPOST /test HTTP/1.1\u001b[0m\" 200 -\n"
     ]
    },
    {
     "name": "stdout",
     "output_type": "stream",
     "text": [
      "3\n",
      "1\n",
      "0\n",
      "2\n",
      "3\n",
      "2\n",
      "1\n"
     ]
    },
    {
     "name": "stderr",
     "output_type": "stream",
     "text": [
      "192.168.117.1 - - [13/May/2021 14:40:13] \"\u001b[37mPOST /test HTTP/1.1\u001b[0m\" 200 -\n",
      "192.168.117.1 - - [13/May/2021 14:40:13] \"\u001b[37mPOST /test HTTP/1.1\u001b[0m\" 200 -\n",
      "192.168.117.1 - - [13/May/2021 14:40:13] \"\u001b[37mPOST /test HTTP/1.1\u001b[0m\" 200 -\n",
      "192.168.117.1 - - [13/May/2021 14:40:13] \"\u001b[37mPOST /test HTTP/1.1\u001b[0m\" 200 -\n",
      "192.168.117.1 - - [13/May/2021 14:40:13] \"\u001b[37mPOST /test HTTP/1.1\u001b[0m\" 200 -\n"
     ]
    },
    {
     "name": "stdout",
     "output_type": "stream",
     "text": [
      "0\n",
      "2\n",
      "3\n",
      "3\n",
      "2\n"
     ]
    },
    {
     "name": "stderr",
     "output_type": "stream",
     "text": [
      "192.168.117.1 - - [13/May/2021 14:40:13] \"\u001b[37mPOST /test HTTP/1.1\u001b[0m\" 200 -\n",
      "192.168.117.1 - - [13/May/2021 14:40:13] \"\u001b[37mPOST /test HTTP/1.1\u001b[0m\" 200 -\n",
      "192.168.117.1 - - [13/May/2021 14:40:13] \"\u001b[37mPOST /test HTTP/1.1\u001b[0m\" 200 -\n",
      "192.168.117.1 - - [13/May/2021 14:40:13] \"\u001b[37mPOST /test HTTP/1.1\u001b[0m\" 200 -\n",
      "192.168.117.1 - - [13/May/2021 14:40:13] \"\u001b[37mPOST /test HTTP/1.1\u001b[0m\" 200 -\n"
     ]
    },
    {
     "name": "stdout",
     "output_type": "stream",
     "text": [
      "1\n",
      "1\n",
      "0\n",
      "1\n",
      "2\n"
     ]
    },
    {
     "name": "stderr",
     "output_type": "stream",
     "text": [
      "192.168.117.1 - - [13/May/2021 14:40:13] \"\u001b[37mPOST /test HTTP/1.1\u001b[0m\" 200 -\n",
      "192.168.117.1 - - [13/May/2021 14:40:13] \"\u001b[37mPOST /test HTTP/1.1\u001b[0m\" 200 -\n",
      "192.168.117.1 - - [13/May/2021 14:40:13] \"\u001b[37mPOST /test HTTP/1.1\u001b[0m\" 200 -\n",
      "192.168.117.1 - - [13/May/2021 14:40:13] \"\u001b[37mPOST /test HTTP/1.1\u001b[0m\" 200 -\n",
      "192.168.117.1 - - [13/May/2021 14:40:13] \"\u001b[37mPOST /test HTTP/1.1\u001b[0m\" 200 -\n",
      "192.168.117.1 - - [13/May/2021 14:40:13] \"\u001b[37mPOST /test HTTP/1.1\u001b[0m\" 200 -\n"
     ]
    },
    {
     "name": "stdout",
     "output_type": "stream",
     "text": [
      "1\n",
      "3\n",
      "0\n",
      "3\n",
      "2\n",
      "1\n"
     ]
    },
    {
     "name": "stderr",
     "output_type": "stream",
     "text": [
      "192.168.117.1 - - [13/May/2021 14:40:16] \"\u001b[37mPOST /test HTTP/1.1\u001b[0m\" 200 -\n",
      "192.168.117.1 - - [13/May/2021 14:40:16] \"\u001b[37mPOST /test HTTP/1.1\u001b[0m\" 200 -\n",
      "192.168.117.1 - - [13/May/2021 14:40:16] \"\u001b[37mPOST /test HTTP/1.1\u001b[0m\" 200 -\n",
      "192.168.117.1 - - [13/May/2021 14:40:16] \"\u001b[37mPOST /test HTTP/1.1\u001b[0m\" 200 -\n",
      "192.168.117.1 - - [13/May/2021 14:40:16] \"\u001b[37mPOST /test HTTP/1.1\u001b[0m\" 200 -\n"
     ]
    },
    {
     "name": "stdout",
     "output_type": "stream",
     "text": [
      "2\n",
      "3\n",
      "2\n",
      "3\n",
      "0\n"
     ]
    },
    {
     "name": "stderr",
     "output_type": "stream",
     "text": [
      "192.168.117.1 - - [13/May/2021 14:40:16] \"\u001b[37mPOST /test HTTP/1.1\u001b[0m\" 200 -\n",
      "192.168.117.1 - - [13/May/2021 14:40:17] \"\u001b[37mPOST /test HTTP/1.1\u001b[0m\" 200 -\n",
      "192.168.117.1 - - [13/May/2021 14:40:17] \"\u001b[37mPOST /test HTTP/1.1\u001b[0m\" 200 -\n"
     ]
    },
    {
     "name": "stdout",
     "output_type": "stream",
     "text": [
      "1\n",
      "1\n",
      "2\n",
      "1\n"
     ]
    },
    {
     "name": "stderr",
     "output_type": "stream",
     "text": [
      "192.168.117.1 - - [13/May/2021 14:40:17] \"\u001b[37mPOST /test HTTP/1.1\u001b[0m\" 200 -\n",
      "192.168.117.1 - - [13/May/2021 14:40:17] \"\u001b[37mPOST /test HTTP/1.1\u001b[0m\" 200 -\n",
      "192.168.117.1 - - [13/May/2021 14:40:17] \"\u001b[37mPOST /test HTTP/1.1\u001b[0m\" 200 -\n",
      "192.168.117.1 - - [13/May/2021 14:40:17] \"\u001b[37mPOST /test HTTP/1.1\u001b[0m\" 200 -\n"
     ]
    },
    {
     "name": "stdout",
     "output_type": "stream",
     "text": [
      "0\n",
      "1\n",
      "3\n",
      "2"
     ]
    },
    {
     "name": "stderr",
     "output_type": "stream",
     "text": [
      "192.168.117.1 - - [13/May/2021 14:40:17] \"\u001b[37mPOST /test HTTP/1.1\u001b[0m\" 200 -\n",
      "192.168.117.1 - - [13/May/2021 14:40:17] \"\u001b[37mPOST /test HTTP/1.1\u001b[0m\" 200 -\n",
      "192.168.117.1 - - [13/May/2021 14:40:17] \"\u001b[37mPOST /test HTTP/1.1\u001b[0m\" 200 -\n",
      "192.168.117.1 - - [13/May/2021 14:40:17] \"\u001b[37mPOST /test HTTP/1.1\u001b[0m\" 200 -\n"
     ]
    },
    {
     "name": "stdout",
     "output_type": "stream",
     "text": [
      "\n",
      "0\n",
      "3\n",
      "1\n"
     ]
    },
    {
     "name": "stderr",
     "output_type": "stream",
     "text": [
      "192.168.117.1 - - [13/May/2021 14:41:54] \"\u001b[37mPOST /test HTTP/1.1\u001b[0m\" 200 -\n",
      "192.168.117.1 - - [13/May/2021 14:41:54] \"\u001b[37mPOST /test HTTP/1.1\u001b[0m\" 200 -\n",
      "192.168.117.1 - - [13/May/2021 14:41:54] \"\u001b[37mPOST /test HTTP/1.1\u001b[0m\" 200 -\n",
      "192.168.117.1 - - [13/May/2021 14:41:54] \"\u001b[37mPOST /test HTTP/1.1\u001b[0m\" 200 -\n",
      "192.168.117.1 - - [13/May/2021 14:41:54] \"\u001b[37mPOST /test HTTP/1.1\u001b[0m\" 200 -\n"
     ]
    },
    {
     "name": "stdout",
     "output_type": "stream",
     "text": [
      "3\n",
      "2\n",
      "0\n",
      "23\n",
      "\n"
     ]
    },
    {
     "name": "stderr",
     "output_type": "stream",
     "text": [
      "192.168.117.1 - - [13/May/2021 14:41:54] \"\u001b[37mPOST /test HTTP/1.1\u001b[0m\" 200 -\n",
      "192.168.117.1 - - [13/May/2021 14:41:54] \"\u001b[37mPOST /test HTTP/1.1\u001b[0m\" 200 -\n",
      "192.168.117.1 - - [13/May/2021 14:41:54] \"\u001b[37mPOST /test HTTP/1.1\u001b[0m\" 200 -\n",
      "192.168.117.1 - - [13/May/2021 14:41:54] \"\u001b[37mPOST /test HTTP/1.1\u001b[0m\" 200 -\n",
      "192.168.117.1 - - [13/May/2021 14:41:54] \"\u001b[37mPOST /test HTTP/1.1\u001b[0m\" 200 -\n"
     ]
    },
    {
     "name": "stdout",
     "output_type": "stream",
     "text": [
      "11\n",
      "\n",
      "0\n",
      "12\n",
      "\n"
     ]
    },
    {
     "name": "stderr",
     "output_type": "stream",
     "text": [
      "192.168.117.1 - - [13/May/2021 14:41:54] \"\u001b[37mPOST /test HTTP/1.1\u001b[0m\" 200 -\n",
      "192.168.117.1 - - [13/May/2021 14:41:54] \"\u001b[37mPOST /test HTTP/1.1\u001b[0m\" 200 -\n",
      "192.168.117.1 - - [13/May/2021 14:41:54] \"\u001b[37mPOST /test HTTP/1.1\u001b[0m\" 200 -\n",
      "192.168.117.1 - - [13/May/2021 14:41:54] \"\u001b[37mPOST /test HTTP/1.1\u001b[0m\" 200 -\n",
      "192.168.117.1 - - [13/May/2021 14:41:54] \"\u001b[37mPOST /test HTTP/1.1\u001b[0m\" 200 -\n",
      "192.168.117.1 - - [13/May/2021 14:41:54] \"\u001b[37mPOST /test HTTP/1.1\u001b[0m\" 200 -\n"
     ]
    },
    {
     "name": "stdout",
     "output_type": "stream",
     "text": [
      "13\n",
      "\n",
      "2\n",
      "3\n",
      "0\n",
      "1\n"
     ]
    },
    {
     "name": "stderr",
     "output_type": "stream",
     "text": [
      "192.168.117.1 - - [13/May/2021 14:42:04] \"\u001b[37mPOST /test HTTP/1.1\u001b[0m\" 200 -\n",
      "192.168.117.1 - - [13/May/2021 14:42:04] \"\u001b[37mPOST /test HTTP/1.1\u001b[0m\" 200 -\n",
      "192.168.117.1 - - [13/May/2021 14:42:04] \"\u001b[37mPOST /test HTTP/1.1\u001b[0m\" 200 -\n",
      "192.168.117.1 - - [13/May/2021 14:42:04] \"\u001b[37mPOST /test HTTP/1.1\u001b[0m\" 200 -\n",
      "192.168.117.1 - - [13/May/2021 14:42:04] \"\u001b[37mPOST /test HTTP/1.1\u001b[0m\" 200 -\n"
     ]
    },
    {
     "name": "stdout",
     "output_type": "stream",
     "text": [
      "3\n",
      "0\n",
      "2\n",
      "32\n",
      "\n"
     ]
    },
    {
     "name": "stderr",
     "output_type": "stream",
     "text": [
      "192.168.117.1 - - [13/May/2021 14:42:04] \"\u001b[37mPOST /test HTTP/1.1\u001b[0m\" 200 -\n",
      "192.168.117.1 - - [13/May/2021 14:42:04] \"\u001b[37mPOST /test HTTP/1.1\u001b[0m\" 200 -\n",
      "192.168.117.1 - - [13/May/2021 14:42:04] \"\u001b[37mPOST /test HTTP/1.1\u001b[0m\" 200 -\n",
      "192.168.117.1 - - [13/May/2021 14:42:04] \"\u001b[37mPOST /test HTTP/1.1\u001b[0m\" 200 -\n",
      "192.168.117.1 - - [13/May/2021 14:42:04] \"\u001b[37mPOST /test HTTP/1.1\u001b[0m\" 200 -\n"
     ]
    },
    {
     "name": "stdout",
     "output_type": "stream",
     "text": [
      "1\n",
      "0\n",
      "1\n",
      "1\n",
      "1\n"
     ]
    },
    {
     "name": "stderr",
     "output_type": "stream",
     "text": [
      "192.168.117.1 - - [13/May/2021 14:42:04] \"\u001b[37mPOST /test HTTP/1.1\u001b[0m\" 200 -\n",
      "192.168.117.1 - - [13/May/2021 14:42:04] \"\u001b[37mPOST /test HTTP/1.1\u001b[0m\" 200 -\n",
      "192.168.117.1 - - [13/May/2021 14:42:04] \"\u001b[37mPOST /test HTTP/1.1\u001b[0m\" 200 -\n"
     ]
    },
    {
     "name": "stdout",
     "output_type": "stream",
     "text": [
      "3\n",
      "2\n",
      "0\n",
      "3"
     ]
    },
    {
     "name": "stderr",
     "output_type": "stream",
     "text": [
      "192.168.117.1 - - [13/May/2021 14:42:04] \"\u001b[37mPOST /test HTTP/1.1\u001b[0m\" 200 -\n",
      "192.168.117.1 - - [13/May/2021 14:42:04] \"\u001b[37mPOST /test HTTP/1.1\u001b[0m\" 200 -\n",
      "192.168.117.1 - - [13/May/2021 14:42:05] \"\u001b[37mPOST /test HTTP/1.1\u001b[0m\" 200 -\n"
     ]
    },
    {
     "name": "stdout",
     "output_type": "stream",
     "text": [
      "\n",
      "1\n",
      "2\n"
     ]
    },
    {
     "name": "stderr",
     "output_type": "stream",
     "text": [
      "192.168.117.1 - - [13/May/2021 14:45:40] \"\u001b[37mPOST /test HTTP/1.1\u001b[0m\" 200 -\n",
      "192.168.117.1 - - [13/May/2021 14:45:40] \"\u001b[37mPOST /test HTTP/1.1\u001b[0m\" 200 -\n",
      "192.168.117.1 - - [13/May/2021 14:45:40] \"\u001b[37mPOST /test HTTP/1.1\u001b[0m\" 200 -\n",
      "192.168.117.1 - - [13/May/2021 14:45:40] \"\u001b[37mPOST /test HTTP/1.1\u001b[0m\" 200 -\n",
      "192.168.117.1 - - [13/May/2021 14:45:40] \"\u001b[37mPOST /test HTTP/1.1\u001b[0m\" 200 -\n"
     ]
    },
    {
     "name": "stdout",
     "output_type": "stream",
     "text": [
      "2\n",
      "2\n",
      "3\n",
      "0\n",
      "3\n"
     ]
    },
    {
     "name": "stderr",
     "output_type": "stream",
     "text": [
      "192.168.117.1 - - [13/May/2021 14:45:40] \"\u001b[37mPOST /test HTTP/1.1\u001b[0m\" 200 -\n",
      "192.168.117.1 - - [13/May/2021 14:45:41] \"\u001b[37mPOST /test HTTP/1.1\u001b[0m\" 200 -\n",
      "192.168.117.1 - - [13/May/2021 14:45:41] \"\u001b[37mPOST /test HTTP/1.1\u001b[0m\" 200 -\n",
      "192.168.117.1 - - [13/May/2021 14:45:41] \"\u001b[37mPOST /test HTTP/1.1\u001b[0m\" 200 -\n",
      "192.168.117.1 - - [13/May/2021 14:45:41] \"\u001b[37mPOST /test HTTP/1.1\u001b[0m\" 200 -\n"
     ]
    },
    {
     "name": "stdout",
     "output_type": "stream",
     "text": [
      "1\n",
      "1\n",
      "1\n",
      "0\n",
      "2\n"
     ]
    },
    {
     "name": "stderr",
     "output_type": "stream",
     "text": [
      "192.168.117.1 - - [13/May/2021 14:45:41] \"\u001b[37mPOST /test HTTP/1.1\u001b[0m\" 200 -\n",
      "192.168.117.1 - - [13/May/2021 14:45:41] \"\u001b[37mPOST /test HTTP/1.1\u001b[0m\" 200 -\n",
      "192.168.117.1 - - [13/May/2021 14:45:41] \"\u001b[37mPOST /test HTTP/1.1\u001b[0m\" 200 -\n",
      "192.168.117.1 - - [13/May/2021 14:45:41] \"\u001b[37mPOST /test HTTP/1.1\u001b[0m\" 200 -\n",
      "192.168.117.1 - - [13/May/2021 14:45:41] \"\u001b[37mPOST /test HTTP/1.1\u001b[0m\" 200 -\n",
      "192.168.117.1 - - [13/May/2021 14:45:41] \"\u001b[37mPOST /test HTTP/1.1\u001b[0m\" 200 -\n"
     ]
    },
    {
     "name": "stdout",
     "output_type": "stream",
     "text": [
      "1\n",
      "3\n",
      "2\n",
      "3\n",
      "0\n",
      "1\n"
     ]
    },
    {
     "name": "stderr",
     "output_type": "stream",
     "text": [
      "192.168.117.1 - - [13/May/2021 14:45:46] \"\u001b[37mPOST /test HTTP/1.1\u001b[0m\" 200 -\n",
      "192.168.117.1 - - [13/May/2021 14:45:46] \"\u001b[37mPOST /test HTTP/1.1\u001b[0m\" 200 -\n",
      "192.168.117.1 - - [13/May/2021 14:45:46] \"\u001b[37mPOST /test HTTP/1.1\u001b[0m\" 200 -\n",
      "192.168.117.1 - - [13/May/2021 14:45:46] \"\u001b[37mPOST /test HTTP/1.1\u001b[0m\" 200 -\n",
      "192.168.117.1 - - [13/May/2021 14:45:46] \"\u001b[37mPOST /test HTTP/1.1\u001b[0m\" 200 -\n"
     ]
    },
    {
     "name": "stdout",
     "output_type": "stream",
     "text": [
      "0\n",
      "2\n",
      "3\n",
      "2\n",
      "3\n"
     ]
    },
    {
     "name": "stderr",
     "output_type": "stream",
     "text": [
      "192.168.117.1 - - [13/May/2021 14:45:46] \"\u001b[37mPOST /test HTTP/1.1\u001b[0m\" 200 -\n",
      "192.168.117.1 - - [13/May/2021 14:45:46] \"\u001b[37mPOST /test HTTP/1.1\u001b[0m\" 200 -\n",
      "192.168.117.1 - - [13/May/2021 14:45:46] \"\u001b[37mPOST /test HTTP/1.1\u001b[0m\" 200 -\n",
      "192.168.117.1 - - [13/May/2021 14:45:46] \"\u001b[37mPOST /test HTTP/1.1\u001b[0m\" 200 -\n",
      "192.168.117.1 - - [13/May/2021 14:45:46] \"\u001b[37mPOST /test HTTP/1.1\u001b[0m\" 200 -\n"
     ]
    },
    {
     "name": "stdout",
     "output_type": "stream",
     "text": [
      "1\n",
      "1\n",
      "0\n",
      "2\n",
      "1\n"
     ]
    },
    {
     "name": "stderr",
     "output_type": "stream",
     "text": [
      "192.168.117.1 - - [13/May/2021 14:45:47] \"\u001b[37mPOST /test HTTP/1.1\u001b[0m\" 200 -\n",
      "192.168.117.1 - - [13/May/2021 14:45:47] \"\u001b[37mPOST /test HTTP/1.1\u001b[0m\" 200 -\n",
      "192.168.117.1 - - [13/May/2021 14:45:47] \"\u001b[37mPOST /test HTTP/1.1\u001b[0m\" 200 -\n",
      "192.168.117.1 - - [13/May/2021 14:45:47] \"\u001b[37mPOST /test HTTP/1.1\u001b[0m\" 200 -\n",
      "192.168.117.1 - - [13/May/2021 14:45:47] \"\u001b[37mPOST /test HTTP/1.1\u001b[0m\" 200 -\n",
      "192.168.117.1 - - [13/May/2021 14:45:47] \"\u001b[37mPOST /test HTTP/1.1\u001b[0m\" 200 -\n"
     ]
    },
    {
     "name": "stdout",
     "output_type": "stream",
     "text": [
      "1\n",
      "3\n",
      "2\n",
      "3\n",
      "0\n",
      "1\n"
     ]
    },
    {
     "name": "stderr",
     "output_type": "stream",
     "text": [
      "192.168.117.1 - - [13/May/2021 14:47:13] \"\u001b[37mPOST /test HTTP/1.1\u001b[0m\" 200 -\n",
      "192.168.117.1 - - [13/May/2021 14:47:13] \"\u001b[37mPOST /test HTTP/1.1\u001b[0m\" 200 -\n",
      "192.168.117.1 - - [13/May/2021 14:47:13] \"\u001b[37mPOST /test HTTP/1.1\u001b[0m\" 200 -\n",
      "192.168.117.1 - - [13/May/2021 14:47:13] \"\u001b[37mPOST /test HTTP/1.1\u001b[0m\" 200 -\n",
      "192.168.117.1 - - [13/May/2021 14:47:13] \"\u001b[37mPOST /test HTTP/1.1\u001b[0m\" 200 -\n"
     ]
    },
    {
     "name": "stdout",
     "output_type": "stream",
     "text": [
      "2\n",
      "0\n",
      "2\n",
      "3\n",
      "3\n"
     ]
    },
    {
     "name": "stderr",
     "output_type": "stream",
     "text": [
      "192.168.117.1 - - [13/May/2021 14:47:13] \"\u001b[37mPOST /test HTTP/1.1\u001b[0m\" 200 -\n",
      "192.168.117.1 - - [13/May/2021 14:47:13] \"\u001b[37mPOST /test HTTP/1.1\u001b[0m\" 200 -\n",
      "192.168.117.1 - - [13/May/2021 14:47:13] \"\u001b[37mPOST /test HTTP/1.1\u001b[0m\" 200 -\n",
      "192.168.117.1 - - [13/May/2021 14:47:13] \"\u001b[37mPOST /test HTTP/1.1\u001b[0m\" 200 -\n",
      "192.168.117.1 - - [13/May/2021 14:47:13] \"\u001b[37mPOST /test HTTP/1.1\u001b[0m\" 200 -\n"
     ]
    },
    {
     "name": "stdout",
     "output_type": "stream",
     "text": [
      "1\n",
      "1\n",
      "0\n",
      "1\n",
      "2\n"
     ]
    },
    {
     "name": "stderr",
     "output_type": "stream",
     "text": [
      "192.168.117.1 - - [13/May/2021 14:47:13] \"\u001b[37mPOST /test HTTP/1.1\u001b[0m\" 200 -\n",
      "192.168.117.1 - - [13/May/2021 14:47:13] \"\u001b[37mPOST /test HTTP/1.1\u001b[0m\" 200 -\n",
      "192.168.117.1 - - [13/May/2021 14:47:13] \"\u001b[37mPOST /test HTTP/1.1\u001b[0m\" 200 -\n",
      "192.168.117.1 - - [13/May/2021 14:47:13] \"\u001b[37mPOST /test HTTP/1.1\u001b[0m\" 200 -\n",
      "192.168.117.1 - - [13/May/2021 14:47:13] \"\u001b[37mPOST /test HTTP/1.1\u001b[0m\" 200 -\n",
      "192.168.117.1 - - [13/May/2021 14:47:13] \"\u001b[37mPOST /test HTTP/1.1\u001b[0m\" 200 -\n"
     ]
    },
    {
     "name": "stdout",
     "output_type": "stream",
     "text": [
      "1\n",
      "3\n",
      "0\n",
      "2\n",
      "3\n",
      "1\n"
     ]
    },
    {
     "name": "stderr",
     "output_type": "stream",
     "text": [
      "192.168.117.1 - - [13/May/2021 14:47:29] \"\u001b[37mPOST /test HTTP/1.1\u001b[0m\" 200 -\n",
      "192.168.117.1 - - [13/May/2021 14:47:29] \"\u001b[37mPOST /test HTTP/1.1\u001b[0m\" 200 -\n",
      "192.168.117.1 - - [13/May/2021 14:47:29] \"\u001b[37mPOST /test HTTP/1.1\u001b[0m\" 200 -\n",
      "192.168.117.1 - - [13/May/2021 14:47:29] \"\u001b[37mPOST /test HTTP/1.1\u001b[0m\" 200 -\n",
      "192.168.117.1 - - [13/May/2021 14:47:29] \"\u001b[37mPOST /test HTTP/1.1\u001b[0m\" 200 -\n"
     ]
    },
    {
     "name": "stdout",
     "output_type": "stream",
     "text": [
      "2\n",
      "3\n",
      "2\n",
      "3\n",
      "0\n"
     ]
    },
    {
     "name": "stderr",
     "output_type": "stream",
     "text": [
      "192.168.117.1 - - [13/May/2021 14:47:29] \"\u001b[37mPOST /test HTTP/1.1\u001b[0m\" 200 -\n",
      "192.168.117.1 - - [13/May/2021 14:47:29] \"\u001b[37mPOST /test HTTP/1.1\u001b[0m\" 200 -\n",
      "192.168.117.1 - - [13/May/2021 14:47:29] \"\u001b[37mPOST /test HTTP/1.1\u001b[0m\" 200 -\n",
      "192.168.117.1 - - [13/May/2021 14:47:29] \"\u001b[37mPOST /test HTTP/1.1\u001b[0m\" 200 -\n"
     ]
    },
    {
     "name": "stdout",
     "output_type": "stream",
     "text": [
      "1\n",
      "0\n",
      "1\n",
      "2\n"
     ]
    },
    {
     "name": "stderr",
     "output_type": "stream",
     "text": [
      "192.168.117.1 - - [13/May/2021 14:47:30] \"\u001b[37mPOST /test HTTP/1.1\u001b[0m\" 200 -\n",
      "192.168.117.1 - - [13/May/2021 14:47:30] \"\u001b[37mPOST /test HTTP/1.1\u001b[0m\" 200 -\n",
      "192.168.117.1 - - [13/May/2021 14:47:30] \"\u001b[37mPOST /test HTTP/1.1\u001b[0m\" 200 -\n",
      "192.168.117.1 - - [13/May/2021 14:47:30] \"\u001b[37mPOST /test HTTP/1.1\u001b[0m\" 200 -\n",
      "192.168.117.1 - - [13/May/2021 14:47:30] \"\u001b[37mPOST /test HTTP/1.1\u001b[0m\" 200 -\n"
     ]
    },
    {
     "name": "stdout",
     "output_type": "stream",
     "text": [
      "1\n",
      "3\n",
      "2\n",
      "0\n",
      "1\n",
      "3"
     ]
    },
    {
     "name": "stderr",
     "output_type": "stream",
     "text": [
      "192.168.117.1 - - [13/May/2021 14:47:30] \"\u001b[37mPOST /test HTTP/1.1\u001b[0m\" 200 -\n",
      "192.168.117.1 - - [13/May/2021 14:47:30] \"\u001b[37mPOST /test HTTP/1.1\u001b[0m\" 200 -\n"
     ]
    },
    {
     "name": "stdout",
     "output_type": "stream",
     "text": [
      "\n",
      "1\n"
     ]
    },
    {
     "name": "stderr",
     "output_type": "stream",
     "text": [
      "192.168.117.1 - - [13/May/2021 14:47:54] \"\u001b[37mPOST /test HTTP/1.1\u001b[0m\" 200 -\n",
      "192.168.117.1 - - [13/May/2021 14:47:54] \"\u001b[37mPOST /test HTTP/1.1\u001b[0m\" 200 -\n",
      "192.168.117.1 - - [13/May/2021 14:47:54] \"\u001b[37mPOST /test HTTP/1.1\u001b[0m\" 200 -\n",
      "192.168.117.1 - - [13/May/2021 14:47:54] \"\u001b[37mPOST /test HTTP/1.1\u001b[0m\" 200 -\n",
      "192.168.117.1 - - [13/May/2021 14:47:54] \"\u001b[37mPOST /test HTTP/1.1\u001b[0m\" 200 -\n"
     ]
    },
    {
     "name": "stdout",
     "output_type": "stream",
     "text": [
      "2\n",
      "3\n",
      "3\n",
      "2\n",
      "0\n"
     ]
    },
    {
     "name": "stderr",
     "output_type": "stream",
     "text": [
      "192.168.117.1 - - [13/May/2021 14:47:55] \"\u001b[37mPOST /test HTTP/1.1\u001b[0m\" 200 -\n",
      "192.168.117.1 - - [13/May/2021 14:47:55] \"\u001b[37mPOST /test HTTP/1.1\u001b[0m\" 200 -\n",
      "192.168.117.1 - - [13/May/2021 14:47:55] \"\u001b[37mPOST /test HTTP/1.1\u001b[0m\" 200 -\n",
      "192.168.117.1 - - [13/May/2021 14:47:55] \"\u001b[37mPOST /test HTTP/1.1\u001b[0m\" 200 -\n",
      "192.168.117.1 - - [13/May/2021 14:47:55] \"\u001b[37mPOST /test HTTP/1.1\u001b[0m\" 200 -\n"
     ]
    },
    {
     "name": "stdout",
     "output_type": "stream",
     "text": [
      "1\n",
      "1\n",
      "1\n",
      "0\n",
      "2\n"
     ]
    },
    {
     "name": "stderr",
     "output_type": "stream",
     "text": [
      "192.168.117.1 - - [13/May/2021 14:47:55] \"\u001b[37mPOST /test HTTP/1.1\u001b[0m\" 200 -\n",
      "192.168.117.1 - - [13/May/2021 14:47:55] \"\u001b[37mPOST /test HTTP/1.1\u001b[0m\" 200 -\n",
      "192.168.117.1 - - [13/May/2021 14:47:55] \"\u001b[37mPOST /test HTTP/1.1\u001b[0m\" 200 -\n",
      "192.168.117.1 - - [13/May/2021 14:47:55] \"\u001b[37mPOST /test HTTP/1.1\u001b[0m\" 200 -\n",
      "192.168.117.1 - - [13/May/2021 14:47:55] \"\u001b[37mPOST /test HTTP/1.1\u001b[0m\" 200 -\n",
      "192.168.117.1 - - [13/May/2021 14:47:55] \"\u001b[37mPOST /test HTTP/1.1\u001b[0m\" 200 -\n"
     ]
    },
    {
     "name": "stdout",
     "output_type": "stream",
     "text": [
      "2\n",
      "3\n",
      "1\n",
      "0\n",
      "3\n",
      "1\n"
     ]
    },
    {
     "name": "stderr",
     "output_type": "stream",
     "text": [
      "192.168.117.1 - - [13/May/2021 14:49:56] \"\u001b[37mPOST /test HTTP/1.1\u001b[0m\" 200 -\n",
      "192.168.117.1 - - [13/May/2021 14:49:56] \"\u001b[37mPOST /test HTTP/1.1\u001b[0m\" 200 -\n"
     ]
    },
    {
     "name": "stdout",
     "output_type": "stream",
     "text": [
      "2\n",
      "0\n"
     ]
    },
    {
     "name": "stderr",
     "output_type": "stream",
     "text": [
      "192.168.117.1 - - [13/May/2021 14:49:56] \"\u001b[37mPOST /test HTTP/1.1\u001b[0m\" 200 -\n",
      "192.168.117.1 - - [13/May/2021 14:49:56] \"\u001b[37mPOST /test HTTP/1.1\u001b[0m\" 200 -\n",
      "192.168.117.1 - - [13/May/2021 14:49:56] \"\u001b[37mPOST /test HTTP/1.1\u001b[0m\" 200 -\n",
      "192.168.117.1 - - [13/May/2021 14:49:56] \"\u001b[37mPOST /test HTTP/1.1\u001b[0m\" 200 -\n"
     ]
    },
    {
     "name": "stdout",
     "output_type": "stream",
     "text": [
      "3\n",
      "2\n",
      "3\n",
      "0\n",
      "3\n",
      "2\n",
      "3\n",
      "0\n",
      "3\n",
      "2\n"
     ]
    },
    {
     "name": "stderr",
     "output_type": "stream",
     "text": [
      "192.168.117.1 - - [13/May/2021 14:49:56] \"\u001b[37mPOST /test HTTP/1.1\u001b[0m\" 200 -\n",
      "192.168.117.1 - - [13/May/2021 14:49:56] \"\u001b[37mPOST /test HTTP/1.1\u001b[0m\" 200 -\n",
      "192.168.117.1 - - [13/May/2021 14:49:56] \"\u001b[37mPOST /test HTTP/1.1\u001b[0m\" 200 -\n",
      "192.168.117.1 - - [13/May/2021 14:49:56] \"\u001b[37mPOST /test HTTP/1.1\u001b[0m\" 200 -\n",
      "192.168.117.1 - - [13/May/2021 14:49:56] \"\u001b[37mPOST /test HTTP/1.1\u001b[0m\" 200 -\n"
     ]
    },
    {
     "name": "stdout",
     "output_type": "stream",
     "text": [
      "2\n",
      "3\n",
      "3\n",
      "3\n",
      "0\n",
      "2\n",
      "2\n",
      "3\n"
     ]
    },
    {
     "name": "stderr",
     "output_type": "stream",
     "text": [
      "192.168.117.1 - - [13/May/2021 14:49:56] \"\u001b[37mPOST /test HTTP/1.1\u001b[0m\" 200 -\n",
      "192.168.117.1 - - [13/May/2021 14:49:56] \"\u001b[37mPOST /test HTTP/1.1\u001b[0m\" 200 -\n",
      "192.168.117.1 - - [13/May/2021 14:49:56] \"\u001b[37mPOST /test HTTP/1.1\u001b[0m\" 200 -\n",
      "192.168.117.1 - - [13/May/2021 14:49:56] \"\u001b[37mPOST /test HTTP/1.1\u001b[0m\" 200 -\n",
      "192.168.117.1 - - [13/May/2021 14:49:56] \"\u001b[37mPOST /test HTTP/1.1\u001b[0m\" 200 -\n"
     ]
    },
    {
     "name": "stdout",
     "output_type": "stream",
     "text": [
      "2\n",
      "3\n",
      "2\n",
      "0\n",
      "2\n",
      "1\n"
     ]
    },
    {
     "name": "stderr",
     "output_type": "stream",
     "text": [
      "192.168.117.1 - - [13/May/2021 14:49:56] \"\u001b[37mPOST /test HTTP/1.1\u001b[0m\" 200 -\n",
      "192.168.117.1 - - [13/May/2021 14:49:56] \"\u001b[37mPOST /test HTTP/1.1\u001b[0m\" 200 -\n",
      "192.168.117.1 - - [13/May/2021 14:49:56] \"\u001b[37mPOST /test HTTP/1.1\u001b[0m\" 200 -\n",
      "192.168.117.1 - - [13/May/2021 14:49:56] \"\u001b[37mPOST /test HTTP/1.1\u001b[0m\" 200 -\n",
      "192.168.117.1 - - [13/May/2021 14:49:57] \"\u001b[37mPOST /test HTTP/1.1\u001b[0m\" 200 -\n",
      "192.168.117.1 - - [13/May/2021 14:49:57] \"\u001b[37mPOST /test HTTP/1.1\u001b[0m\" 200 -\n",
      "192.168.117.1 - - [13/May/2021 14:49:57] \"\u001b[37mPOST /test HTTP/1.1\u001b[0m\" 200 -\n"
     ]
    },
    {
     "name": "stdout",
     "output_type": "stream",
     "text": [
      "1\n",
      "2\n",
      "0\n",
      "1\n",
      "1\n"
     ]
    },
    {
     "name": "stderr",
     "output_type": "stream",
     "text": [
      "192.168.117.1 - - [13/May/2021 14:49:57] \"\u001b[37mPOST /test HTTP/1.1\u001b[0m\" 200 -\n",
      "192.168.117.1 - - [13/May/2021 14:49:57] \"\u001b[37mPOST /test HTTP/1.1\u001b[0m\" 200 -\n",
      "192.168.117.1 - - [13/May/2021 14:49:57] \"\u001b[37mPOST /test HTTP/1.1\u001b[0m\" 200 -\n",
      "192.168.117.1 - - [13/May/2021 14:49:57] \"\u001b[37mPOST /test HTTP/1.1\u001b[0m\" 200 -\n",
      "192.168.117.1 - - [13/May/2021 14:49:57] \"\u001b[37mPOST /test HTTP/1.1\u001b[0m\" 200 -\n",
      "192.168.117.1 - - [13/May/2021 14:49:57] \"\u001b[37mPOST /test HTTP/1.1\u001b[0m\" 200 -\n"
     ]
    },
    {
     "name": "stdout",
     "output_type": "stream",
     "text": [
      "1\n",
      "1\n",
      "0\n",
      "10\n",
      "\n"
     ]
    },
    {
     "name": "stderr",
     "output_type": "stream",
     "text": [
      "192.168.117.1 - - [13/May/2021 14:49:57] \"\u001b[37mPOST /test HTTP/1.1\u001b[0m\" 200 -\n",
      "192.168.117.1 - - [13/May/2021 14:49:57] \"\u001b[37mPOST /test HTTP/1.1\u001b[0m\" 200 -\n",
      "192.168.117.1 - - [13/May/2021 14:49:57] \"\u001b[37mPOST /test HTTP/1.1\u001b[0m\" 200 -\n",
      "192.168.117.1 - - [13/May/2021 14:49:57] \"\u001b[37mPOST /test HTTP/1.1\u001b[0m\" 200 -\n",
      "192.168.117.1 - - [13/May/2021 14:49:57] \"\u001b[37mPOST /test HTTP/1.1\u001b[0m\" 200 -\n"
     ]
    },
    {
     "name": "stdout",
     "output_type": "stream",
     "text": [
      "2\n",
      "1\n",
      "1\n",
      "1\n"
     ]
    },
    {
     "name": "stderr",
     "output_type": "stream",
     "text": [
      "192.168.117.1 - - [13/May/2021 14:49:57] \"\u001b[37mPOST /test HTTP/1.1\u001b[0m\" 200 -\n",
      "192.168.117.1 - - [13/May/2021 14:49:57] \"\u001b[37mPOST /test HTTP/1.1\u001b[0m\" 200 -\n",
      "192.168.117.1 - - [13/May/2021 14:49:57] \"\u001b[37mPOST /test HTTP/1.1\u001b[0m\" 200 -\n",
      "192.168.117.1 - - [13/May/2021 14:49:57] \"\u001b[37mPOST /test HTTP/1.1\u001b[0m\" 200 -\n",
      "192.168.117.1 - - [13/May/2021 14:49:58] \"\u001b[37mPOST /test HTTP/1.1\u001b[0m\" 200 -\n",
      "192.168.117.1 - - [13/May/2021 14:49:58] \"\u001b[37mPOST /test HTTP/1.1\u001b[0m\" 200 -\n"
     ]
    },
    {
     "name": "stdout",
     "output_type": "stream",
     "text": [
      "2\n",
      "1\n",
      "1\n",
      "1\n",
      "1\n",
      "0\n"
     ]
    },
    {
     "name": "stderr",
     "output_type": "stream",
     "text": [
      "192.168.117.1 - - [13/May/2021 14:49:58] \"\u001b[37mPOST /test HTTP/1.1\u001b[0m\" 200 -\n",
      "192.168.117.1 - - [13/May/2021 14:49:58] \"\u001b[37mPOST /test HTTP/1.1\u001b[0m\" 200 -\n",
      "192.168.117.1 - - [13/May/2021 14:49:58] \"\u001b[37mPOST /test HTTP/1.1\u001b[0m\" 200 -\n",
      "192.168.117.1 - - [13/May/2021 14:49:58] \"\u001b[37mPOST /test HTTP/1.1\u001b[0m\" 200 -\n"
     ]
    },
    {
     "name": "stdout",
     "output_type": "stream",
     "text": [
      "2\n",
      "3\n",
      "2\n",
      "1\n",
      "1\n",
      "0\n",
      "2\n"
     ]
    },
    {
     "name": "stderr",
     "output_type": "stream",
     "text": [
      "192.168.117.1 - - [13/May/2021 14:49:58] \"\u001b[37mPOST /test HTTP/1.1\u001b[0m\" 200 -\n",
      "192.168.117.1 - - [13/May/2021 14:49:58] \"\u001b[37mPOST /test HTTP/1.1\u001b[0m\" 200 -\n",
      "192.168.117.1 - - [13/May/2021 14:49:58] \"\u001b[37mPOST /test HTTP/1.1\u001b[0m\" 200 -\n",
      "192.168.117.1 - - [13/May/2021 14:49:58] \"\u001b[37mPOST /test HTTP/1.1\u001b[0m\" 200 -\n",
      "192.168.117.1 - - [13/May/2021 14:49:58] \"\u001b[37mPOST /test HTTP/1.1\u001b[0m\" 200 -\n",
      "192.168.117.1 - - [13/May/2021 14:49:58] \"\u001b[37mPOST /test HTTP/1.1\u001b[0m\" 200 -\n"
     ]
    },
    {
     "name": "stdout",
     "output_type": "stream",
     "text": [
      "13\n",
      "\n",
      "1\n",
      "3\n",
      "02\n",
      "\n"
     ]
    },
    {
     "name": "stderr",
     "output_type": "stream",
     "text": [
      "192.168.117.1 - - [13/May/2021 14:49:58] \"\u001b[37mPOST /test HTTP/1.1\u001b[0m\" 200 -\n",
      "192.168.117.1 - - [13/May/2021 14:49:58] \"\u001b[37mPOST /test HTTP/1.1\u001b[0m\" 200 -\n",
      "192.168.117.1 - - [13/May/2021 14:49:58] \"\u001b[37mPOST /test HTTP/1.1\u001b[0m\" 200 -\n",
      "192.168.117.1 - - [13/May/2021 14:49:58] \"\u001b[37mPOST /test HTTP/1.1\u001b[0m\" 200 -\n",
      "192.168.117.1 - - [13/May/2021 14:49:58] \"\u001b[37mPOST /test HTTP/1.1\u001b[0m\" 200 -\n"
     ]
    },
    {
     "name": "stdout",
     "output_type": "stream",
     "text": [
      "3\n",
      "3\n",
      "2\n",
      "1\n"
     ]
    },
    {
     "name": "stderr",
     "output_type": "stream",
     "text": [
      "192.168.117.1 - - [13/May/2021 14:49:58] \"\u001b[37mPOST /test HTTP/1.1\u001b[0m\" 200 -\n",
      "192.168.117.1 - - [13/May/2021 14:49:59] \"\u001b[37mPOST /test HTTP/1.1\u001b[0m\" 200 -\n",
      "192.168.117.1 - - [13/May/2021 14:49:59] \"\u001b[37mPOST /test HTTP/1.1\u001b[0m\" 200 -\n",
      "192.168.117.1 - - [13/May/2021 14:49:59] \"\u001b[37mPOST /test HTTP/1.1\u001b[0m\" 200 -\n",
      "192.168.117.1 - - [13/May/2021 14:49:59] \"\u001b[37mPOST /test HTTP/1.1\u001b[0m\" 200 -\n"
     ]
    },
    {
     "name": "stdout",
     "output_type": "stream",
     "text": [
      "3\n",
      "0\n",
      "1\n",
      "3\n"
     ]
    },
    {
     "name": "stderr",
     "output_type": "stream",
     "text": [
      "192.168.117.1 - - [13/May/2021 14:49:59] \"\u001b[37mPOST /test HTTP/1.1\u001b[0m\" 200 -\n",
      "192.168.117.1 - - [13/May/2021 14:49:59] \"\u001b[37mPOST /test HTTP/1.1\u001b[0m\" 200 -\n",
      "192.168.117.1 - - [13/May/2021 14:49:59] \"\u001b[37mPOST /test HTTP/1.1\u001b[0m\" 200 -\n",
      "192.168.117.1 - - [13/May/2021 14:49:59] \"\u001b[37mPOST /test HTTP/1.1\u001b[0m\" 200 -\n"
     ]
    },
    {
     "name": "stdout",
     "output_type": "stream",
     "text": [
      "3\n",
      "2\n",
      "2\n"
     ]
    },
    {
     "name": "stderr",
     "output_type": "stream",
     "text": [
      "192.168.117.1 - - [13/May/2021 14:49:59] \"\u001b[37mPOST /test HTTP/1.1\u001b[0m\" 200 -\n",
      "192.168.117.1 - - [13/May/2021 14:49:59] \"\u001b[37mPOST /test HTTP/1.1\u001b[0m\" 200 -\n",
      "192.168.117.1 - - [13/May/2021 14:49:59] \"\u001b[37mPOST /test HTTP/1.1\u001b[0m\" 200 -\n",
      "192.168.117.1 - - [13/May/2021 14:49:59] \"\u001b[37mPOST /test HTTP/1.1\u001b[0m\" 200 -\n",
      "192.168.117.1 - - [13/May/2021 14:49:59] \"\u001b[37mPOST /test HTTP/1.1\u001b[0m\" 200 -\n"
     ]
    },
    {
     "name": "stdout",
     "output_type": "stream",
     "text": [
      "0\n",
      "0\n",
      "1\n",
      "2\n",
      "0\n",
      "3\n",
      "3\n"
     ]
    },
    {
     "name": "stderr",
     "output_type": "stream",
     "text": [
      "192.168.117.1 - - [13/May/2021 14:49:59] \"\u001b[37mPOST /test HTTP/1.1\u001b[0m\" 200 -\n",
      "192.168.117.1 - - [13/May/2021 14:49:59] \"\u001b[37mPOST /test HTTP/1.1\u001b[0m\" 200 -\n",
      "192.168.117.1 - - [13/May/2021 14:49:59] \"\u001b[37mPOST /test HTTP/1.1\u001b[0m\" 200 -\n",
      "192.168.117.1 - - [13/May/2021 14:50:00] \"\u001b[37mPOST /test HTTP/1.1\u001b[0m\" 200 -\n",
      "192.168.117.1 - - [13/May/2021 14:50:00] \"\u001b[37mPOST /test HTTP/1.1\u001b[0m\" 200 -\n",
      "192.168.117.1 - - [13/May/2021 14:50:00] \"\u001b[37mPOST /test HTTP/1.1\u001b[0m\" 200 -\n"
     ]
    },
    {
     "name": "stdout",
     "output_type": "stream",
     "text": [
      "1\n",
      "3\n",
      "1\n",
      "2\n",
      "0\n"
     ]
    },
    {
     "name": "stderr",
     "output_type": "stream",
     "text": [
      "192.168.117.1 - - [13/May/2021 14:50:00] \"\u001b[37mPOST /test HTTP/1.1\u001b[0m\" 200 -\n",
      "192.168.117.1 - - [13/May/2021 14:50:00] \"\u001b[37mPOST /test HTTP/1.1\u001b[0m\" 200 -\n",
      "192.168.117.1 - - [13/May/2021 14:50:00] \"\u001b[37mPOST /test HTTP/1.1\u001b[0m\" 200 -\n",
      "192.168.117.1 - - [13/May/2021 14:50:00] \"\u001b[37mPOST /test HTTP/1.1\u001b[0m\" 200 -\n",
      "192.168.117.1 - - [13/May/2021 14:50:00] \"\u001b[37mPOST /test HTTP/1.1\u001b[0m\" 200 -\n",
      "192.168.117.1 - - [13/May/2021 14:50:00] \"\u001b[37mPOST /test HTTP/1.1\u001b[0m\" 200 -\n",
      "192.168.117.1 - - [13/May/2021 14:50:00] \"\u001b[37mPOST /test HTTP/1.1\u001b[0m\" 200 -\n"
     ]
    },
    {
     "name": "stdout",
     "output_type": "stream",
     "text": [
      "02\n",
      "\n",
      "3\n",
      "3\n",
      "0\n",
      "3\n"
     ]
    },
    {
     "name": "stderr",
     "output_type": "stream",
     "text": [
      "192.168.117.1 - - [13/May/2021 14:50:00] \"\u001b[37mPOST /test HTTP/1.1\u001b[0m\" 200 -\n",
      "192.168.117.1 - - [13/May/2021 14:50:00] \"\u001b[37mPOST /test HTTP/1.1\u001b[0m\" 200 -\n",
      "192.168.117.1 - - [13/May/2021 14:50:00] \"\u001b[37mPOST /test HTTP/1.1\u001b[0m\" 200 -\n",
      "192.168.117.1 - - [13/May/2021 14:50:00] \"\u001b[37mPOST /test HTTP/1.1\u001b[0m\" 200 -\n",
      "192.168.117.1 - - [13/May/2021 14:50:00] \"\u001b[37mPOST /test HTTP/1.1\u001b[0m\" 200 -\n",
      "192.168.117.1 - - [13/May/2021 14:50:00] \"\u001b[37mPOST /test HTTP/1.1\u001b[0m\" 200 -\n"
     ]
    },
    {
     "name": "stdout",
     "output_type": "stream",
     "text": [
      "3\n",
      "1\n",
      "2\n",
      "1\n",
      "3\n",
      "3\n",
      "3\n",
      "0\n"
     ]
    },
    {
     "name": "stderr",
     "output_type": "stream",
     "text": [
      "192.168.117.1 - - [13/May/2021 14:50:00] \"\u001b[37mPOST /test HTTP/1.1\u001b[0m\" 200 -\n",
      "192.168.117.1 - - [13/May/2021 14:50:00] \"\u001b[37mPOST /test HTTP/1.1\u001b[0m\" 200 -\n",
      "192.168.117.1 - - [13/May/2021 14:50:00] \"\u001b[37mPOST /test HTTP/1.1\u001b[0m\" 200 -\n",
      "192.168.117.1 - - [13/May/2021 14:50:01] \"\u001b[37mPOST /test HTTP/1.1\u001b[0m\" 200 -\n",
      "192.168.117.1 - - [13/May/2021 14:50:01] \"\u001b[37mPOST /test HTTP/1.1\u001b[0m\" 200 -\n"
     ]
    },
    {
     "name": "stdout",
     "output_type": "stream",
     "text": [
      "2\n",
      "1\n",
      "2\n",
      "1\n",
      "0\n"
     ]
    },
    {
     "name": "stderr",
     "output_type": "stream",
     "text": [
      "192.168.117.1 - - [13/May/2021 14:50:01] \"\u001b[37mPOST /test HTTP/1.1\u001b[0m\" 200 -\n",
      "192.168.117.1 - - [13/May/2021 14:50:01] \"\u001b[37mPOST /test HTTP/1.1\u001b[0m\" 200 -\n",
      "192.168.117.1 - - [13/May/2021 14:50:01] \"\u001b[37mPOST /test HTTP/1.1\u001b[0m\" 200 -\n",
      "192.168.117.1 - - [13/May/2021 14:50:01] \"\u001b[37mPOST /test HTTP/1.1\u001b[0m\" 200 -\n",
      "192.168.117.1 - - [13/May/2021 14:50:01] \"\u001b[37mPOST /test HTTP/1.1\u001b[0m\" 200 -\n",
      "192.168.117.1 - - [13/May/2021 14:50:01] \"\u001b[37mPOST /test HTTP/1.1\u001b[0m\" 200 -\n",
      "192.168.117.1 - - [13/May/2021 14:50:01] \"\u001b[37mPOST /test HTTP/1.1\u001b[0m\" 200 -\n"
     ]
    },
    {
     "name": "stdout",
     "output_type": "stream",
     "text": [
      "0\n",
      "22\n",
      "\n",
      "1\n",
      "1\n",
      "3\n"
     ]
    },
    {
     "name": "stderr",
     "output_type": "stream",
     "text": [
      "192.168.117.1 - - [13/May/2021 14:50:01] \"\u001b[37mPOST /test HTTP/1.1\u001b[0m\" 200 -\n",
      "192.168.117.1 - - [13/May/2021 14:50:01] \"\u001b[37mPOST /test HTTP/1.1\u001b[0m\" 200 -\n",
      "192.168.117.1 - - [13/May/2021 14:50:01] \"\u001b[37mPOST /test HTTP/1.1\u001b[0m\" 200 -\n",
      "192.168.117.1 - - [13/May/2021 14:50:01] \"\u001b[37mPOST /test HTTP/1.1\u001b[0m\" 200 -\n",
      "192.168.117.1 - - [13/May/2021 14:50:01] \"\u001b[37mPOST /test HTTP/1.1\u001b[0m\" 200 -\n",
      "192.168.117.1 - - [13/May/2021 14:50:01] \"\u001b[37mPOST /test HTTP/1.1\u001b[0m\" 200 -\n",
      "192.168.117.1 - - [13/May/2021 14:50:01] \"\u001b[37mPOST /test HTTP/1.1\u001b[0m\" 200 -\n"
     ]
    },
    {
     "name": "stdout",
     "output_type": "stream",
     "text": [
      "1\n",
      "1\n",
      "10\n",
      "\n",
      "3\n"
     ]
    },
    {
     "name": "stderr",
     "output_type": "stream",
     "text": [
      "192.168.117.1 - - [13/May/2021 14:50:01] \"\u001b[37mPOST /test HTTP/1.1\u001b[0m\" 200 -\n",
      "192.168.117.1 - - [13/May/2021 14:50:01] \"\u001b[37mPOST /test HTTP/1.1\u001b[0m\" 200 -\n",
      "192.168.117.1 - - [13/May/2021 14:50:01] \"\u001b[37mPOST /test HTTP/1.1\u001b[0m\" 200 -\n",
      "192.168.117.1 - - [13/May/2021 14:50:02] \"\u001b[37mPOST /test HTTP/1.1\u001b[0m\" 200 -\n",
      "192.168.117.1 - - [13/May/2021 14:50:02] \"\u001b[37mPOST /test HTTP/1.1\u001b[0m\" 200 -\n",
      "192.168.117.1 - - [13/May/2021 14:50:02] \"\u001b[37mPOST /test HTTP/1.1\u001b[0m\" 200 -\n"
     ]
    },
    {
     "name": "stdout",
     "output_type": "stream",
     "text": [
      "1\n",
      "0\n",
      "2\n",
      "2\n",
      "1\n",
      "1\n"
     ]
    },
    {
     "name": "stderr",
     "output_type": "stream",
     "text": [
      "192.168.117.1 - - [13/May/2021 14:50:02] \"\u001b[37mPOST /test HTTP/1.1\u001b[0m\" 200 -\n"
     ]
    },
    {
     "name": "stdout",
     "output_type": "stream",
     "text": [
      "1\n",
      "1\n",
      "1\n"
     ]
    },
    {
     "name": "stderr",
     "output_type": "stream",
     "text": [
      "192.168.117.1 - - [13/May/2021 14:50:02] \"\u001b[37mPOST /test HTTP/1.1\u001b[0m\" 200 -\n",
      "192.168.117.1 - - [13/May/2021 14:50:02] \"\u001b[37mPOST /test HTTP/1.1\u001b[0m\" 200 -\n",
      "192.168.117.1 - - [13/May/2021 14:50:02] \"\u001b[37mPOST /test HTTP/1.1\u001b[0m\" 200 -\n",
      "192.168.117.1 - - [13/May/2021 14:50:02] \"\u001b[37mPOST /test HTTP/1.1\u001b[0m\" 200 -\n",
      "192.168.117.1 - - [13/May/2021 14:50:02] \"\u001b[37mPOST /test HTTP/1.1\u001b[0m\" 200 -\n",
      "192.168.117.1 - - [13/May/2021 14:50:02] \"\u001b[37mPOST /test HTTP/1.1\u001b[0m\" 200 -\n"
     ]
    },
    {
     "name": "stdout",
     "output_type": "stream",
     "text": [
      "2\n",
      "0\n",
      "3\n",
      "1\n",
      "0\n",
      "2\n"
     ]
    },
    {
     "name": "stderr",
     "output_type": "stream",
     "text": [
      "192.168.117.1 - - [13/May/2021 14:50:02] \"\u001b[37mPOST /test HTTP/1.1\u001b[0m\" 200 -\n",
      "192.168.117.1 - - [13/May/2021 14:50:02] \"\u001b[37mPOST /test HTTP/1.1\u001b[0m\" 200 -\n",
      "192.168.117.1 - - [13/May/2021 14:50:02] \"\u001b[37mPOST /test HTTP/1.1\u001b[0m\" 200 -\n",
      "192.168.117.1 - - [13/May/2021 14:50:02] \"\u001b[37mPOST /test HTTP/1.1\u001b[0m\" 200 -\n",
      "192.168.117.1 - - [13/May/2021 14:50:02] \"\u001b[37mPOST /test HTTP/1.1\u001b[0m\" 200 -\n"
     ]
    },
    {
     "name": "stdout",
     "output_type": "stream",
     "text": [
      "2\n",
      "10\n",
      "\n",
      "1\n",
      "1\n",
      "2\n",
      "3\n"
     ]
    },
    {
     "name": "stderr",
     "output_type": "stream",
     "text": [
      "192.168.117.1 - - [13/May/2021 14:50:02] \"\u001b[37mPOST /test HTTP/1.1\u001b[0m\" 200 -\n",
      "192.168.117.1 - - [13/May/2021 14:50:02] \"\u001b[37mPOST /test HTTP/1.1\u001b[0m\" 200 -\n",
      "192.168.117.1 - - [13/May/2021 14:50:03] \"\u001b[37mPOST /test HTTP/1.1\u001b[0m\" 200 -\n",
      "192.168.117.1 - - [13/May/2021 14:50:03] \"\u001b[37mPOST /test HTTP/1.1\u001b[0m\" 200 -\n",
      "192.168.117.1 - - [13/May/2021 14:50:03] \"\u001b[37mPOST /test HTTP/1.1\u001b[0m\" 200 -\n",
      "192.168.117.1 - - [13/May/2021 14:50:03] \"\u001b[37mPOST /test HTTP/1.1\u001b[0m\" 200 -\n"
     ]
    },
    {
     "name": "stdout",
     "output_type": "stream",
     "text": [
      "1\n",
      "2\n",
      "0\n",
      "2\n",
      "2\n"
     ]
    },
    {
     "name": "stderr",
     "output_type": "stream",
     "text": [
      "192.168.117.1 - - [13/May/2021 14:50:03] \"\u001b[37mPOST /test HTTP/1.1\u001b[0m\" 200 -\n",
      "192.168.117.1 - - [13/May/2021 14:50:03] \"\u001b[37mPOST /test HTTP/1.1\u001b[0m\" 200 -\n",
      "192.168.117.1 - - [13/May/2021 14:50:03] \"\u001b[37mPOST /test HTTP/1.1\u001b[0m\" 200 -\n",
      "192.168.117.1 - - [13/May/2021 14:50:03] \"\u001b[37mPOST /test HTTP/1.1\u001b[0m\" 200 -\n",
      "192.168.117.1 - - [13/May/2021 14:50:03] \"\u001b[37mPOST /test HTTP/1.1\u001b[0m\" 200 -\n",
      "192.168.117.1 - - [13/May/2021 14:50:03] \"\u001b[37mPOST /test HTTP/1.1\u001b[0m\" 200 -\n"
     ]
    },
    {
     "name": "stdout",
     "output_type": "stream",
     "text": [
      "2\n",
      "1\n",
      "3\n"
     ]
    },
    {
     "name": "stderr",
     "output_type": "stream",
     "text": [
      "192.168.117.1 - - [13/May/2021 14:50:03] \"\u001b[37mPOST /test HTTP/1.1\u001b[0m\" 200 -\n",
      "192.168.117.1 - - [13/May/2021 14:50:03] \"\u001b[37mPOST /test HTTP/1.1\u001b[0m\" 200 -\n",
      "192.168.117.1 - - [13/May/2021 14:50:03] \"\u001b[37mPOST /test HTTP/1.1\u001b[0m\" 200 -\n",
      "192.168.117.1 - - [13/May/2021 14:50:03] \"\u001b[37mPOST /test HTTP/1.1\u001b[0m\" 200 -\n",
      "192.168.117.1 - - [13/May/2021 14:50:03] \"\u001b[37mPOST /test HTTP/1.1\u001b[0m\" 200 -\n",
      "192.168.117.1 - - [13/May/2021 14:50:03] \"\u001b[37mPOST /test HTTP/1.1\u001b[0m\" 200 -\n"
     ]
    },
    {
     "name": "stdout",
     "output_type": "stream",
     "text": [
      "1\n",
      "0\n",
      "3\n",
      "2\n",
      "2\n",
      "1\n",
      "3\n",
      "2\n"
     ]
    },
    {
     "name": "stderr",
     "output_type": "stream",
     "text": [
      "192.168.117.1 - - [13/May/2021 14:50:03] \"\u001b[37mPOST /test HTTP/1.1\u001b[0m\" 200 -\n",
      "192.168.117.1 - - [13/May/2021 14:50:03] \"\u001b[37mPOST /test HTTP/1.1\u001b[0m\" 200 -\n",
      "192.168.117.1 - - [13/May/2021 14:50:03] \"\u001b[37mPOST /test HTTP/1.1\u001b[0m\" 200 -\n",
      "192.168.117.1 - - [13/May/2021 14:50:03] \"\u001b[37mPOST /test HTTP/1.1\u001b[0m\" 200 -\n",
      "192.168.117.1 - - [13/May/2021 14:50:03] \"\u001b[37mPOST /test HTTP/1.1\u001b[0m\" 200 -\n",
      "192.168.117.1 - - [13/May/2021 14:50:03] \"\u001b[37mPOST /test HTTP/1.1\u001b[0m\" 200 -\n",
      "192.168.117.1 - - [13/May/2021 14:50:03] \"\u001b[37mPOST /test HTTP/1.1\u001b[0m\" 200 -\n"
     ]
    },
    {
     "name": "stdout",
     "output_type": "stream",
     "text": [
      "2\n",
      "3\n",
      "0\n",
      "21\n",
      "\n",
      "3\n"
     ]
    },
    {
     "name": "stderr",
     "output_type": "stream",
     "text": [
      "192.168.117.1 - - [13/May/2021 14:50:03] \"\u001b[37mPOST /test HTTP/1.1\u001b[0m\" 200 -\n",
      "192.168.117.1 - - [13/May/2021 14:50:04] \"\u001b[37mPOST /test HTTP/1.1\u001b[0m\" 200 -\n",
      "192.168.117.1 - - [13/May/2021 14:50:04] \"\u001b[37mPOST /test HTTP/1.1\u001b[0m\" 200 -\n",
      "192.168.117.1 - - [13/May/2021 14:50:04] \"\u001b[37mPOST /test HTTP/1.1\u001b[0m\" 200 -\n",
      "192.168.117.1 - - [13/May/2021 14:50:04] \"\u001b[37mPOST /test HTTP/1.1\u001b[0m\" 200 -\n",
      "192.168.117.1 - - [13/May/2021 14:50:04] \"\u001b[37mPOST /test HTTP/1.1\u001b[0m\" 200 -\n",
      "192.168.117.1 - - [13/May/2021 14:50:04] \"\u001b[37mPOST /test HTTP/1.1\u001b[0m\" 200 -\n",
      "192.168.117.1 - - [13/May/2021 14:50:04] \"\u001b[37mPOST /test HTTP/1.1\u001b[0m\" 200 -\n",
      "192.168.117.1 - - [13/May/2021 14:50:04] \"\u001b[37mPOST /test HTTP/1.1\u001b[0m\" 200 -\n",
      "192.168.117.1 - - [13/May/2021 14:50:04] \"\u001b[37mPOST /test HTTP/1.1\u001b[0m\" 200 -\n",
      "192.168.117.1 - - [13/May/2021 14:50:04] \"\u001b[37mPOST /test HTTP/1.1\u001b[0m\" 200 -\n",
      "192.168.117.1 - - [13/May/2021 14:50:04] \"\u001b[37mPOST /test HTTP/1.1\u001b[0m\" 200 -\n"
     ]
    },
    {
     "name": "stdout",
     "output_type": "stream",
     "text": [
      "0\n",
      "1\n",
      "2\n",
      "2\n",
      "1\n",
      "1\n"
     ]
    },
    {
     "name": "stderr",
     "output_type": "stream",
     "text": [
      "192.168.117.1 - - [13/May/2021 14:50:04] \"\u001b[37mPOST /test HTTP/1.1\u001b[0m\" 200 -\n",
      "192.168.117.1 - - [13/May/2021 14:50:04] \"\u001b[37mPOST /test HTTP/1.1\u001b[0m\" 200 -\n",
      "192.168.117.1 - - [13/May/2021 14:50:04] \"\u001b[37mPOST /test HTTP/1.1\u001b[0m\" 200 -\n"
     ]
    },
    {
     "name": "stdout",
     "output_type": "stream",
     "text": [
      "3\n",
      "3\n",
      "3\n"
     ]
    },
    {
     "name": "stderr",
     "output_type": "stream",
     "text": [
      "192.168.117.1 - - [13/May/2021 14:50:17] \"\u001b[37mPOST /test HTTP/1.1\u001b[0m\" 200 -\n",
      "192.168.117.1 - - [13/May/2021 14:50:17] \"\u001b[37mPOST /test HTTP/1.1\u001b[0m\" 200 -\n",
      "192.168.117.1 - - [13/May/2021 14:50:17] \"\u001b[37mPOST /test HTTP/1.1\u001b[0m\" 200 -\n",
      "192.168.117.1 - - [13/May/2021 14:50:17] \"\u001b[37mPOST /test HTTP/1.1\u001b[0m\" 200 -\n",
      "192.168.117.1 - - [13/May/2021 14:50:17] \"\u001b[37mPOST /test HTTP/1.1\u001b[0m\" 200 -\n"
     ]
    },
    {
     "name": "stdout",
     "output_type": "stream",
     "text": [
      "2\n",
      "30\n",
      "\n",
      "3\n",
      "2\n"
     ]
    },
    {
     "name": "stderr",
     "output_type": "stream",
     "text": [
      "192.168.117.1 - - [13/May/2021 14:50:17] \"\u001b[37mPOST /test HTTP/1.1\u001b[0m\" 200 -\n",
      "192.168.117.1 - - [13/May/2021 14:50:17] \"\u001b[37mPOST /test HTTP/1.1\u001b[0m\" 200 -\n",
      "192.168.117.1 - - [13/May/2021 14:50:17] \"\u001b[37mPOST /test HTTP/1.1\u001b[0m\" 200 -\n",
      "192.168.117.1 - - [13/May/2021 14:50:17] \"\u001b[37mPOST /test HTTP/1.1\u001b[0m\" 200 -\n",
      "192.168.117.1 - - [13/May/2021 14:50:17] \"\u001b[37mPOST /test HTTP/1.1\u001b[0m\" 200 -\n"
     ]
    },
    {
     "name": "stdout",
     "output_type": "stream",
     "text": [
      "1\n",
      "0\n",
      "1\n",
      "1\n",
      "2\n",
      "1\n"
     ]
    },
    {
     "name": "stderr",
     "output_type": "stream",
     "text": [
      "192.168.117.1 - - [13/May/2021 14:50:17] \"\u001b[37mPOST /test HTTP/1.1\u001b[0m\" 200 -\n",
      "192.168.117.1 - - [13/May/2021 14:50:17] \"\u001b[37mPOST /test HTTP/1.1\u001b[0m\" 200 -\n",
      "192.168.117.1 - - [13/May/2021 14:50:17] \"\u001b[37mPOST /test HTTP/1.1\u001b[0m\" 200 -\n",
      "192.168.117.1 - - [13/May/2021 14:50:17] \"\u001b[37mPOST /test HTTP/1.1\u001b[0m\" 200 -\n",
      "192.168.117.1 - - [13/May/2021 14:50:17] \"\u001b[37mPOST /test HTTP/1.1\u001b[0m\" 200 -\n",
      "192.168.117.1 - - [13/May/2021 14:50:17] \"\u001b[37mPOST /test HTTP/1.1\u001b[0m\" 200 -\n",
      "192.168.117.1 - - [13/May/2021 14:50:18] \"\u001b[37mPOST /test HTTP/1.1\u001b[0m\" 200 -\n"
     ]
    },
    {
     "name": "stdout",
     "output_type": "stream",
     "text": [
      "3\n",
      "2\n",
      "2\n",
      "0\n",
      "3\n",
      "1\n"
     ]
    },
    {
     "name": "stderr",
     "output_type": "stream",
     "text": [
      "192.168.117.1 - - [13/May/2021 14:50:39] \"\u001b[37mPOST /test HTTP/1.1\u001b[0m\" 200 -\n",
      "192.168.117.1 - - [13/May/2021 14:50:39] \"\u001b[37mPOST /test HTTP/1.1\u001b[0m\" 200 -\n",
      "192.168.117.1 - - [13/May/2021 14:50:39] \"\u001b[37mPOST /test HTTP/1.1\u001b[0m\" 200 -\n",
      "192.168.117.1 - - [13/May/2021 14:50:39] \"\u001b[37mPOST /test HTTP/1.1\u001b[0m\" 200 -\n",
      "192.168.117.1 - - [13/May/2021 14:50:39] \"\u001b[37mPOST /test HTTP/1.1\u001b[0m\" 200 -\n"
     ]
    },
    {
     "name": "stdout",
     "output_type": "stream",
     "text": [
      "2\n",
      "0\n",
      "3\n",
      "32\n",
      "\n"
     ]
    },
    {
     "name": "stderr",
     "output_type": "stream",
     "text": [
      "192.168.117.1 - - [13/May/2021 14:50:40] \"\u001b[37mPOST /test HTTP/1.1\u001b[0m\" 200 -\n",
      "192.168.117.1 - - [13/May/2021 14:50:40] \"\u001b[37mPOST /test HTTP/1.1\u001b[0m\" 200 -\n",
      "192.168.117.1 - - [13/May/2021 14:50:40] \"\u001b[37mPOST /test HTTP/1.1\u001b[0m\" 200 -\n",
      "192.168.117.1 - - [13/May/2021 14:50:40] \"\u001b[37mPOST /test HTTP/1.1\u001b[0m\" 200 -\n",
      "192.168.117.1 - - [13/May/2021 14:50:40] \"\u001b[37mPOST /test HTTP/1.1\u001b[0m\" 200 -\n"
     ]
    },
    {
     "name": "stdout",
     "output_type": "stream",
     "text": [
      "0\n",
      "12\n",
      "\n",
      "1\n",
      "1\n",
      "1"
     ]
    },
    {
     "name": "stderr",
     "output_type": "stream",
     "text": [
      "192.168.117.1 - - [13/May/2021 14:50:40] \"\u001b[37mPOST /test HTTP/1.1\u001b[0m\" 200 -\n",
      "192.168.117.1 - - [13/May/2021 14:50:40] \"\u001b[37mPOST /test HTTP/1.1\u001b[0m\" 200 -\n",
      "192.168.117.1 - - [13/May/2021 14:50:40] \"\u001b[37mPOST /test HTTP/1.1\u001b[0m\" 200 -\n",
      "192.168.117.1 - - [13/May/2021 14:50:40] \"\u001b[37mPOST /test HTTP/1.1\u001b[0m\" 200 -\n",
      "192.168.117.1 - - [13/May/2021 14:50:40] \"\u001b[37mPOST /test HTTP/1.1\u001b[0m\" 200 -\n",
      "192.168.117.1 - - [13/May/2021 14:50:40] \"\u001b[37mPOST /test HTTP/1.1\u001b[0m\" 200 -\n",
      "192.168.117.1 - - [13/May/2021 14:50:40] \"\u001b[37mPOST /test HTTP/1.1\u001b[0m\" 200 -\n"
     ]
    },
    {
     "name": "stdout",
     "output_type": "stream",
     "text": [
      "\n",
      "3\n",
      "2\n",
      "2\n",
      "0\n",
      "3\n",
      "1\n"
     ]
    },
    {
     "name": "stderr",
     "output_type": "stream",
     "text": [
      "192.168.117.1 - - [13/May/2021 14:51:04] \"\u001b[37mPOST /test HTTP/1.1\u001b[0m\" 200 -\n",
      "192.168.117.1 - - [13/May/2021 14:51:04] \"\u001b[37mPOST /test HTTP/1.1\u001b[0m\" 200 -\n",
      "192.168.117.1 - - [13/May/2021 14:51:04] \"\u001b[37mPOST /test HTTP/1.1\u001b[0m\" 200 -\n",
      "192.168.117.1 - - [13/May/2021 14:51:04] \"\u001b[37mPOST /test HTTP/1.1\u001b[0m\" 200 -\n",
      "192.168.117.1 - - [13/May/2021 14:51:04] \"\u001b[37mPOST /test HTTP/1.1\u001b[0m\" 200 -\n"
     ]
    },
    {
     "name": "stdout",
     "output_type": "stream",
     "text": [
      "2\n",
      "2\n",
      "3\n",
      "0\n",
      "3\n"
     ]
    },
    {
     "name": "stderr",
     "output_type": "stream",
     "text": [
      "192.168.117.1 - - [13/May/2021 14:51:05] \"\u001b[37mPOST /test HTTP/1.1\u001b[0m\" 200 -\n",
      "192.168.117.1 - - [13/May/2021 14:51:05] \"\u001b[37mPOST /test HTTP/1.1\u001b[0m\" 200 -\n",
      "192.168.117.1 - - [13/May/2021 14:51:05] \"\u001b[37mPOST /test HTTP/1.1\u001b[0m\" 200 -\n",
      "192.168.117.1 - - [13/May/2021 14:51:05] \"\u001b[37mPOST /test HTTP/1.1\u001b[0m\" 200 -\n",
      "192.168.117.1 - - [13/May/2021 14:51:05] \"\u001b[37mPOST /test HTTP/1.1\u001b[0m\" 200 -\n",
      "192.168.117.1 - - [13/May/2021 14:51:05] \"\u001b[37mPOST /test HTTP/1.1\u001b[0m\" 200 -\n"
     ]
    },
    {
     "name": "stdout",
     "output_type": "stream",
     "text": [
      "1\n",
      "0\n",
      "1\n",
      "1\n",
      "2\n",
      "1\n"
     ]
    },
    {
     "name": "stderr",
     "output_type": "stream",
     "text": [
      "192.168.117.1 - - [13/May/2021 14:51:05] \"\u001b[37mPOST /test HTTP/1.1\u001b[0m\" 200 -\n",
      "192.168.117.1 - - [13/May/2021 14:51:05] \"\u001b[37mPOST /test HTTP/1.1\u001b[0m\" 200 -\n",
      "192.168.117.1 - - [13/May/2021 14:51:05] \"\u001b[37mPOST /test HTTP/1.1\u001b[0m\" 200 -\n",
      "192.168.117.1 - - [13/May/2021 14:51:05] \"\u001b[37mPOST /test HTTP/1.1\u001b[0m\" 200 -\n",
      "192.168.117.1 - - [13/May/2021 14:51:05] \"\u001b[37mPOST /test HTTP/1.1\u001b[0m\" 200 -\n",
      "192.168.117.1 - - [13/May/2021 14:51:05] \"\u001b[37mPOST /test HTTP/1.1\u001b[0m\" 200 -\n"
     ]
    },
    {
     "name": "stdout",
     "output_type": "stream",
     "text": [
      "3\n",
      "0\n",
      "2\n",
      "2\n",
      "3\n",
      "1\n"
     ]
    },
    {
     "name": "stderr",
     "output_type": "stream",
     "text": [
      "192.168.117.1 - - [13/May/2021 14:55:41] \"\u001b[37mPOST /test HTTP/1.1\u001b[0m\" 200 -\n",
      "192.168.117.1 - - [13/May/2021 14:55:41] \"\u001b[37mPOST /test HTTP/1.1\u001b[0m\" 200 -\n",
      "192.168.117.1 - - [13/May/2021 14:55:41] \"\u001b[37mPOST /test HTTP/1.1\u001b[0m\" 200 -\n",
      "192.168.117.1 - - [13/May/2021 14:55:41] \"\u001b[37mPOST /test HTTP/1.1\u001b[0m\" 200 -\n"
     ]
    },
    {
     "name": "stdout",
     "output_type": "stream",
     "text": [
      "002\n",
      "\n",
      "3\n",
      "\n",
      "3\n",
      "3\n",
      "20\n",
      "\n",
      "3\n"
     ]
    },
    {
     "name": "stderr",
     "output_type": "stream",
     "text": [
      "192.168.117.1 - - [13/May/2021 14:55:41] \"\u001b[37mPOST /test HTTP/1.1\u001b[0m\" 200 -\n",
      "192.168.117.1 - - [13/May/2021 14:55:41] \"\u001b[37mPOST /test HTTP/1.1\u001b[0m\" 200 -\n",
      "192.168.117.1 - - [13/May/2021 14:55:41] \"\u001b[37mPOST /test HTTP/1.1\u001b[0m\" 200 -\n"
     ]
    },
    {
     "name": "stdout",
     "output_type": "stream",
     "text": [
      "2\n",
      "22\n",
      "\n",
      "3\n",
      "3\n",
      "2\n",
      "2\n",
      "3\n",
      "3\n"
     ]
    },
    {
     "name": "stderr",
     "output_type": "stream",
     "text": [
      "192.168.117.1 - - [13/May/2021 14:55:41] \"\u001b[37mPOST /test HTTP/1.1\u001b[0m\" 200 -\n",
      "192.168.117.1 - - [13/May/2021 14:55:41] \"\u001b[37mPOST /test HTTP/1.1\u001b[0m\" 200 -\n",
      "192.168.117.1 - - [13/May/2021 14:55:41] \"\u001b[37mPOST /test HTTP/1.1\u001b[0m\" 200 -\n",
      "192.168.117.1 - - [13/May/2021 14:55:41] \"\u001b[37mPOST /test HTTP/1.1\u001b[0m\" 200 -\n",
      "192.168.117.1 - - [13/May/2021 14:55:41] \"\u001b[37mPOST /test HTTP/1.1\u001b[0m\" 200 -\n"
     ]
    },
    {
     "name": "stdout",
     "output_type": "stream",
     "text": [
      "2\n",
      "0\n",
      "3\n",
      "02\n",
      "\n",
      "3\n",
      "2\n"
     ]
    },
    {
     "name": "stderr",
     "output_type": "stream",
     "text": [
      "192.168.117.1 - - [13/May/2021 14:55:41] \"\u001b[37mPOST /test HTTP/1.1\u001b[0m\" 200 -\n",
      "192.168.117.1 - - [13/May/2021 14:55:41] \"\u001b[37mPOST /test HTTP/1.1\u001b[0m\" 200 -\n",
      "192.168.117.1 - - [13/May/2021 14:55:41] \"\u001b[37mPOST /test HTTP/1.1\u001b[0m\" 200 -\n",
      "192.168.117.1 - - [13/May/2021 14:55:41] \"\u001b[37mPOST /test HTTP/1.1\u001b[0m\" 200 -\n"
     ]
    },
    {
     "name": "stdout",
     "output_type": "stream",
     "text": [
      "3\n",
      "2\n",
      "0\n",
      "3\n",
      "0\n",
      "2\n",
      "3\n",
      "2\n",
      "2\n",
      "3\n",
      "3\n",
      "0"
     ]
    },
    {
     "name": "stderr",
     "output_type": "stream",
     "text": [
      "192.168.117.1 - - [13/May/2021 14:55:41] \"\u001b[37mPOST /test HTTP/1.1\u001b[0m\" 200 -\n",
      "192.168.117.1 - - [13/May/2021 14:55:41] \"\u001b[37mPOST /test HTTP/1.1\u001b[0m\" 200 -\n",
      "192.168.117.1 - - [13/May/2021 14:55:41] \"\u001b[37mPOST /test HTTP/1.1\u001b[0m\" 200 -\n",
      "192.168.117.1 - - [13/May/2021 14:55:41] \"\u001b[37mPOST /test HTTP/1.1\u001b[0m\" 200 -\n",
      "192.168.117.1 - - [13/May/2021 14:55:41] \"\u001b[37mPOST /test HTTP/1.1\u001b[0m\" 200 -\n",
      "192.168.117.1 - - [13/May/2021 14:55:42] \"\u001b[37mPOST /test HTTP/1.1\u001b[0m\" 200 -\n",
      "192.168.117.1 - - [13/May/2021 14:55:42] \"\u001b[37mPOST /test HTTP/1.1\u001b[0m\" 200 -\n"
     ]
    },
    {
     "name": "stdout",
     "output_type": "stream",
     "text": [
      "3\n",
      "\n",
      "1\n",
      "1\n",
      "2\n",
      "1\n",
      "1\n",
      "0\n"
     ]
    },
    {
     "name": "stderr",
     "output_type": "stream",
     "text": [
      "192.168.117.1 - - [13/May/2021 14:55:42] \"\u001b[37mPOST /test HTTP/1.1\u001b[0m\" 200 -\n",
      "192.168.117.1 - - [13/May/2021 14:55:42] \"\u001b[37mPOST /test HTTP/1.1\u001b[0m\" 200 -\n",
      "192.168.117.1 - - [13/May/2021 14:55:42] \"\u001b[37mPOST /test HTTP/1.1\u001b[0m\" 200 -\n",
      "192.168.117.1 - - [13/May/2021 14:55:42] \"\u001b[37mPOST /test HTTP/1.1\u001b[0m\" 200 -\n",
      "192.168.117.1 - - [13/May/2021 14:55:42] \"\u001b[37mPOST /test HTTP/1.1\u001b[0m\" 200 -\n",
      "192.168.117.1 - - [13/May/2021 14:55:42] \"\u001b[37mPOST /test HTTP/1.1\u001b[0m\" 200 -\n",
      "192.168.117.1 - - [13/May/2021 14:55:42] \"\u001b[37mPOST /test HTTP/1.1\u001b[0m\" 200 -\n"
     ]
    },
    {
     "name": "stdout",
     "output_type": "stream",
     "text": [
      "1\n",
      "1\n",
      "1\n",
      "0\n",
      "0\n",
      "2\n",
      "1\n",
      "1\n"
     ]
    },
    {
     "name": "stderr",
     "output_type": "stream",
     "text": [
      "192.168.117.1 - - [13/May/2021 14:55:42] \"\u001b[37mPOST /test HTTP/1.1\u001b[0m\" 200 -\n",
      "192.168.117.1 - - [13/May/2021 14:55:42] \"\u001b[37mPOST /test HTTP/1.1\u001b[0m\" 200 -\n",
      "192.168.117.1 - - [13/May/2021 14:55:42] \"\u001b[37mPOST /test HTTP/1.1\u001b[0m\" 200 -\n",
      "192.168.117.1 - - [13/May/2021 14:55:42] \"\u001b[37mPOST /test HTTP/1.1\u001b[0m\" 200 -\n"
     ]
    },
    {
     "name": "stdout",
     "output_type": "stream",
     "text": [
      "1\n",
      "1\n",
      "2\n",
      "1\n"
     ]
    },
    {
     "name": "stderr",
     "output_type": "stream",
     "text": [
      "192.168.117.1 - - [13/May/2021 14:55:42] \"\u001b[37mPOST /test HTTP/1.1\u001b[0m\" 200 -\n",
      "192.168.117.1 - - [13/May/2021 14:55:42] \"\u001b[37mPOST /test HTTP/1.1\u001b[0m\" 200 -\n",
      "192.168.117.1 - - [13/May/2021 14:55:42] \"\u001b[37mPOST /test HTTP/1.1\u001b[0m\" 200 -\n",
      "192.168.117.1 - - [13/May/2021 14:55:42] \"\u001b[37mPOST /test HTTP/1.1\u001b[0m\" 200 -\n",
      "192.168.117.1 - - [13/May/2021 14:55:42] \"\u001b[37mPOST /test HTTP/1.1\u001b[0m\" 200 -\n",
      "192.168.117.1 - - [13/May/2021 14:55:42] \"\u001b[37mPOST /test HTTP/1.1\u001b[0m\" 200 -\n",
      "192.168.117.1 - - [13/May/2021 14:55:42] \"\u001b[37mPOST /test HTTP/1.1\u001b[0m\" 200 -\n",
      "192.168.117.1 - - [13/May/2021 14:55:42] \"\u001b[37mPOST /test HTTP/1.1\u001b[0m\" 200 -\n"
     ]
    },
    {
     "name": "stdout",
     "output_type": "stream",
     "text": [
      "1\n",
      "0\n",
      "0\n",
      "1\n",
      "1\n",
      "1\n"
     ]
    },
    {
     "name": "stderr",
     "output_type": "stream",
     "text": [
      "192.168.117.1 - - [13/May/2021 14:55:42] \"\u001b[37mPOST /test HTTP/1.1\u001b[0m\" 200 -\n",
      "192.168.117.1 - - [13/May/2021 14:55:42] \"\u001b[37mPOST /test HTTP/1.1\u001b[0m\" 200 -\n",
      "192.168.117.1 - - [13/May/2021 14:55:42] \"\u001b[37mPOST /test HTTP/1.1\u001b[0m\" 200 -\n",
      "192.168.117.1 - - [13/May/2021 14:55:42] \"\u001b[37mPOST /test HTTP/1.1\u001b[0m\" 200 -\n",
      "192.168.117.1 - - [13/May/2021 14:55:42] \"\u001b[37mPOST /test HTTP/1.1\u001b[0m\" 200 -\n"
     ]
    },
    {
     "name": "stdout",
     "output_type": "stream",
     "text": [
      "2\n",
      "1\n",
      "1\n",
      "0\n",
      "2\n",
      "2\n",
      "1\n"
     ]
    },
    {
     "name": "stderr",
     "output_type": "stream",
     "text": [
      "192.168.117.1 - - [13/May/2021 14:55:42] \"\u001b[37mPOST /test HTTP/1.1\u001b[0m\" 200 -\n",
      "192.168.117.1 - - [13/May/2021 14:55:42] \"\u001b[37mPOST /test HTTP/1.1\u001b[0m\" 200 -\n",
      "192.168.117.1 - - [13/May/2021 14:55:42] \"\u001b[37mPOST /test HTTP/1.1\u001b[0m\" 200 -\n",
      "192.168.117.1 - - [13/May/2021 14:55:43] \"\u001b[37mPOST /test HTTP/1.1\u001b[0m\" 200 -\n",
      "192.168.117.1 - - [13/May/2021 14:55:43] \"\u001b[37mPOST /test HTTP/1.1\u001b[0m\" 200 -\n"
     ]
    },
    {
     "name": "stdout",
     "output_type": "stream",
     "text": [
      "1\n",
      "1\n",
      "1\n"
     ]
    },
    {
     "name": "stderr",
     "output_type": "stream",
     "text": [
      "192.168.117.1 - - [13/May/2021 14:55:43] \"\u001b[37mPOST /test HTTP/1.1\u001b[0m\" 200 -\n",
      "192.168.117.1 - - [13/May/2021 14:55:43] \"\u001b[37mPOST /test HTTP/1.1\u001b[0m\" 200 -\n",
      "192.168.117.1 - - [13/May/2021 14:55:43] \"\u001b[37mPOST /test HTTP/1.1\u001b[0m\" 200 -\n",
      "192.168.117.1 - - [13/May/2021 14:55:43] \"\u001b[37mPOST /test HTTP/1.1\u001b[0m\" 200 -\n"
     ]
    },
    {
     "name": "stdout",
     "output_type": "stream",
     "text": [
      "0\n",
      "0\n",
      "1\n",
      "1\n",
      "2\n",
      "2\n",
      "1\n",
      "2\n"
     ]
    },
    {
     "name": "stderr",
     "output_type": "stream",
     "text": [
      "192.168.117.1 - - [13/May/2021 14:55:43] \"\u001b[37mPOST /test HTTP/1.1\u001b[0m\" 200 -\n",
      "192.168.117.1 - - [13/May/2021 14:55:43] \"\u001b[37mPOST /test HTTP/1.1\u001b[0m\" 200 -\n",
      "192.168.117.1 - - [13/May/2021 14:55:43] \"\u001b[37mPOST /test HTTP/1.1\u001b[0m\" 200 -\n",
      "192.168.117.1 - - [13/May/2021 14:55:43] \"\u001b[37mPOST /test HTTP/1.1\u001b[0m\" 200 -\n"
     ]
    },
    {
     "name": "stdout",
     "output_type": "stream",
     "text": [
      "1\n",
      "1\n",
      "2\n",
      "3\n",
      "3\n"
     ]
    },
    {
     "name": "stderr",
     "output_type": "stream",
     "text": [
      "192.168.117.1 - - [13/May/2021 14:55:43] \"\u001b[37mPOST /test HTTP/1.1\u001b[0m\" 200 -\n",
      "192.168.117.1 - - [13/May/2021 14:55:43] \"\u001b[37mPOST /test HTTP/1.1\u001b[0m\" 200 -\n",
      "192.168.117.1 - - [13/May/2021 14:55:43] \"\u001b[37mPOST /test HTTP/1.1\u001b[0m\" 200 -\n",
      "192.168.117.1 - - [13/May/2021 14:55:43] \"\u001b[37mPOST /test HTTP/1.1\u001b[0m\" 200 -\n"
     ]
    },
    {
     "name": "stdout",
     "output_type": "stream",
     "text": [
      "3\n",
      "0\n",
      "2\n",
      "3\n"
     ]
    },
    {
     "name": "stderr",
     "output_type": "stream",
     "text": [
      "192.168.117.1 - - [13/May/2021 14:55:43] \"\u001b[37mPOST /test HTTP/1.1\u001b[0m\" 200 -\n",
      "192.168.117.1 - - [13/May/2021 14:55:43] \"\u001b[37mPOST /test HTTP/1.1\u001b[0m\" 200 -\n",
      "192.168.117.1 - - [13/May/2021 14:55:43] \"\u001b[37mPOST /test HTTP/1.1\u001b[0m\" 200 -\n",
      "192.168.117.1 - - [13/May/2021 14:55:43] \"\u001b[37mPOST /test HTTP/1.1\u001b[0m\" 200 -\n"
     ]
    },
    {
     "name": "stdout",
     "output_type": "stream",
     "text": [
      "1\n",
      "2\n",
      "0\n"
     ]
    },
    {
     "name": "stderr",
     "output_type": "stream",
     "text": [
      "192.168.117.1 - - [13/May/2021 14:55:43] \"\u001b[37mPOST /test HTTP/1.1\u001b[0m\" 200 -\n",
      "192.168.117.1 - - [13/May/2021 14:55:44] \"\u001b[37mPOST /test HTTP/1.1\u001b[0m\" 200 -\n",
      "192.168.117.1 - - [13/May/2021 14:55:44] \"\u001b[37mPOST /test HTTP/1.1\u001b[0m\" 200 -\n",
      "192.168.117.1 - - [13/May/2021 14:55:44] \"\u001b[37mPOST /test HTTP/1.1\u001b[0m\" 200 -\n",
      "192.168.117.1 - - [13/May/2021 14:55:44] \"\u001b[37mPOST /test HTTP/1.1\u001b[0m\" 200 -\n"
     ]
    },
    {
     "name": "stdout",
     "output_type": "stream",
     "text": [
      "3\n",
      "32\n",
      "\n",
      "3\n",
      "1\n",
      "2\n",
      "3\n"
     ]
    },
    {
     "name": "stderr",
     "output_type": "stream",
     "text": [
      "192.168.117.1 - - [13/May/2021 14:55:44] \"\u001b[37mPOST /test HTTP/1.1\u001b[0m\" 200 -\n",
      "192.168.117.1 - - [13/May/2021 14:55:44] \"\u001b[37mPOST /test HTTP/1.1\u001b[0m\" 200 -\n",
      "192.168.117.1 - - [13/May/2021 14:55:44] \"\u001b[37mPOST /test HTTP/1.1\u001b[0m\" 200 -\n"
     ]
    },
    {
     "name": "stdout",
     "output_type": "stream",
     "text": [
      "0\n",
      "3\n",
      "2\n",
      "2\n",
      "02\n",
      "\n",
      "3\n",
      "0\n",
      "2\n"
     ]
    },
    {
     "name": "stderr",
     "output_type": "stream",
     "text": [
      "192.168.117.1 - - [13/May/2021 14:55:44] \"\u001b[37mPOST /test HTTP/1.1\u001b[0m\" 200 -\n",
      "192.168.117.1 - - [13/May/2021 14:55:44] \"\u001b[37mPOST /test HTTP/1.1\u001b[0m\" 200 -\n",
      "192.168.117.1 - - [13/May/2021 14:55:44] \"\u001b[37mPOST /test HTTP/1.1\u001b[0m\" 200 -\n",
      "192.168.117.1 - - [13/May/2021 14:55:44] \"\u001b[37mPOST /test HTTP/1.1\u001b[0m\" 200 -\n",
      "192.168.117.1 - - [13/May/2021 14:55:44] \"\u001b[37mPOST /test HTTP/1.1\u001b[0m\" 200 -\n",
      "192.168.117.1 - - [13/May/2021 14:55:44] \"\u001b[37mPOST /test HTTP/1.1\u001b[0m\" 200 -\n",
      "192.168.117.1 - - [13/May/2021 14:55:44] \"\u001b[37mPOST /test HTTP/1.1\u001b[0m\" 200 -\n"
     ]
    },
    {
     "name": "stdout",
     "output_type": "stream",
     "text": [
      "3\n",
      "0\n",
      "2\n",
      "2\n",
      "3\n",
      "3\n",
      "2\n",
      "0\n",
      "2\n",
      "0\n",
      "3\n",
      "2\n",
      "0"
     ]
    },
    {
     "name": "stderr",
     "output_type": "stream",
     "text": [
      "192.168.117.1 - - [13/May/2021 14:55:44] \"\u001b[37mPOST /test HTTP/1.1\u001b[0m\" 200 -\n",
      "192.168.117.1 - - [13/May/2021 14:55:44] \"\u001b[37mPOST /test HTTP/1.1\u001b[0m\" 200 -\n"
     ]
    },
    {
     "name": "stdout",
     "output_type": "stream",
     "text": [
      "2\n",
      "\n",
      "3\n",
      "3\n",
      "3\n",
      "3\n",
      "2\n",
      "3\n",
      "3\n",
      "2\n"
     ]
    },
    {
     "name": "stderr",
     "output_type": "stream",
     "text": [
      "192.168.117.1 - - [13/May/2021 14:55:44] \"\u001b[37mPOST /test HTTP/1.1\u001b[0m\" 200 -\n",
      "192.168.117.1 - - [13/May/2021 14:55:44] \"\u001b[37mPOST /test HTTP/1.1\u001b[0m\" 200 -\n",
      "192.168.117.1 - - [13/May/2021 14:55:45] \"\u001b[37mPOST /test HTTP/1.1\u001b[0m\" 200 -\n"
     ]
    },
    {
     "name": "stdout",
     "output_type": "stream",
     "text": [
      "3\n",
      "2\n",
      "3\n",
      "2\n",
      "2\n",
      "0\n",
      "2\n",
      "31\n",
      "\n",
      "0\n"
     ]
    },
    {
     "name": "stderr",
     "output_type": "stream",
     "text": [
      "192.168.117.1 - - [13/May/2021 14:55:45] \"\u001b[37mPOST /test HTTP/1.1\u001b[0m\" 200 -\n",
      "192.168.117.1 - - [13/May/2021 14:55:45] \"\u001b[37mPOST /test HTTP/1.1\u001b[0m\" 200 -\n",
      "192.168.117.1 - - [13/May/2021 14:55:45] \"\u001b[37mPOST /test HTTP/1.1\u001b[0m\" 200 -\n",
      "192.168.117.1 - - [13/May/2021 14:55:45] \"\u001b[37mPOST /test HTTP/1.1\u001b[0m\" 200 -\n",
      "192.168.117.1 - - [13/May/2021 14:55:45] \"\u001b[37mPOST /test HTTP/1.1\u001b[0m\" 200 -\n"
     ]
    },
    {
     "name": "stdout",
     "output_type": "stream",
     "text": [
      "0\n",
      "3\n",
      "3\n",
      "3\n",
      "2\n",
      "1\n"
     ]
    },
    {
     "name": "stderr",
     "output_type": "stream",
     "text": [
      "192.168.117.1 - - [13/May/2021 14:55:45] \"\u001b[37mPOST /test HTTP/1.1\u001b[0m\" 200 -\n",
      "192.168.117.1 - - [13/May/2021 14:55:45] \"\u001b[37mPOST /test HTTP/1.1\u001b[0m\" 200 -\n",
      "192.168.117.1 - - [13/May/2021 14:55:45] \"\u001b[37mPOST /test HTTP/1.1\u001b[0m\" 200 -\n",
      "192.168.117.1 - - [13/May/2021 14:55:45] \"\u001b[37mPOST /test HTTP/1.1\u001b[0m\" 200 -\n",
      "192.168.117.1 - - [13/May/2021 14:55:45] \"\u001b[37mPOST /test HTTP/1.1\u001b[0m\" 200 -\n"
     ]
    },
    {
     "name": "stdout",
     "output_type": "stream",
     "text": [
      "2\n",
      "1\n",
      "20\n",
      "\n",
      "3\n",
      "2\n",
      "0\n",
      "2\n",
      "3\n",
      "0\n",
      "2\n",
      "1\n",
      "3\n",
      "0\n"
     ]
    },
    {
     "name": "stderr",
     "output_type": "stream",
     "text": [
      "192.168.117.1 - - [13/May/2021 14:55:46] \"\u001b[37mPOST /test HTTP/1.1\u001b[0m\" 200 -\n",
      "192.168.117.1 - - [13/May/2021 14:55:46] \"\u001b[37mPOST /test HTTP/1.1\u001b[0m\" 200 -\n",
      "192.168.117.1 - - [13/May/2021 14:55:46] \"\u001b[37mPOST /test HTTP/1.1\u001b[0m\" 200 -\n",
      "192.168.117.1 - - [13/May/2021 14:55:46] \"\u001b[37mPOST /test HTTP/1.1\u001b[0m\" 200 -\n",
      "192.168.117.1 - - [13/May/2021 14:55:46] \"\u001b[37mPOST /test HTTP/1.1\u001b[0m\" 200 -\n"
     ]
    },
    {
     "name": "stdout",
     "output_type": "stream",
     "text": [
      "1\n",
      "32\n",
      "\n",
      "1\n",
      "0\n",
      "2\n"
     ]
    },
    {
     "name": "stderr",
     "output_type": "stream",
     "text": [
      "192.168.117.1 - - [13/May/2021 14:55:46] \"\u001b[37mPOST /test HTTP/1.1\u001b[0m\" 200 -\n",
      "192.168.117.1 - - [13/May/2021 14:55:46] \"\u001b[37mPOST /test HTTP/1.1\u001b[0m\" 200 -\n",
      "192.168.117.1 - - [13/May/2021 14:55:46] \"\u001b[37mPOST /test HTTP/1.1\u001b[0m\" 200 -\n",
      "192.168.117.1 - - [13/May/2021 14:55:46] \"\u001b[37mPOST /test HTTP/1.1\u001b[0m\" 200 -\n",
      "192.168.117.1 - - [13/May/2021 14:55:46] \"\u001b[37mPOST /test HTTP/1.1\u001b[0m\" 200 -\n"
     ]
    },
    {
     "name": "stdout",
     "output_type": "stream",
     "text": [
      "3\n",
      "1\n",
      "2\n",
      "3\n",
      "0\n"
     ]
    },
    {
     "name": "stderr",
     "output_type": "stream",
     "text": [
      "192.168.117.1 - - [13/May/2021 14:55:46] \"\u001b[37mPOST /test HTTP/1.1\u001b[0m\" 200 -\n",
      "192.168.117.1 - - [13/May/2021 14:55:46] \"\u001b[37mPOST /test HTTP/1.1\u001b[0m\" 200 -\n",
      "192.168.117.1 - - [13/May/2021 14:55:46] \"\u001b[37mPOST /test HTTP/1.1\u001b[0m\" 200 -\n",
      "192.168.117.1 - - [13/May/2021 14:55:46] \"\u001b[37mPOST /test HTTP/1.1\u001b[0m\" 200 -\n",
      "192.168.117.1 - - [13/May/2021 14:55:46] \"\u001b[37mPOST /test HTTP/1.1\u001b[0m\" 200 -\n"
     ]
    },
    {
     "name": "stdout",
     "output_type": "stream",
     "text": [
      "1\n",
      "1\n",
      "3\n",
      "0\n",
      "1\n",
      "1\n"
     ]
    },
    {
     "name": "stderr",
     "output_type": "stream",
     "text": [
      "192.168.117.1 - - [13/May/2021 14:55:46] \"\u001b[37mPOST /test HTTP/1.1\u001b[0m\" 200 -\n",
      "192.168.117.1 - - [13/May/2021 14:55:46] \"\u001b[37mPOST /test HTTP/1.1\u001b[0m\" 200 -\n",
      "192.168.117.1 - - [13/May/2021 14:55:46] \"\u001b[37mPOST /test HTTP/1.1\u001b[0m\" 200 -\n",
      "192.168.117.1 - - [13/May/2021 14:55:46] \"\u001b[37mPOST /test HTTP/1.1\u001b[0m\" 200 -\n",
      "192.168.117.1 - - [13/May/2021 14:55:46] \"\u001b[37mPOST /test HTTP/1.1\u001b[0m\" 200 -\n",
      "192.168.117.1 - - [13/May/2021 14:55:46] \"\u001b[37mPOST /test HTTP/1.1\u001b[0m\" 200 -\n"
     ]
    },
    {
     "name": "stdout",
     "output_type": "stream",
     "text": [
      "1\n",
      "1\n",
      "0\n",
      "1\n",
      "1\n"
     ]
    },
    {
     "name": "stderr",
     "output_type": "stream",
     "text": [
      "192.168.117.1 - - [13/May/2021 14:55:47] \"\u001b[37mPOST /test HTTP/1.1\u001b[0m\" 200 -\n",
      "192.168.117.1 - - [13/May/2021 14:55:47] \"\u001b[37mPOST /test HTTP/1.1\u001b[0m\" 200 -\n",
      "192.168.117.1 - - [13/May/2021 14:55:47] \"\u001b[37mPOST /test HTTP/1.1\u001b[0m\" 200 -\n",
      "192.168.117.1 - - [13/May/2021 14:55:47] \"\u001b[37mPOST /test HTTP/1.1\u001b[0m\" 200 -\n",
      "192.168.117.1 - - [13/May/2021 14:55:47] \"\u001b[37mPOST /test HTTP/1.1\u001b[0m\" 200 -\n"
     ]
    },
    {
     "name": "stdout",
     "output_type": "stream",
     "text": [
      "2\n",
      "1\n",
      "1\n",
      "2\n"
     ]
    },
    {
     "name": "stderr",
     "output_type": "stream",
     "text": [
      "192.168.117.1 - - [13/May/2021 14:55:47] \"\u001b[37mPOST /test HTTP/1.1\u001b[0m\" 200 -\n",
      "192.168.117.1 - - [13/May/2021 14:55:47] \"\u001b[37mPOST /test HTTP/1.1\u001b[0m\" 200 -\n",
      "192.168.117.1 - - [13/May/2021 14:55:47] \"\u001b[37mPOST /test HTTP/1.1\u001b[0m\" 200 -\n",
      "192.168.117.1 - - [13/May/2021 14:55:47] \"\u001b[37mPOST /test HTTP/1.1\u001b[0m\" 200 -\n"
     ]
    },
    {
     "name": "stdout",
     "output_type": "stream",
     "text": [
      "0\n",
      "2\n",
      "2\n",
      "3\n"
     ]
    },
    {
     "name": "stderr",
     "output_type": "stream",
     "text": [
      "192.168.117.1 - - [13/May/2021 14:55:47] \"\u001b[37mPOST /test HTTP/1.1\u001b[0m\" 200 -\n",
      "192.168.117.1 - - [13/May/2021 14:55:47] \"\u001b[37mPOST /test HTTP/1.1\u001b[0m\" 200 -\n",
      "192.168.117.1 - - [13/May/2021 14:55:47] \"\u001b[37mPOST /test HTTP/1.1\u001b[0m\" 200 -\n"
     ]
    },
    {
     "name": "stdout",
     "output_type": "stream",
     "text": [
      "32\n",
      "\n",
      "1\n",
      "1\n"
     ]
    },
    {
     "name": "stderr",
     "output_type": "stream",
     "text": [
      "192.168.117.1 - - [13/May/2021 14:55:47] \"\u001b[37mPOST /test HTTP/1.1\u001b[0m\" 200 -\n",
      "192.168.117.1 - - [13/May/2021 14:55:47] \"\u001b[37mPOST /test HTTP/1.1\u001b[0m\" 200 -\n",
      "192.168.117.1 - - [13/May/2021 14:55:47] \"\u001b[37mPOST /test HTTP/1.1\u001b[0m\" 200 -\n",
      "192.168.117.1 - - [13/May/2021 14:55:47] \"\u001b[37mPOST /test HTTP/1.1\u001b[0m\" 200 -\n",
      "192.168.117.1 - - [13/May/2021 14:55:47] \"\u001b[37mPOST /test HTTP/1.1\u001b[0m\" 200 -\n"
     ]
    },
    {
     "name": "stdout",
     "output_type": "stream",
     "text": [
      "0\n",
      "2\n",
      "1\n",
      "1\n",
      "1\n",
      "0\n"
     ]
    },
    {
     "name": "stderr",
     "output_type": "stream",
     "text": [
      "192.168.117.1 - - [13/May/2021 14:55:47] \"\u001b[37mPOST /test HTTP/1.1\u001b[0m\" 200 -\n",
      "192.168.117.1 - - [13/May/2021 14:55:47] \"\u001b[37mPOST /test HTTP/1.1\u001b[0m\" 200 -\n",
      "192.168.117.1 - - [13/May/2021 14:55:47] \"\u001b[37mPOST /test HTTP/1.1\u001b[0m\" 200 -\n",
      "192.168.117.1 - - [13/May/2021 14:55:47] \"\u001b[37mPOST /test HTTP/1.1\u001b[0m\" 200 -\n"
     ]
    },
    {
     "name": "stdout",
     "output_type": "stream",
     "text": [
      "2\n",
      "0\n",
      "2\n",
      "3\n",
      "3\n",
      "3\n",
      "2\n",
      "0\n"
     ]
    },
    {
     "name": "stderr",
     "output_type": "stream",
     "text": [
      "192.168.117.1 - - [13/May/2021 14:55:48] \"\u001b[37mPOST /test HTTP/1.1\u001b[0m\" 200 -\n",
      "192.168.117.1 - - [13/May/2021 14:55:48] \"\u001b[37mPOST /test HTTP/1.1\u001b[0m\" 200 -\n",
      "192.168.117.1 - - [13/May/2021 14:55:48] \"\u001b[37mPOST /test HTTP/1.1\u001b[0m\" 200 -\n"
     ]
    },
    {
     "name": "stdout",
     "output_type": "stream",
     "text": [
      "2\n",
      "2\n",
      "1\n",
      "0\n",
      "2\n",
      "3\n",
      "3\n"
     ]
    },
    {
     "name": "stderr",
     "output_type": "stream",
     "text": [
      "192.168.117.1 - - [13/May/2021 14:55:48] \"\u001b[37mPOST /test HTTP/1.1\u001b[0m\" 200 -\n",
      "192.168.117.1 - - [13/May/2021 14:55:48] \"\u001b[37mPOST /test HTTP/1.1\u001b[0m\" 200 -\n",
      "192.168.117.1 - - [13/May/2021 14:55:48] \"\u001b[37mPOST /test HTTP/1.1\u001b[0m\" 200 -\n",
      "192.168.117.1 - - [13/May/2021 14:55:48] \"\u001b[37mPOST /test HTTP/1.1\u001b[0m\" 200 -\n"
     ]
    },
    {
     "name": "stdout",
     "output_type": "stream",
     "text": [
      "1\n",
      "2\n",
      "0\n",
      "3\n",
      "2\n",
      "0\n",
      "32\n",
      "\n"
     ]
    },
    {
     "name": "stderr",
     "output_type": "stream",
     "text": [
      "192.168.117.1 - - [13/May/2021 14:55:48] \"\u001b[37mPOST /test HTTP/1.1\u001b[0m\" 200 -\n",
      "192.168.117.1 - - [13/May/2021 14:55:48] \"\u001b[37mPOST /test HTTP/1.1\u001b[0m\" 200 -\n",
      "192.168.117.1 - - [13/May/2021 14:55:48] \"\u001b[37mPOST /test HTTP/1.1\u001b[0m\" 200 -\n"
     ]
    },
    {
     "name": "stdout",
     "output_type": "stream",
     "text": [
      "33\n",
      "\n",
      "0\n",
      "3\n",
      "0\n",
      "2\n",
      "3\n"
     ]
    },
    {
     "name": "stderr",
     "output_type": "stream",
     "text": [
      "192.168.117.1 - - [13/May/2021 14:55:48] \"\u001b[37mPOST /test HTTP/1.1\u001b[0m\" 200 -\n"
     ]
    },
    {
     "name": "stdout",
     "output_type": "stream",
     "text": [
      "23\n",
      "\n",
      "2\n",
      "2\n"
     ]
    },
    {
     "name": "stderr",
     "output_type": "stream",
     "text": [
      "192.168.117.1 - - [13/May/2021 14:55:48] \"\u001b[37mPOST /test HTTP/1.1\u001b[0m\" 200 -\n",
      "192.168.117.1 - - [13/May/2021 14:55:48] \"\u001b[37mPOST /test HTTP/1.1\u001b[0m\" 200 -\n",
      "192.168.117.1 - - [13/May/2021 14:55:48] \"\u001b[37mPOST /test HTTP/1.1\u001b[0m\" 200 -\n",
      "192.168.117.1 - - [13/May/2021 14:55:48] \"\u001b[37mPOST /test HTTP/1.1\u001b[0m\" 200 -\n"
     ]
    },
    {
     "name": "stdout",
     "output_type": "stream",
     "text": [
      "3\n",
      "3\n",
      "1\n",
      "0\n",
      "2\n",
      "0\n",
      "2\n",
      "3\n",
      "3\n",
      "2\n"
     ]
    },
    {
     "name": "stderr",
     "output_type": "stream",
     "text": [
      "192.168.117.1 - - [13/May/2021 14:55:48] \"\u001b[37mPOST /test HTTP/1.1\u001b[0m\" 200 -\n",
      "192.168.117.1 - - [13/May/2021 14:55:48] \"\u001b[37mPOST /test HTTP/1.1\u001b[0m\" 200 -\n",
      "192.168.117.1 - - [13/May/2021 14:55:48] \"\u001b[37mPOST /test HTTP/1.1\u001b[0m\" 200 -\n",
      "192.168.117.1 - - [13/May/2021 14:55:48] \"\u001b[37mPOST /test HTTP/1.1\u001b[0m\" 200 -\n"
     ]
    },
    {
     "name": "stdout",
     "output_type": "stream",
     "text": [
      "2\n",
      "1\n",
      "1\n",
      "2\n",
      "1\n",
      "1\n",
      "0\n",
      "3\n"
     ]
    },
    {
     "name": "stderr",
     "output_type": "stream",
     "text": [
      "192.168.117.1 - - [13/May/2021 14:55:48] \"\u001b[37mPOST /test HTTP/1.1\u001b[0m\" 200 -\n",
      "192.168.117.1 - - [13/May/2021 14:55:48] \"\u001b[37mPOST /test HTTP/1.1\u001b[0m\" 200 -\n",
      "192.168.117.1 - - [13/May/2021 14:55:48] \"\u001b[37mPOST /test HTTP/1.1\u001b[0m\" 200 -\n",
      "192.168.117.1 - - [13/May/2021 14:55:48] \"\u001b[37mPOST /test HTTP/1.1\u001b[0m\" 200 -\n"
     ]
    },
    {
     "name": "stdout",
     "output_type": "stream",
     "text": [
      "0\n",
      "3\n",
      "1\n",
      "1\n",
      "1\n",
      "0\n"
     ]
    },
    {
     "name": "stderr",
     "output_type": "stream",
     "text": [
      "192.168.117.1 - - [13/May/2021 14:55:48] \"\u001b[37mPOST /test HTTP/1.1\u001b[0m\" 200 -\n",
      "192.168.117.1 - - [13/May/2021 14:55:48] \"\u001b[37mPOST /test HTTP/1.1\u001b[0m\" 200 -\n",
      "192.168.117.1 - - [13/May/2021 14:55:48] \"\u001b[37mPOST /test HTTP/1.1\u001b[0m\" 200 -\n",
      "192.168.117.1 - - [13/May/2021 14:55:49] \"\u001b[37mPOST /test HTTP/1.1\u001b[0m\" 200 -\n"
     ]
    },
    {
     "name": "stdout",
     "output_type": "stream",
     "text": [
      "2\n",
      "2\n",
      "11\n",
      "\n",
      "2\n",
      "3\n",
      "30\n",
      "\n",
      "3\n",
      "3\n",
      "3\n"
     ]
    },
    {
     "name": "stderr",
     "output_type": "stream",
     "text": [
      "192.168.117.1 - - [13/May/2021 14:55:49] \"\u001b[37mPOST /test HTTP/1.1\u001b[0m\" 200 -\n",
      "192.168.117.1 - - [13/May/2021 14:55:49] \"\u001b[37mPOST /test HTTP/1.1\u001b[0m\" 200 -\n",
      "192.168.117.1 - - [13/May/2021 14:55:49] \"\u001b[37mPOST /test HTTP/1.1\u001b[0m\" 200 -\n",
      "192.168.117.1 - - [13/May/2021 14:55:49] \"\u001b[37mPOST /test HTTP/1.1\u001b[0m\" 200 -\n",
      "192.168.117.1 - - [13/May/2021 14:55:49] \"\u001b[37mPOST /test HTTP/1.1\u001b[0m\" 200 -\n"
     ]
    },
    {
     "name": "stdout",
     "output_type": "stream",
     "text": [
      "1\n",
      "22\n",
      "\n",
      "0\n",
      "3\n",
      "2\n"
     ]
    },
    {
     "name": "stderr",
     "output_type": "stream",
     "text": [
      "192.168.117.1 - - [13/May/2021 14:55:49] \"\u001b[37mPOST /test HTTP/1.1\u001b[0m\" 200 -\n",
      "192.168.117.1 - - [13/May/2021 14:55:49] \"\u001b[37mPOST /test HTTP/1.1\u001b[0m\" 200 -\n",
      "192.168.117.1 - - [13/May/2021 14:55:49] \"\u001b[37mPOST /test HTTP/1.1\u001b[0m\" 200 -\n",
      "192.168.117.1 - - [13/May/2021 14:55:49] \"\u001b[37mPOST /test HTTP/1.1\u001b[0m\" 200 -\n",
      "192.168.117.1 - - [13/May/2021 14:55:49] \"\u001b[37mPOST /test HTTP/1.1\u001b[0m\" 200 -\n"
     ]
    },
    {
     "name": "stdout",
     "output_type": "stream",
     "text": [
      "3\n",
      "3\n",
      "1\n",
      "0\n"
     ]
    },
    {
     "name": "stderr",
     "output_type": "stream",
     "text": [
      "192.168.117.1 - - [13/May/2021 14:55:49] \"\u001b[37mPOST /test HTTP/1.1\u001b[0m\" 200 -\n",
      "192.168.117.1 - - [13/May/2021 14:55:49] \"\u001b[37mPOST /test HTTP/1.1\u001b[0m\" 200 -\n",
      "192.168.117.1 - - [13/May/2021 14:55:49] \"\u001b[37mPOST /test HTTP/1.1\u001b[0m\" 200 -\n",
      "192.168.117.1 - - [13/May/2021 14:55:49] \"\u001b[37mPOST /test HTTP/1.1\u001b[0m\" 200 -\n"
     ]
    },
    {
     "name": "stdout",
     "output_type": "stream",
     "text": [
      "2\n",
      "1\n",
      "0\n"
     ]
    },
    {
     "name": "stderr",
     "output_type": "stream",
     "text": [
      "192.168.117.1 - - [13/May/2021 14:55:49] \"\u001b[37mPOST /test HTTP/1.1\u001b[0m\" 200 -\n",
      "192.168.117.1 - - [13/May/2021 14:55:49] \"\u001b[37mPOST /test HTTP/1.1\u001b[0m\" 200 -\n",
      "192.168.117.1 - - [13/May/2021 14:55:50] \"\u001b[37mPOST /test HTTP/1.1\u001b[0m\" 200 -\n",
      "192.168.117.1 - - [13/May/2021 14:55:50] \"\u001b[37mPOST /test HTTP/1.1\u001b[0m\" 200 -\n",
      "192.168.117.1 - - [13/May/2021 14:55:50] \"\u001b[37mPOST /test HTTP/1.1\u001b[0m\" 200 -\n",
      "192.168.117.1 - - [13/May/2021 14:55:50] \"\u001b[37mPOST /test HTTP/1.1\u001b[0m\" 200 -\n"
     ]
    },
    {
     "name": "stdout",
     "output_type": "stream",
     "text": [
      "2\n",
      "0\n",
      "2\n",
      "1\n",
      "1\n"
     ]
    },
    {
     "name": "stderr",
     "output_type": "stream",
     "text": [
      "192.168.117.1 - - [13/May/2021 14:55:50] \"\u001b[37mPOST /test HTTP/1.1\u001b[0m\" 200 -\n",
      "192.168.117.1 - - [13/May/2021 14:55:50] \"\u001b[37mPOST /test HTTP/1.1\u001b[0m\" 200 -\n",
      "192.168.117.1 - - [13/May/2021 14:55:50] \"\u001b[37mPOST /test HTTP/1.1\u001b[0m\" 200 -\n",
      "192.168.117.1 - - [13/May/2021 14:55:50] \"\u001b[37mPOST /test HTTP/1.1\u001b[0m\" 200 -\n"
     ]
    },
    {
     "name": "stdout",
     "output_type": "stream",
     "text": [
      "1\n",
      "0\n",
      "1\n",
      "2\n",
      "1\n",
      "1\n",
      "2\n",
      "1\n"
     ]
    },
    {
     "name": "stderr",
     "output_type": "stream",
     "text": [
      "192.168.117.1 - - [13/May/2021 14:55:50] \"\u001b[37mPOST /test HTTP/1.1\u001b[0m\" 200 -\n",
      "192.168.117.1 - - [13/May/2021 14:55:50] \"\u001b[37mPOST /test HTTP/1.1\u001b[0m\" 200 -\n",
      "192.168.117.1 - - [13/May/2021 14:55:50] \"\u001b[37mPOST /test HTTP/1.1\u001b[0m\" 200 -\n",
      "192.168.117.1 - - [13/May/2021 14:55:50] \"\u001b[37mPOST /test HTTP/1.1\u001b[0m\" 200 -\n",
      "192.168.117.1 - - [13/May/2021 14:55:50] \"\u001b[37mPOST /test HTTP/1.1\u001b[0m\" 200 -\n"
     ]
    },
    {
     "name": "stdout",
     "output_type": "stream",
     "text": [
      "2\n",
      "3\n",
      "0\n",
      "3\n",
      "2\n"
     ]
    },
    {
     "name": "stderr",
     "output_type": "stream",
     "text": [
      "192.168.117.1 - - [13/May/2021 14:55:50] \"\u001b[37mPOST /test HTTP/1.1\u001b[0m\" 200 -\n",
      "192.168.117.1 - - [13/May/2021 14:55:50] \"\u001b[37mPOST /test HTTP/1.1\u001b[0m\" 200 -\n",
      "192.168.117.1 - - [13/May/2021 14:55:51] \"\u001b[37mPOST /test HTTP/1.1\u001b[0m\" 200 -\n",
      "192.168.117.1 - - [13/May/2021 14:55:51] \"\u001b[37mPOST /test HTTP/1.1\u001b[0m\" 200 -\n",
      "192.168.117.1 - - [13/May/2021 14:55:51] \"\u001b[37mPOST /test HTTP/1.1\u001b[0m\" 200 -\n"
     ]
    },
    {
     "name": "stdout",
     "output_type": "stream",
     "text": [
      "3\n",
      "1\n",
      "0\n",
      "3\n",
      "2\n",
      "1\n",
      "0\n"
     ]
    },
    {
     "name": "stderr",
     "output_type": "stream",
     "text": [
      "192.168.117.1 - - [13/May/2021 14:55:51] \"\u001b[37mPOST /test HTTP/1.1\u001b[0m\" 200 -\n",
      "192.168.117.1 - - [13/May/2021 14:55:51] \"\u001b[37mPOST /test HTTP/1.1\u001b[0m\" 200 -\n",
      "192.168.117.1 - - [13/May/2021 14:55:51] \"\u001b[37mPOST /test HTTP/1.1\u001b[0m\" 200 -\n",
      "192.168.117.1 - - [13/May/2021 14:55:51] \"\u001b[37mPOST /test HTTP/1.1\u001b[0m\" 200 -\n",
      "192.168.117.1 - - [13/May/2021 14:55:51] \"\u001b[37mPOST /test HTTP/1.1\u001b[0m\" 200 -\n",
      "192.168.117.1 - - [13/May/2021 14:55:51] \"\u001b[37mPOST /test HTTP/1.1\u001b[0m\" 200 -\n",
      "192.168.117.1 - - [13/May/2021 14:55:51] \"\u001b[37mPOST /test HTTP/1.1\u001b[0m\" 200 -\n",
      "192.168.117.1 - - [13/May/2021 14:55:51] \"\u001b[37mPOST /test HTTP/1.1\u001b[0m\" 200 -\n",
      "192.168.117.1 - - [13/May/2021 14:55:51] \"\u001b[37mPOST /test HTTP/1.1\u001b[0m\" 200 -\n",
      "192.168.117.1 - - [13/May/2021 14:55:51] \"\u001b[37mPOST /test HTTP/1.1\u001b[0m\" 200 -\n"
     ]
    },
    {
     "name": "stdout",
     "output_type": "stream",
     "text": [
      "0\n",
      "3\n",
      "1\n",
      "3\n",
      "1\n",
      "3\n",
      "2\n"
     ]
    },
    {
     "name": "stderr",
     "output_type": "stream",
     "text": [
      "192.168.117.1 - - [13/May/2021 14:55:51] \"\u001b[37mPOST /test HTTP/1.1\u001b[0m\" 200 -\n",
      "192.168.117.1 - - [13/May/2021 14:55:51] \"\u001b[37mPOST /test HTTP/1.1\u001b[0m\" 200 -\n",
      "192.168.117.1 - - [13/May/2021 14:55:51] \"\u001b[37mPOST /test HTTP/1.1\u001b[0m\" 200 -\n",
      "192.168.117.1 - - [13/May/2021 14:55:52] \"\u001b[37mPOST /test HTTP/1.1\u001b[0m\" 200 -\n",
      "192.168.117.1 - - [13/May/2021 14:55:52] \"\u001b[37mPOST /test HTTP/1.1\u001b[0m\" 200 -\n",
      "192.168.117.1 - - [13/May/2021 14:55:52] \"\u001b[37mPOST /test HTTP/1.1\u001b[0m\" 200 -\n",
      "192.168.117.1 - - [13/May/2021 14:55:52] \"\u001b[37mPOST /test HTTP/1.1\u001b[0m\" 200 -\n",
      "192.168.117.1 - - [13/May/2021 14:55:52] \"\u001b[37mPOST /test HTTP/1.1\u001b[0m\" 200 -\n"
     ]
    },
    {
     "name": "stdout",
     "output_type": "stream",
     "text": [
      "0\n",
      "2\n",
      "2\n",
      "0\n",
      "3\n",
      "2\n",
      "3\n",
      "3\n",
      "3\n",
      "2\n",
      "2\n",
      "0\n",
      "3\n",
      "0\n"
     ]
    },
    {
     "name": "stderr",
     "output_type": "stream",
     "text": [
      "192.168.117.1 - - [13/May/2021 14:55:52] \"\u001b[37mPOST /test HTTP/1.1\u001b[0m\" 200 -\n",
      "192.168.117.1 - - [13/May/2021 14:55:52] \"\u001b[37mPOST /test HTTP/1.1\u001b[0m\" 200 -\n",
      "192.168.117.1 - - [13/May/2021 14:55:52] \"\u001b[37mPOST /test HTTP/1.1\u001b[0m\" 200 -\n",
      "192.168.117.1 - - [13/May/2021 14:55:52] \"\u001b[37mPOST /test HTTP/1.1\u001b[0m\" 200 -\n",
      "192.168.117.1 - - [13/May/2021 14:55:52] \"\u001b[37mPOST /test HTTP/1.1\u001b[0m\" 200 -\n"
     ]
    },
    {
     "name": "stdout",
     "output_type": "stream",
     "text": [
      "2\n",
      "2\n",
      "03\n",
      "\n",
      "2\n",
      "3\n",
      "2\n",
      "3\n",
      "3\n"
     ]
    },
    {
     "name": "stderr",
     "output_type": "stream",
     "text": [
      "192.168.117.1 - - [13/May/2021 14:55:52] \"\u001b[37mPOST /test HTTP/1.1\u001b[0m\" 200 -\n",
      "192.168.117.1 - - [13/May/2021 14:55:52] \"\u001b[37mPOST /test HTTP/1.1\u001b[0m\" 200 -\n",
      "192.168.117.1 - - [13/May/2021 14:55:52] \"\u001b[37mPOST /test HTTP/1.1\u001b[0m\" 200 -\n",
      "192.168.117.1 - - [13/May/2021 14:55:52] \"\u001b[37mPOST /test HTTP/1.1\u001b[0m\" 200 -\n",
      "192.168.117.1 - - [13/May/2021 14:55:52] \"\u001b[37mPOST /test HTTP/1.1\u001b[0m\" 200 -\n",
      "192.168.117.1 - - [13/May/2021 14:55:53] \"\u001b[37mPOST /test HTTP/1.1\u001b[0m\" 200 -\n",
      "192.168.117.1 - - [13/May/2021 14:55:53] \"\u001b[37mPOST /test HTTP/1.1\u001b[0m\" 200 -\n",
      "192.168.117.1 - - [13/May/2021 14:55:53] \"\u001b[37mPOST /test HTTP/1.1\u001b[0m\" 200 -\n",
      "192.168.117.1 - - [13/May/2021 14:55:53] \"\u001b[37mPOST /test HTTP/1.1\u001b[0m\" 200 -\n",
      "192.168.117.1 - - [13/May/2021 14:55:53] \"\u001b[37mPOST /test HTTP/1.1\u001b[0m\" 200 -\n"
     ]
    },
    {
     "name": "stdout",
     "output_type": "stream",
     "text": [
      "2\n",
      "2\n",
      "3\n",
      "3\n",
      "3\n",
      "2\n",
      "3\n",
      "0\n",
      "2\n",
      "0\n",
      "3\n",
      "0\n",
      "2\n",
      "3\n",
      "2\n"
     ]
    },
    {
     "name": "stderr",
     "output_type": "stream",
     "text": [
      "192.168.117.1 - - [13/May/2021 14:55:53] \"\u001b[37mPOST /test HTTP/1.1\u001b[0m\" 200 -\n",
      "192.168.117.1 - - [13/May/2021 14:55:53] \"\u001b[37mPOST /test HTTP/1.1\u001b[0m\" 200 -\n",
      "192.168.117.1 - - [13/May/2021 14:55:53] \"\u001b[37mPOST /test HTTP/1.1\u001b[0m\" 200 -\n",
      "192.168.117.1 - - [13/May/2021 14:55:53] \"\u001b[37mPOST /test HTTP/1.1\u001b[0m\" 200 -\n",
      "192.168.117.1 - - [13/May/2021 14:55:53] \"\u001b[37mPOST /test HTTP/1.1\u001b[0m\" 200 -\n",
      "192.168.117.1 - - [13/May/2021 14:55:53] \"\u001b[37mPOST /test HTTP/1.1\u001b[0m\" 200 -\n",
      "192.168.117.1 - - [13/May/2021 14:55:53] \"\u001b[37mPOST /test HTTP/1.1\u001b[0m\" 200 -\n",
      "192.168.117.1 - - [13/May/2021 14:55:53] \"\u001b[37mPOST /test HTTP/1.1\u001b[0m\" 200 -\n",
      "192.168.117.1 - - [13/May/2021 14:55:53] \"\u001b[37mPOST /test HTTP/1.1\u001b[0m\" 200 -\n"
     ]
    },
    {
     "name": "stdout",
     "output_type": "stream",
     "text": [
      "2\n",
      "0\n",
      "3\n"
     ]
    },
    {
     "name": "stderr",
     "output_type": "stream",
     "text": [
      "192.168.117.1 - - [13/May/2021 14:55:53] \"\u001b[37mPOST /test HTTP/1.1\u001b[0m\" 200 -\n",
      "192.168.117.1 - - [13/May/2021 14:55:53] \"\u001b[37mPOST /test HTTP/1.1\u001b[0m\" 200 -\n",
      "192.168.117.1 - - [13/May/2021 14:55:53] \"\u001b[37mPOST /test HTTP/1.1\u001b[0m\" 200 -\n",
      "192.168.117.1 - - [13/May/2021 14:55:53] \"\u001b[37mPOST /test HTTP/1.1\u001b[0m\" 200 -\n",
      "192.168.117.1 - - [13/May/2021 14:55:53] \"\u001b[37mPOST /test HTTP/1.1\u001b[0m\" 200 -\n",
      "192.168.117.1 - - [13/May/2021 14:55:53] \"\u001b[37mPOST /test HTTP/1.1\u001b[0m\" 200 -\n",
      "192.168.117.1 - - [13/May/2021 14:55:54] \"\u001b[37mPOST /test HTTP/1.1\u001b[0m\" 200 -\n"
     ]
    },
    {
     "name": "stdout",
     "output_type": "stream",
     "text": [
      "1\n",
      "1\n"
     ]
    },
    {
     "name": "stderr",
     "output_type": "stream",
     "text": [
      "192.168.117.1 - - [13/May/2021 14:55:54] \"\u001b[37mPOST /test HTTP/1.1\u001b[0m\" 200 -\n",
      "192.168.117.1 - - [13/May/2021 14:55:54] \"\u001b[37mPOST /test HTTP/1.1\u001b[0m\" 200 -\n",
      "192.168.117.1 - - [13/May/2021 14:55:54] \"\u001b[37mPOST /test HTTP/1.1\u001b[0m\" 200 -\n",
      "192.168.117.1 - - [13/May/2021 14:55:54] \"\u001b[37mPOST /test HTTP/1.1\u001b[0m\" 200 -\n",
      "192.168.117.1 - - [13/May/2021 14:55:54] \"\u001b[37mPOST /test HTTP/1.1\u001b[0m\" 200 -\n",
      "192.168.117.1 - - [13/May/2021 14:55:54] \"\u001b[37mPOST /test HTTP/1.1\u001b[0m\" 200 -\n",
      "192.168.117.1 - - [13/May/2021 14:55:54] \"\u001b[37mPOST /test HTTP/1.1\u001b[0m\" 200 -\n"
     ]
    },
    {
     "name": "stdout",
     "output_type": "stream",
     "text": [
      "1\n",
      "1\n",
      "1\n",
      "0\n",
      "0\n",
      "0\n",
      "0\n",
      "1\n",
      "0\n",
      "13\n",
      "\n",
      "1\n"
     ]
    },
    {
     "name": "stderr",
     "output_type": "stream",
     "text": [
      "192.168.117.1 - - [13/May/2021 14:55:54] \"\u001b[37mPOST /test HTTP/1.1\u001b[0m\" 200 -\n",
      "192.168.117.1 - - [13/May/2021 14:55:54] \"\u001b[37mPOST /test HTTP/1.1\u001b[0m\" 200 -\n",
      "192.168.117.1 - - [13/May/2021 14:55:54] \"\u001b[37mPOST /test HTTP/1.1\u001b[0m\" 200 -\n"
     ]
    },
    {
     "name": "stdout",
     "output_type": "stream",
     "text": [
      "1\n",
      "3\n",
      "1\n",
      "2\n",
      "1\n",
      "0\n",
      "2\n"
     ]
    },
    {
     "name": "stderr",
     "output_type": "stream",
     "text": [
      "192.168.117.1 - - [13/May/2021 14:55:54] \"\u001b[37mPOST /test HTTP/1.1\u001b[0m\" 200 -\n",
      "192.168.117.1 - - [13/May/2021 14:55:54] \"\u001b[37mPOST /test HTTP/1.1\u001b[0m\" 200 -\n",
      "192.168.117.1 - - [13/May/2021 14:55:54] \"\u001b[37mPOST /test HTTP/1.1\u001b[0m\" 200 -\n",
      "192.168.117.1 - - [13/May/2021 14:55:54] \"\u001b[37mPOST /test HTTP/1.1\u001b[0m\" 200 -\n",
      "192.168.117.1 - - [13/May/2021 14:55:54] \"\u001b[37mPOST /test HTTP/1.1\u001b[0m\" 200 -\n",
      "192.168.117.1 - - [13/May/2021 14:55:54] \"\u001b[37mPOST /test HTTP/1.1\u001b[0m\" 200 -\n"
     ]
    },
    {
     "name": "stdout",
     "output_type": "stream",
     "text": [
      "0\n",
      "1\n",
      "1\n",
      "1\n",
      "1\n",
      "1\n",
      "2\n",
      "1\n",
      "1\n",
      "0\n",
      "0\n",
      "1\n",
      "2\n"
     ]
    },
    {
     "name": "stderr",
     "output_type": "stream",
     "text": [
      "192.168.117.1 - - [13/May/2021 14:55:54] \"\u001b[37mPOST /test HTTP/1.1\u001b[0m\" 200 -\n",
      "192.168.117.1 - - [13/May/2021 14:55:54] \"\u001b[37mPOST /test HTTP/1.1\u001b[0m\" 200 -\n",
      "192.168.117.1 - - [13/May/2021 14:55:54] \"\u001b[37mPOST /test HTTP/1.1\u001b[0m\" 200 -\n",
      "192.168.117.1 - - [13/May/2021 14:55:54] \"\u001b[37mPOST /test HTTP/1.1\u001b[0m\" 200 -\n",
      "192.168.117.1 - - [13/May/2021 14:55:54] \"\u001b[37mPOST /test HTTP/1.1\u001b[0m\" 200 -\n",
      "192.168.117.1 - - [13/May/2021 14:55:54] \"\u001b[37mPOST /test HTTP/1.1\u001b[0m\" 200 -\n",
      "192.168.117.1 - - [13/May/2021 14:55:54] \"\u001b[37mPOST /test HTTP/1.1\u001b[0m\" 200 -\n",
      "192.168.117.1 - - [13/May/2021 14:55:54] \"\u001b[37mPOST /test HTTP/1.1\u001b[0m\" 200 -\n",
      "192.168.117.1 - - [13/May/2021 14:55:54] \"\u001b[37mPOST /test HTTP/1.1\u001b[0m\" 200 -\n",
      "192.168.117.1 - - [13/May/2021 14:55:54] \"\u001b[37mPOST /test HTTP/1.1\u001b[0m\" 200 -\n",
      "192.168.117.1 - - [13/May/2021 14:55:54] \"\u001b[37mPOST /test HTTP/1.1\u001b[0m\" 200 -\n",
      "192.168.117.1 - - [13/May/2021 14:55:54] \"\u001b[37mPOST /test HTTP/1.1\u001b[0m\" 200 -\n",
      "192.168.117.1 - - [13/May/2021 14:55:55] \"\u001b[37mPOST /test HTTP/1.1\u001b[0m\" 200 -\n",
      "192.168.117.1 - - [13/May/2021 14:55:55] \"\u001b[37mPOST /test HTTP/1.1\u001b[0m\" 200 -\n",
      "192.168.117.1 - - [13/May/2021 14:55:55] \"\u001b[37mPOST /test HTTP/1.1\u001b[0m\" 200 -\n",
      "192.168.117.1 - - [13/May/2021 14:55:55] \"\u001b[37mPOST /test HTTP/1.1\u001b[0m\" 200 -\n",
      "192.168.117.1 - - [13/May/2021 14:55:55] \"\u001b[37mPOST /test HTTP/1.1\u001b[0m\" 200 -\n",
      "192.168.117.1 - - [13/May/2021 14:55:55] \"\u001b[37mPOST /test HTTP/1.1\u001b[0m\" 200 -\n",
      "192.168.117.1 - - [13/May/2021 14:55:55] \"\u001b[37mPOST /test HTTP/1.1\u001b[0m\" 200 -\n",
      "192.168.117.1 - - [13/May/2021 14:55:55] \"\u001b[37mPOST /test HTTP/1.1\u001b[0m\" 200 -\n",
      "192.168.117.1 - - [13/May/2021 14:55:55] \"\u001b[37mPOST /test HTTP/1.1\u001b[0m\" 200 -\n",
      "192.168.117.1 - - [13/May/2021 14:55:55] \"\u001b[37mPOST /test HTTP/1.1\u001b[0m\" 200 -\n",
      "192.168.117.1 - - [13/May/2021 14:55:55] \"\u001b[37mPOST /test HTTP/1.1\u001b[0m\" 200 -\n",
      "192.168.117.1 - - [13/May/2021 14:55:55] \"\u001b[37mPOST /test HTTP/1.1\u001b[0m\" 200 -\n",
      "192.168.117.1 - - [13/May/2021 14:55:55] \"\u001b[37mPOST /test HTTP/1.1\u001b[0m\" 200 -\n",
      "192.168.117.1 - - [13/May/2021 14:55:55] \"\u001b[37mPOST /test HTTP/1.1\u001b[0m\" 200 -\n",
      "192.168.117.1 - - [13/May/2021 14:55:55] \"\u001b[37mPOST /test HTTP/1.1\u001b[0m\" 200 -\n",
      "192.168.117.1 - - [13/May/2021 14:55:55] \"\u001b[37mPOST /test HTTP/1.1\u001b[0m\" 200 -\n",
      "192.168.117.1 - - [13/May/2021 14:55:56] \"\u001b[37mPOST /test HTTP/1.1\u001b[0m\" 200 -\n",
      "192.168.117.1 - - [13/May/2021 14:55:56] \"\u001b[37mPOST /test HTTP/1.1\u001b[0m\" 200 -\n",
      "192.168.117.1 - - [13/May/2021 14:55:56] \"\u001b[37mPOST /test HTTP/1.1\u001b[0m\" 200 -\n",
      "192.168.117.1 - - [13/May/2021 14:55:56] \"\u001b[37mPOST /test HTTP/1.1\u001b[0m\" 200 -\n",
      "192.168.117.1 - - [13/May/2021 14:55:56] \"\u001b[37mPOST /test HTTP/1.1\u001b[0m\" 200 -\n",
      "192.168.117.1 - - [13/May/2021 14:55:56] \"\u001b[37mPOST /test HTTP/1.1\u001b[0m\" 200 -\n",
      "192.168.117.1 - - [13/May/2021 14:55:56] \"\u001b[37mPOST /test HTTP/1.1\u001b[0m\" 200 -\n",
      "192.168.117.1 - - [13/May/2021 14:55:56] \"\u001b[37mPOST /test HTTP/1.1\u001b[0m\" 200 -\n",
      "192.168.117.1 - - [13/May/2021 14:55:56] \"\u001b[37mPOST /test HTTP/1.1\u001b[0m\" 200 -\n",
      "192.168.117.1 - - [13/May/2021 14:55:56] \"\u001b[37mPOST /test HTTP/1.1\u001b[0m\" 200 -\n",
      "192.168.117.1 - - [13/May/2021 14:55:56] \"\u001b[37mPOST /test HTTP/1.1\u001b[0m\" 200 -\n"
     ]
    },
    {
     "name": "stdout",
     "output_type": "stream",
     "text": [
      "3\n",
      "1\n",
      "1\n",
      "1\n",
      "1\n",
      "2\n",
      "1\n",
      "2\n",
      "2\n"
     ]
    },
    {
     "name": "stderr",
     "output_type": "stream",
     "text": [
      "192.168.117.1 - - [13/May/2021 14:55:56] \"\u001b[37mPOST /test HTTP/1.1\u001b[0m\" 200 -\n",
      "192.168.117.1 - - [13/May/2021 14:55:56] \"\u001b[37mPOST /test HTTP/1.1\u001b[0m\" 200 -\n",
      "192.168.117.1 - - [13/May/2021 14:55:57] \"\u001b[37mPOST /test HTTP/1.1\u001b[0m\" 200 -\n",
      "192.168.117.1 - - [13/May/2021 14:55:57] \"\u001b[37mPOST /test HTTP/1.1\u001b[0m\" 200 -\n",
      "192.168.117.1 - - [13/May/2021 14:55:57] \"\u001b[37mPOST /test HTTP/1.1\u001b[0m\" 200 -\n",
      "192.168.117.1 - - [13/May/2021 14:55:57] \"\u001b[37mPOST /test HTTP/1.1\u001b[0m\" 200 -\n",
      "192.168.117.1 - - [13/May/2021 14:55:57] \"\u001b[37mPOST /test HTTP/1.1\u001b[0m\" 200 -\n",
      "192.168.117.1 - - [13/May/2021 14:55:57] \"\u001b[37mPOST /test HTTP/1.1\u001b[0m\" 200 -\n",
      "192.168.117.1 - - [13/May/2021 14:55:57] \"\u001b[37mPOST /test HTTP/1.1\u001b[0m\" 200 -\n",
      "192.168.117.1 - - [13/May/2021 14:55:57] \"\u001b[37mPOST /test HTTP/1.1\u001b[0m\" 200 -\n",
      "192.168.117.1 - - [13/May/2021 14:55:57] \"\u001b[37mPOST /test HTTP/1.1\u001b[0m\" 200 -\n",
      "192.168.117.1 - - [13/May/2021 14:55:57] \"\u001b[37mPOST /test HTTP/1.1\u001b[0m\" 200 -\n",
      "192.168.117.1 - - [13/May/2021 14:55:57] \"\u001b[37mPOST /test HTTP/1.1\u001b[0m\" 200 -\n",
      "192.168.117.1 - - [13/May/2021 14:55:57] \"\u001b[37mPOST /test HTTP/1.1\u001b[0m\" 200 -\n",
      "192.168.117.1 - - [13/May/2021 14:55:57] \"\u001b[37mPOST /test HTTP/1.1\u001b[0m\" 200 -\n",
      "192.168.117.1 - - [13/May/2021 14:55:57] \"\u001b[37mPOST /test HTTP/1.1\u001b[0m\" 200 -\n",
      "192.168.117.1 - - [13/May/2021 14:55:57] \"\u001b[37mPOST /test HTTP/1.1\u001b[0m\" 200 -\n",
      "192.168.117.1 - - [13/May/2021 14:55:57] \"\u001b[37mPOST /test HTTP/1.1\u001b[0m\" 200 -\n",
      "192.168.117.1 - - [13/May/2021 14:55:58] \"\u001b[37mPOST /test HTTP/1.1\u001b[0m\" 200 -\n",
      "192.168.117.1 - - [13/May/2021 14:55:58] \"\u001b[37mPOST /test HTTP/1.1\u001b[0m\" 200 -\n",
      "192.168.117.1 - - [13/May/2021 14:55:58] \"\u001b[37mPOST /test HTTP/1.1\u001b[0m\" 200 -\n",
      "192.168.117.1 - - [13/May/2021 14:55:58] \"\u001b[37mPOST /test HTTP/1.1\u001b[0m\" 200 -\n",
      "192.168.117.1 - - [13/May/2021 14:55:58] \"\u001b[37mPOST /test HTTP/1.1\u001b[0m\" 200 -\n",
      "192.168.117.1 - - [13/May/2021 14:55:58] \"\u001b[37mPOST /test HTTP/1.1\u001b[0m\" 200 -\n",
      "192.168.117.1 - - [13/May/2021 14:55:58] \"\u001b[37mPOST /test HTTP/1.1\u001b[0m\" 200 -\n",
      "192.168.117.1 - - [13/May/2021 14:55:58] \"\u001b[37mPOST /test HTTP/1.1\u001b[0m\" 200 -\n",
      "192.168.117.1 - - [13/May/2021 14:55:58] \"\u001b[37mPOST /test HTTP/1.1\u001b[0m\" 200 -\n",
      "192.168.117.1 - - [13/May/2021 14:55:58] \"\u001b[37mPOST /test HTTP/1.1\u001b[0m\" 200 -\n",
      "192.168.117.1 - - [13/May/2021 14:55:58] \"\u001b[37mPOST /test HTTP/1.1\u001b[0m\" 200 -\n",
      "192.168.117.1 - - [13/May/2021 14:55:58] \"\u001b[37mPOST /test HTTP/1.1\u001b[0m\" 200 -\n",
      "192.168.117.1 - - [13/May/2021 14:55:58] \"\u001b[37mPOST /test HTTP/1.1\u001b[0m\" 200 -\n",
      "192.168.117.1 - - [13/May/2021 14:55:58] \"\u001b[37mPOST /test HTTP/1.1\u001b[0m\" 200 -\n",
      "192.168.117.1 - - [13/May/2021 14:55:58] \"\u001b[37mPOST /test HTTP/1.1\u001b[0m\" 200 -\n",
      "192.168.117.1 - - [13/May/2021 14:55:58] \"\u001b[37mPOST /test HTTP/1.1\u001b[0m\" 200 -\n",
      "192.168.117.1 - - [13/May/2021 14:55:58] \"\u001b[37mPOST /test HTTP/1.1\u001b[0m\" 200 -\n",
      "192.168.117.1 - - [13/May/2021 14:55:58] \"\u001b[37mPOST /test HTTP/1.1\u001b[0m\" 200 -\n",
      "192.168.117.1 - - [13/May/2021 14:55:58] \"\u001b[37mPOST /test HTTP/1.1\u001b[0m\" 200 -\n",
      "192.168.117.1 - - [13/May/2021 14:55:58] \"\u001b[37mPOST /test HTTP/1.1\u001b[0m\" 200 -\n",
      "192.168.117.1 - - [13/May/2021 14:55:58] \"\u001b[37mPOST /test HTTP/1.1\u001b[0m\" 200 -\n",
      "192.168.117.1 - - [13/May/2021 14:55:58] \"\u001b[37mPOST /test HTTP/1.1\u001b[0m\" 200 -\n",
      "192.168.117.1 - - [13/May/2021 14:55:58] \"\u001b[37mPOST /test HTTP/1.1\u001b[0m\" 200 -\n",
      "192.168.117.1 - - [13/May/2021 14:55:58] \"\u001b[37mPOST /test HTTP/1.1\u001b[0m\" 200 -\n",
      "192.168.117.1 - - [13/May/2021 14:55:58] \"\u001b[37mPOST /test HTTP/1.1\u001b[0m\" 200 -\n",
      "192.168.117.1 - - [13/May/2021 14:55:58] \"\u001b[37mPOST /test HTTP/1.1\u001b[0m\" 200 -\n",
      "192.168.117.1 - - [13/May/2021 14:55:58] \"\u001b[37mPOST /test HTTP/1.1\u001b[0m\" 200 -\n",
      "192.168.117.1 - - [13/May/2021 14:55:58] \"\u001b[37mPOST /test HTTP/1.1\u001b[0m\" 200 -\n",
      "192.168.117.1 - - [13/May/2021 14:55:58] \"\u001b[37mPOST /test HTTP/1.1\u001b[0m\" 200 -\n",
      "192.168.117.1 - - [13/May/2021 14:55:58] \"\u001b[37mPOST /test HTTP/1.1\u001b[0m\" 200 -\n",
      "192.168.117.1 - - [13/May/2021 14:55:58] \"\u001b[37mPOST /test HTTP/1.1\u001b[0m\" 200 -\n",
      "192.168.117.1 - - [13/May/2021 14:55:58] \"\u001b[37mPOST /test HTTP/1.1\u001b[0m\" 200 -\n",
      "192.168.117.1 - - [13/May/2021 14:55:58] \"\u001b[37mPOST /test HTTP/1.1\u001b[0m\" 200 -\n",
      "192.168.117.1 - - [13/May/2021 14:55:59] \"\u001b[37mPOST /test HTTP/1.1\u001b[0m\" 200 -\n",
      "192.168.117.1 - - [13/May/2021 14:55:59] \"\u001b[37mPOST /test HTTP/1.1\u001b[0m\" 200 -\n",
      "192.168.117.1 - - [13/May/2021 14:55:59] \"\u001b[37mPOST /test HTTP/1.1\u001b[0m\" 200 -\n",
      "192.168.117.1 - - [13/May/2021 14:56:00] \"\u001b[37mPOST /test HTTP/1.1\u001b[0m\" 200 -\n",
      "192.168.117.1 - - [13/May/2021 14:56:00] \"\u001b[37mPOST /test HTTP/1.1\u001b[0m\" 200 -\n",
      "192.168.117.1 - - [13/May/2021 14:56:00] \"\u001b[37mPOST /test HTTP/1.1\u001b[0m\" 200 -\n",
      "192.168.117.1 - - [13/May/2021 14:56:00] \"\u001b[37mPOST /test HTTP/1.1\u001b[0m\" 200 -\n",
      "192.168.117.1 - - [13/May/2021 14:56:00] \"\u001b[37mPOST /test HTTP/1.1\u001b[0m\" 200 -\n",
      "192.168.117.1 - - [13/May/2021 14:56:00] \"\u001b[37mPOST /test HTTP/1.1\u001b[0m\" 200 -\n",
      "192.168.117.1 - - [13/May/2021 14:56:00] \"\u001b[37mPOST /test HTTP/1.1\u001b[0m\" 200 -\n",
      "192.168.117.1 - - [13/May/2021 14:56:00] \"\u001b[37mPOST /test HTTP/1.1\u001b[0m\" 200 -\n",
      "192.168.117.1 - - [13/May/2021 14:56:00] \"\u001b[37mPOST /test HTTP/1.1\u001b[0m\" 200 -\n",
      "192.168.117.1 - - [13/May/2021 14:56:00] \"\u001b[37mPOST /test HTTP/1.1\u001b[0m\" 200 -\n",
      "192.168.117.1 - - [13/May/2021 14:56:00] \"\u001b[37mPOST /test HTTP/1.1\u001b[0m\" 200 -\n",
      "192.168.117.1 - - [13/May/2021 14:56:00] \"\u001b[37mPOST /test HTTP/1.1\u001b[0m\" 200 -\n",
      "192.168.117.1 - - [13/May/2021 14:56:00] \"\u001b[37mPOST /test HTTP/1.1\u001b[0m\" 200 -\n",
      "192.168.117.1 - - [13/May/2021 14:56:00] \"\u001b[37mPOST /test HTTP/1.1\u001b[0m\" 200 -\n",
      "192.168.117.1 - - [13/May/2021 14:56:00] \"\u001b[37mPOST /test HTTP/1.1\u001b[0m\" 200 -\n",
      "192.168.117.1 - - [13/May/2021 14:56:00] \"\u001b[37mPOST /test HTTP/1.1\u001b[0m\" 200 -\n",
      "192.168.117.1 - - [13/May/2021 14:56:00] \"\u001b[37mPOST /test HTTP/1.1\u001b[0m\" 200 -\n",
      "192.168.117.1 - - [13/May/2021 14:56:00] \"\u001b[37mPOST /test HTTP/1.1\u001b[0m\" 200 -\n",
      "192.168.117.1 - - [13/May/2021 14:56:00] \"\u001b[37mPOST /test HTTP/1.1\u001b[0m\" 200 -\n",
      "192.168.117.1 - - [13/May/2021 14:56:00] \"\u001b[37mPOST /test HTTP/1.1\u001b[0m\" 200 -\n",
      "192.168.117.1 - - [13/May/2021 14:56:00] \"\u001b[37mPOST /test HTTP/1.1\u001b[0m\" 200 -\n",
      "192.168.117.1 - - [13/May/2021 14:56:00] \"\u001b[37mPOST /test HTTP/1.1\u001b[0m\" 200 -\n",
      "192.168.117.1 - - [13/May/2021 14:56:00] \"\u001b[37mPOST /test HTTP/1.1\u001b[0m\" 200 -\n",
      "192.168.117.1 - - [13/May/2021 14:56:00] \"\u001b[37mPOST /test HTTP/1.1\u001b[0m\" 200 -\n",
      "192.168.117.1 - - [13/May/2021 14:56:00] \"\u001b[37mPOST /test HTTP/1.1\u001b[0m\" 200 -\n",
      "192.168.117.1 - - [13/May/2021 14:56:00] \"\u001b[37mPOST /test HTTP/1.1\u001b[0m\" 200 -\n",
      "192.168.117.1 - - [13/May/2021 14:56:00] \"\u001b[37mPOST /test HTTP/1.1\u001b[0m\" 200 -\n",
      "192.168.117.1 - - [13/May/2021 14:56:00] \"\u001b[37mPOST /test HTTP/1.1\u001b[0m\" 200 -\n",
      "192.168.117.1 - - [13/May/2021 14:56:00] \"\u001b[37mPOST /test HTTP/1.1\u001b[0m\" 200 -\n",
      "192.168.117.1 - - [13/May/2021 14:56:00] \"\u001b[37mPOST /test HTTP/1.1\u001b[0m\" 200 -\n",
      "192.168.117.1 - - [13/May/2021 14:56:00] \"\u001b[37mPOST /test HTTP/1.1\u001b[0m\" 200 -\n",
      "192.168.117.1 - - [13/May/2021 14:56:00] \"\u001b[37mPOST /test HTTP/1.1\u001b[0m\" 200 -\n",
      "192.168.117.1 - - [13/May/2021 14:56:00] \"\u001b[37mPOST /test HTTP/1.1\u001b[0m\" 200 -\n",
      "192.168.117.1 - - [13/May/2021 14:56:00] \"\u001b[37mPOST /test HTTP/1.1\u001b[0m\" 200 -\n",
      "192.168.117.1 - - [13/May/2021 14:56:00] \"\u001b[37mPOST /test HTTP/1.1\u001b[0m\" 200 -\n",
      "192.168.117.1 - - [13/May/2021 14:56:00] \"\u001b[37mPOST /test HTTP/1.1\u001b[0m\" 200 -\n",
      "192.168.117.1 - - [13/May/2021 14:56:00] \"\u001b[37mPOST /test HTTP/1.1\u001b[0m\" 200 -\n",
      "192.168.117.1 - - [13/May/2021 14:56:00] \"\u001b[37mPOST /test HTTP/1.1\u001b[0m\" 200 -\n",
      "192.168.117.1 - - [13/May/2021 14:56:00] \"\u001b[37mPOST /test HTTP/1.1\u001b[0m\" 200 -\n",
      "192.168.117.1 - - [13/May/2021 15:08:29] \"\u001b[37mPOST /test HTTP/1.1\u001b[0m\" 200 -\n",
      "192.168.117.1 - - [13/May/2021 15:08:29] \"\u001b[37mPOST /test HTTP/1.1\u001b[0m\" 200 -\n",
      "192.168.117.1 - - [13/May/2021 15:08:29] \"\u001b[37mPOST /test HTTP/1.1\u001b[0m\" 200 -\n",
      "192.168.117.1 - - [13/May/2021 15:08:29] \"\u001b[37mPOST /test HTTP/1.1\u001b[0m\" 200 -\n",
      "192.168.117.1 - - [13/May/2021 15:08:29] \"\u001b[37mPOST /test HTTP/1.1\u001b[0m\" 200 -\n"
     ]
    },
    {
     "name": "stdout",
     "output_type": "stream",
     "text": [
      "3\n",
      "3\n",
      "3\n",
      "1\n",
      "3\n"
     ]
    },
    {
     "name": "stderr",
     "output_type": "stream",
     "text": [
      "192.168.117.1 - - [13/May/2021 15:08:34] \"\u001b[37mPOST /test HTTP/1.1\u001b[0m\" 200 -\n",
      "192.168.117.1 - - [13/May/2021 15:08:35] \"\u001b[37mPOST /test HTTP/1.1\u001b[0m\" 200 -\n",
      "192.168.117.1 - - [13/May/2021 15:08:35] \"\u001b[37mPOST /test HTTP/1.1\u001b[0m\" 200 -\n",
      "192.168.117.1 - - [13/May/2021 15:08:35] \"\u001b[37mPOST /test HTTP/1.1\u001b[0m\" 200 -\n",
      "192.168.117.1 - - [13/May/2021 15:08:35] \"\u001b[37mPOST /test HTTP/1.1\u001b[0m\" 200 -\n"
     ]
    },
    {
     "name": "stdout",
     "output_type": "stream",
     "text": [
      "3\n",
      "3\n",
      "1\n",
      "3\n",
      "3\n"
     ]
    },
    {
     "name": "stderr",
     "output_type": "stream",
     "text": [
      "192.168.117.1 - - [13/May/2021 15:08:44] \"\u001b[37mPOST /test HTTP/1.1\u001b[0m\" 200 -\n",
      "192.168.117.1 - - [13/May/2021 15:08:44] \"\u001b[37mPOST /test HTTP/1.1\u001b[0m\" 200 -\n",
      "192.168.117.1 - - [13/May/2021 15:08:44] \"\u001b[37mPOST /test HTTP/1.1\u001b[0m\" 200 -\n",
      "192.168.117.1 - - [13/May/2021 15:08:44] \"\u001b[37mPOST /test HTTP/1.1\u001b[0m\" 200 -\n",
      "192.168.117.1 - - [13/May/2021 15:08:44] \"\u001b[37mPOST /test HTTP/1.1\u001b[0m\" 200 -\n"
     ]
    },
    {
     "name": "stdout",
     "output_type": "stream",
     "text": [
      "3\n",
      "1\n",
      "33\n",
      "\n",
      "3\n"
     ]
    },
    {
     "name": "stderr",
     "output_type": "stream",
     "text": [
      "192.168.117.1 - - [13/May/2021 15:08:52] \"\u001b[37mPOST /test HTTP/1.1\u001b[0m\" 200 -\n",
      "192.168.117.1 - - [13/May/2021 15:08:52] \"\u001b[37mPOST /test HTTP/1.1\u001b[0m\" 200 -\n",
      "192.168.117.1 - - [13/May/2021 15:08:52] \"\u001b[37mPOST /test HTTP/1.1\u001b[0m\" 200 -\n",
      "192.168.117.1 - - [13/May/2021 15:08:52] \"\u001b[37mPOST /test HTTP/1.1\u001b[0m\" 200 -\n",
      "192.168.117.1 - - [13/May/2021 15:08:52] \"\u001b[37mPOST /test HTTP/1.1\u001b[0m\" 200 -\n"
     ]
    },
    {
     "name": "stdout",
     "output_type": "stream",
     "text": [
      "3\n",
      "3\n",
      "1\n",
      "3\n",
      "3\n"
     ]
    },
    {
     "name": "stderr",
     "output_type": "stream",
     "text": [
      "192.168.117.1 - - [13/May/2021 15:09:17] \"\u001b[37mPOST /test HTTP/1.1\u001b[0m\" 200 -\n",
      "192.168.117.1 - - [13/May/2021 15:09:17] \"\u001b[37mPOST /test HTTP/1.1\u001b[0m\" 200 -\n",
      "192.168.117.1 - - [13/May/2021 15:09:17] \"\u001b[37mPOST /test HTTP/1.1\u001b[0m\" 200 -\n",
      "192.168.117.1 - - [13/May/2021 15:09:17] \"\u001b[37mPOST /test HTTP/1.1\u001b[0m\" 200 -\n",
      "192.168.117.1 - - [13/May/2021 15:09:17] \"\u001b[37mPOST /test HTTP/1.1\u001b[0m\" 200 -\n"
     ]
    },
    {
     "name": "stdout",
     "output_type": "stream",
     "text": [
      "1\n",
      "3\n",
      "3\n",
      "3\n",
      "3\n",
      "3\n",
      "3\n"
     ]
    },
    {
     "name": "stderr",
     "output_type": "stream",
     "text": [
      "192.168.117.1 - - [13/May/2021 15:09:17] \"\u001b[37mPOST /test HTTP/1.1\u001b[0m\" 200 -\n",
      "192.168.117.1 - - [13/May/2021 15:09:17] \"\u001b[37mPOST /test HTTP/1.1\u001b[0m\" 200 -\n",
      "192.168.117.1 - - [13/May/2021 15:09:17] \"\u001b[37mPOST /test HTTP/1.1\u001b[0m\" 200 -\n",
      "192.168.117.1 - - [13/May/2021 15:09:17] \"\u001b[37mPOST /test HTTP/1.1\u001b[0m\" 200 -\n",
      "192.168.117.1 - - [13/May/2021 15:09:17] \"\u001b[37mPOST /test HTTP/1.1\u001b[0m\" 200 -\n",
      "192.168.117.1 - - [13/May/2021 15:09:17] \"\u001b[37mPOST /test HTTP/1.1\u001b[0m\" 200 -\n",
      "192.168.117.1 - - [13/May/2021 15:09:17] \"\u001b[37mPOST /test HTTP/1.1\u001b[0m\" 200 -\n"
     ]
    },
    {
     "name": "stdout",
     "output_type": "stream",
     "text": [
      "3\n",
      "3\n",
      "3\n",
      "3\n",
      "3\n",
      "31\n",
      "3\n",
      "\n",
      "1\n",
      "3\n",
      "3\n",
      "3\n"
     ]
    },
    {
     "name": "stderr",
     "output_type": "stream",
     "text": [
      "192.168.117.1 - - [13/May/2021 15:09:17] \"\u001b[37mPOST /test HTTP/1.1\u001b[0m\" 200 -\n",
      "192.168.117.1 - - [13/May/2021 15:09:17] \"\u001b[37mPOST /test HTTP/1.1\u001b[0m\" 200 -\n",
      "192.168.117.1 - - [13/May/2021 15:09:17] \"\u001b[37mPOST /test HTTP/1.1\u001b[0m\" 200 -\n",
      "192.168.117.1 - - [13/May/2021 15:09:17] \"\u001b[37mPOST /test HTTP/1.1\u001b[0m\" 200 -\n",
      "192.168.117.1 - - [13/May/2021 15:09:18] \"\u001b[37mPOST /test HTTP/1.1\u001b[0m\" 200 -\n",
      "192.168.117.1 - - [13/May/2021 15:09:18] \"\u001b[37mPOST /test HTTP/1.1\u001b[0m\" 200 -\n",
      "192.168.117.1 - - [13/May/2021 15:09:18] \"\u001b[37mPOST /test HTTP/1.1\u001b[0m\" 200 -\n",
      "192.168.117.1 - - [13/May/2021 15:09:18] \"\u001b[37mPOST /test HTTP/1.1\u001b[0m\" 200 -\n",
      "192.168.117.1 - - [13/May/2021 15:09:18] \"\u001b[37mPOST /test HTTP/1.1\u001b[0m\" 200 -\n"
     ]
    },
    {
     "name": "stdout",
     "output_type": "stream",
     "text": [
      "3\n",
      "3\n",
      "1\n",
      "1\n",
      "3\n"
     ]
    },
    {
     "name": "stderr",
     "output_type": "stream",
     "text": [
      "192.168.117.1 - - [13/May/2021 15:09:18] \"\u001b[37mPOST /test HTTP/1.1\u001b[0m\" 200 -\n",
      "192.168.117.1 - - [13/May/2021 15:09:18] \"\u001b[37mPOST /test HTTP/1.1\u001b[0m\" 200 -\n",
      "192.168.117.1 - - [13/May/2021 15:09:18] \"\u001b[37mPOST /test HTTP/1.1\u001b[0m\" 200 -\n",
      "192.168.117.1 - - [13/May/2021 15:09:18] \"\u001b[37mPOST /test HTTP/1.1\u001b[0m\" 200 -\n",
      "192.168.117.1 - - [13/May/2021 15:09:18] \"\u001b[37mPOST /test HTTP/1.1\u001b[0m\" 200 -\n",
      "192.168.117.1 - - [13/May/2021 15:09:18] \"\u001b[37mPOST /test HTTP/1.1\u001b[0m\" 200 -\n",
      "192.168.117.1 - - [13/May/2021 15:09:18] \"\u001b[37mPOST /test HTTP/1.1\u001b[0m\" 200 -\n",
      "192.168.117.1 - - [13/May/2021 15:09:18] \"\u001b[37mPOST /test HTTP/1.1\u001b[0m\" 200 -\n",
      "192.168.117.1 - - [13/May/2021 15:09:18] \"\u001b[37mPOST /test HTTP/1.1\u001b[0m\" 200 -\n",
      "192.168.117.1 - - [13/May/2021 15:09:18] \"\u001b[37mPOST /test HTTP/1.1\u001b[0m\" 200 -\n",
      "192.168.117.1 - - [13/May/2021 15:09:18] \"\u001b[37mPOST /test HTTP/1.1\u001b[0m\" 200 -\n",
      "192.168.117.1 - - [13/May/2021 15:09:18] \"\u001b[37mPOST /test HTTP/1.1\u001b[0m\" 200 -\n",
      "192.168.117.1 - - [13/May/2021 15:09:18] \"\u001b[37mPOST /test HTTP/1.1\u001b[0m\" 200 -\n",
      "192.168.117.1 - - [13/May/2021 15:09:18] \"\u001b[37mPOST /test HTTP/1.1\u001b[0m\" 200 -\n"
     ]
    },
    {
     "name": "stdout",
     "output_type": "stream",
     "text": [
      "33\n",
      "\n",
      "3\n",
      "3\n",
      "13\n",
      "\n",
      "3\n",
      "3\n",
      "1\n",
      "3\n",
      "3\n"
     ]
    },
    {
     "name": "stderr",
     "output_type": "stream",
     "text": [
      "192.168.117.1 - - [13/May/2021 15:09:18] \"\u001b[37mPOST /test HTTP/1.1\u001b[0m\" 200 -\n"
     ]
    },
    {
     "name": "stdout",
     "output_type": "stream",
     "text": [
      "1\n"
     ]
    },
    {
     "name": "stderr",
     "output_type": "stream",
     "text": [
      "192.168.117.1 - - [13/May/2021 15:09:44] \"\u001b[37mPOST /test HTTP/1.1\u001b[0m\" 200 -\n",
      "192.168.117.1 - - [13/May/2021 15:09:44] \"\u001b[37mPOST /test HTTP/1.1\u001b[0m\" 200 -\n",
      "192.168.117.1 - - [13/May/2021 15:09:44] \"\u001b[37mPOST /test HTTP/1.1\u001b[0m\" 200 -\n",
      "192.168.117.1 - - [13/May/2021 15:09:44] \"\u001b[37mPOST /test HTTP/1.1\u001b[0m\" 200 -\n",
      "192.168.117.1 - - [13/May/2021 15:09:44] \"\u001b[37mPOST /test HTTP/1.1\u001b[0m\" 200 -\n"
     ]
    },
    {
     "name": "stdout",
     "output_type": "stream",
     "text": [
      "1\n",
      "3\n",
      "3\n",
      "3\n",
      "3\n",
      "3\n",
      "3\n",
      "3\n",
      "1\n"
     ]
    },
    {
     "name": "stderr",
     "output_type": "stream",
     "text": [
      "192.168.117.1 - - [13/May/2021 15:09:44] \"\u001b[37mPOST /test HTTP/1.1\u001b[0m\" 200 -\n",
      "192.168.117.1 - - [13/May/2021 15:09:44] \"\u001b[37mPOST /test HTTP/1.1\u001b[0m\" 200 -\n",
      "192.168.117.1 - - [13/May/2021 15:09:44] \"\u001b[37mPOST /test HTTP/1.1\u001b[0m\" 200 -\n",
      "192.168.117.1 - - [13/May/2021 15:09:44] \"\u001b[37mPOST /test HTTP/1.1\u001b[0m\" 200 -\n",
      "192.168.117.1 - - [13/May/2021 15:09:44] \"\u001b[37mPOST /test HTTP/1.1\u001b[0m\" 200 -\n"
     ]
    },
    {
     "name": "stdout",
     "output_type": "stream",
     "text": [
      "3\n",
      "3\n",
      "33\n",
      "\n",
      "1\n",
      "3\n",
      "3\n",
      "3\n"
     ]
    },
    {
     "name": "stderr",
     "output_type": "stream",
     "text": [
      "192.168.117.1 - - [13/May/2021 15:09:44] \"\u001b[37mPOST /test HTTP/1.1\u001b[0m\" 200 -\n",
      "192.168.117.1 - - [13/May/2021 15:09:44] \"\u001b[37mPOST /test HTTP/1.1\u001b[0m\" 200 -\n",
      "192.168.117.1 - - [13/May/2021 15:09:44] \"\u001b[37mPOST /test HTTP/1.1\u001b[0m\" 200 -\n",
      "192.168.117.1 - - [13/May/2021 15:09:44] \"\u001b[37mPOST /test HTTP/1.1\u001b[0m\" 200 -\n",
      "192.168.117.1 - - [13/May/2021 15:09:44] \"\u001b[37mPOST /test HTTP/1.1\u001b[0m\" 200 -\n",
      "192.168.117.1 - - [13/May/2021 15:09:44] \"\u001b[37mPOST /test HTTP/1.1\u001b[0m\" 200 -\n"
     ]
    },
    {
     "name": "stdout",
     "output_type": "stream",
     "text": [
      "31\n",
      "\n",
      "3\n"
     ]
    },
    {
     "name": "stderr",
     "output_type": "stream",
     "text": [
      "192.168.117.1 - - [13/May/2021 15:09:44] \"\u001b[37mPOST /test HTTP/1.1\u001b[0m\" 200 -\n",
      "192.168.117.1 - - [13/May/2021 15:09:44] \"\u001b[37mPOST /test HTTP/1.1\u001b[0m\" 200 -\n",
      "192.168.117.1 - - [13/May/2021 15:09:44] \"\u001b[37mPOST /test HTTP/1.1\u001b[0m\" 200 -\n",
      "192.168.117.1 - - [13/May/2021 15:09:44] \"\u001b[37mPOST /test HTTP/1.1\u001b[0m\" 200 -\n",
      "192.168.117.1 - - [13/May/2021 15:09:44] \"\u001b[37mPOST /test HTTP/1.1\u001b[0m\" 200 -\n"
     ]
    },
    {
     "name": "stdout",
     "output_type": "stream",
     "text": [
      "3\n",
      "1\n",
      "3\n",
      "1\n"
     ]
    },
    {
     "name": "stderr",
     "output_type": "stream",
     "text": [
      "192.168.117.1 - - [13/May/2021 15:09:44] \"\u001b[37mPOST /test HTTP/1.1\u001b[0m\" 200 -\n",
      "192.168.117.1 - - [13/May/2021 15:09:44] \"\u001b[37mPOST /test HTTP/1.1\u001b[0m\" 200 -\n",
      "192.168.117.1 - - [13/May/2021 15:09:44] \"\u001b[37mPOST /test HTTP/1.1\u001b[0m\" 200 -\n",
      "192.168.117.1 - - [13/May/2021 15:09:45] \"\u001b[37mPOST /test HTTP/1.1\u001b[0m\" 200 -\n",
      "192.168.117.1 - - [13/May/2021 15:09:45] \"\u001b[37mPOST /test HTTP/1.1\u001b[0m\" 200 -\n",
      "192.168.117.1 - - [13/May/2021 15:09:45] \"\u001b[37mPOST /test HTTP/1.1\u001b[0m\" 200 -\n"
     ]
    },
    {
     "name": "stdout",
     "output_type": "stream",
     "text": [
      "3\n",
      "3\n",
      "3\n",
      "3\n"
     ]
    },
    {
     "name": "stderr",
     "output_type": "stream",
     "text": [
      "192.168.117.1 - - [13/May/2021 15:09:45] \"\u001b[37mPOST /test HTTP/1.1\u001b[0m\" 200 -\n",
      "192.168.117.1 - - [13/May/2021 15:09:45] \"\u001b[37mPOST /test HTTP/1.1\u001b[0m\" 200 -\n",
      "192.168.117.1 - - [13/May/2021 15:09:45] \"\u001b[37mPOST /test HTTP/1.1\u001b[0m\" 200 -\n",
      "192.168.117.1 - - [13/May/2021 15:09:45] \"\u001b[37mPOST /test HTTP/1.1\u001b[0m\" 200 -\n",
      "192.168.117.1 - - [13/May/2021 15:09:45] \"\u001b[37mPOST /test HTTP/1.1\u001b[0m\" 200 -\n"
     ]
    },
    {
     "name": "stdout",
     "output_type": "stream",
     "text": [
      "3\n",
      "3\n",
      "13\n",
      "\n",
      "3\n",
      "1\n",
      "3"
     ]
    },
    {
     "name": "stderr",
     "output_type": "stream",
     "text": [
      "192.168.117.1 - - [13/May/2021 15:09:45] \"\u001b[37mPOST /test HTTP/1.1\u001b[0m\" 200 -\n",
      "192.168.117.1 - - [13/May/2021 15:09:45] \"\u001b[37mPOST /test HTTP/1.1\u001b[0m\" 200 -\n",
      "192.168.117.1 - - [13/May/2021 15:09:45] \"\u001b[37mPOST /test HTTP/1.1\u001b[0m\" 200 -\n",
      "192.168.117.1 - - [13/May/2021 15:09:45] \"\u001b[37mPOST /test HTTP/1.1\u001b[0m\" 200 -\n",
      "192.168.117.1 - - [13/May/2021 15:09:45] \"\u001b[37mPOST /test HTTP/1.1\u001b[0m\" 200 -\n",
      "192.168.117.1 - - [13/May/2021 15:09:45] \"\u001b[37mPOST /test HTTP/1.1\u001b[0m\" 200 -\n",
      "192.168.117.1 - - [13/May/2021 15:09:45] \"\u001b[37mPOST /test HTTP/1.1\u001b[0m\" 200 -\n"
     ]
    },
    {
     "name": "stdout",
     "output_type": "stream",
     "text": [
      "\n",
      "3\n",
      "3\n",
      "3\n",
      "33\n",
      "\n"
     ]
    },
    {
     "name": "stderr",
     "output_type": "stream",
     "text": [
      "192.168.117.1 - - [13/May/2021 15:09:45] \"\u001b[37mPOST /test HTTP/1.1\u001b[0m\" 200 -\n",
      "192.168.117.1 - - [13/May/2021 15:09:46] \"\u001b[37mPOST /test HTTP/1.1\u001b[0m\" 200 -\n",
      "192.168.117.1 - - [13/May/2021 15:09:46] \"\u001b[37mPOST /test HTTP/1.1\u001b[0m\" 200 -\n",
      "192.168.117.1 - - [13/May/2021 15:09:46] \"\u001b[37mPOST /test HTTP/1.1\u001b[0m\" 200 -\n",
      "192.168.117.1 - - [13/May/2021 15:09:46] \"\u001b[37mPOST /test HTTP/1.1\u001b[0m\" 200 -\n",
      "192.168.117.1 - - [13/May/2021 15:09:46] \"\u001b[37mPOST /test HTTP/1.1\u001b[0m\" 200 -\n"
     ]
    },
    {
     "name": "stdout",
     "output_type": "stream",
     "text": [
      "3\n",
      "1\n",
      "3\n",
      "1\n",
      "3\n",
      "3\n",
      "3\n"
     ]
    },
    {
     "name": "stderr",
     "output_type": "stream",
     "text": [
      "192.168.117.1 - - [13/May/2021 15:09:46] \"\u001b[37mPOST /test HTTP/1.1\u001b[0m\" 200 -\n",
      "192.168.117.1 - - [13/May/2021 15:09:46] \"\u001b[37mPOST /test HTTP/1.1\u001b[0m\" 200 -\n",
      "192.168.117.1 - - [13/May/2021 15:09:46] \"\u001b[37mPOST /test HTTP/1.1\u001b[0m\" 200 -\n",
      "192.168.117.1 - - [13/May/2021 15:09:46] \"\u001b[37mPOST /test HTTP/1.1\u001b[0m\" 200 -\n",
      "192.168.117.1 - - [13/May/2021 15:09:46] \"\u001b[37mPOST /test HTTP/1.1\u001b[0m\" 200 -\n",
      "192.168.117.1 - - [13/May/2021 15:09:46] \"\u001b[37mPOST /test HTTP/1.1\u001b[0m\" 200 -\n",
      "192.168.117.1 - - [13/May/2021 15:09:46] \"\u001b[37mPOST /test HTTP/1.1\u001b[0m\" 200 -\n",
      "192.168.117.1 - - [13/May/2021 15:09:46] \"\u001b[37mPOST /test HTTP/1.1\u001b[0m\" 200 -\n",
      "192.168.117.1 - - [13/May/2021 15:09:46] \"\u001b[37mPOST /test HTTP/1.1\u001b[0m\" 200 -\n",
      "192.168.117.1 - - [13/May/2021 15:09:46] \"\u001b[37mPOST /test HTTP/1.1\u001b[0m\" 200 -\n"
     ]
    },
    {
     "name": "stdout",
     "output_type": "stream",
     "text": [
      "3\n",
      "1\n",
      "3\n",
      "3\n",
      "33\n",
      "\n",
      "1\n",
      "3\n"
     ]
    },
    {
     "name": "stderr",
     "output_type": "stream",
     "text": [
      "192.168.117.1 - - [13/May/2021 15:09:46] \"\u001b[37mPOST /test HTTP/1.1\u001b[0m\" 200 -\n"
     ]
    },
    {
     "name": "stdout",
     "output_type": "stream",
     "text": [
      "3\n"
     ]
    },
    {
     "name": "stderr",
     "output_type": "stream",
     "text": [
      "192.168.117.1 - - [13/May/2021 15:09:54] \"\u001b[37mPOST /test HTTP/1.1\u001b[0m\" 200 -\n",
      "192.168.117.1 - - [13/May/2021 15:09:54] \"\u001b[37mPOST /test HTTP/1.1\u001b[0m\" 200 -\n",
      "192.168.117.1 - - [13/May/2021 15:09:54] \"\u001b[37mPOST /test HTTP/1.1\u001b[0m\" 200 -\n",
      "192.168.117.1 - - [13/May/2021 15:09:54] \"\u001b[37mPOST /test HTTP/1.1\u001b[0m\" 200 -\n",
      "192.168.117.1 - - [13/May/2021 15:09:54] \"\u001b[37mPOST /test HTTP/1.1\u001b[0m\" 200 -\n"
     ]
    },
    {
     "name": "stdout",
     "output_type": "stream",
     "text": [
      "3\n",
      "1\n",
      "3\n",
      "3\n",
      "3\n"
     ]
    },
    {
     "name": "stderr",
     "output_type": "stream",
     "text": [
      "192.168.117.1 - - [13/May/2021 15:10:15] \"\u001b[37mPOST /test HTTP/1.1\u001b[0m\" 200 -\n",
      "192.168.117.1 - - [13/May/2021 15:10:15] \"\u001b[37mPOST /test HTTP/1.1\u001b[0m\" 200 -\n",
      "192.168.117.1 - - [13/May/2021 15:10:15] \"\u001b[37mPOST /test HTTP/1.1\u001b[0m\" 200 -\n",
      "192.168.117.1 - - [13/May/2021 15:10:15] \"\u001b[37mPOST /test HTTP/1.1\u001b[0m\" 200 -\n",
      "192.168.117.1 - - [13/May/2021 15:10:15] \"\u001b[37mPOST /test HTTP/1.1\u001b[0m\" 200 -\n"
     ]
    },
    {
     "name": "stdout",
     "output_type": "stream",
     "text": [
      "3\n",
      "3\n",
      "3\n",
      "1\n",
      "3\n"
     ]
    },
    {
     "name": "stderr",
     "output_type": "stream",
     "text": [
      "192.168.117.1 - - [13/May/2021 15:10:35] \"\u001b[37mPOST /test HTTP/1.1\u001b[0m\" 200 -\n",
      "192.168.117.1 - - [13/May/2021 15:10:35] \"\u001b[37mPOST /test HTTP/1.1\u001b[0m\" 200 -\n",
      "192.168.117.1 - - [13/May/2021 15:10:35] \"\u001b[37mPOST /test HTTP/1.1\u001b[0m\" 200 -\n",
      "192.168.117.1 - - [13/May/2021 15:10:35] \"\u001b[37mPOST /test HTTP/1.1\u001b[0m\" 200 -\n",
      "192.168.117.1 - - [13/May/2021 15:10:35] \"\u001b[37mPOST /test HTTP/1.1\u001b[0m\" 200 -\n"
     ]
    },
    {
     "name": "stdout",
     "output_type": "stream",
     "text": [
      "3\n",
      "3\n",
      "3\n",
      "3\n",
      "1\n"
     ]
    },
    {
     "name": "stderr",
     "output_type": "stream",
     "text": [
      "192.168.117.1 - - [13/May/2021 15:12:31] \"\u001b[37mPOST /test HTTP/1.1\u001b[0m\" 200 -\n",
      "192.168.117.1 - - [13/May/2021 15:12:31] \"\u001b[37mPOST /test HTTP/1.1\u001b[0m\" 200 -\n"
     ]
    },
    {
     "name": "stdout",
     "output_type": "stream",
     "text": [
      "3\n",
      "1\n"
     ]
    },
    {
     "name": "stderr",
     "output_type": "stream",
     "text": [
      "192.168.117.1 - - [13/May/2021 15:12:31] \"\u001b[37mPOST /test HTTP/1.1\u001b[0m\" 200 -\n",
      "192.168.117.1 - - [13/May/2021 15:12:31] \"\u001b[37mPOST /test HTTP/1.1\u001b[0m\" 200 -\n"
     ]
    },
    {
     "name": "stdout",
     "output_type": "stream",
     "text": [
      "3\n",
      "3\n",
      "3\n"
     ]
    },
    {
     "name": "stderr",
     "output_type": "stream",
     "text": [
      "192.168.117.1 - - [13/May/2021 15:12:31] \"\u001b[37mPOST /test HTTP/1.1\u001b[0m\" 200 -\n",
      "192.168.117.1 - - [13/May/2021 15:12:31] \"\u001b[37mPOST /test HTTP/1.1\u001b[0m\" 200 -\n",
      "192.168.117.1 - - [13/May/2021 15:12:31] \"\u001b[37mPOST /test HTTP/1.1\u001b[0m\" 200 -\n"
     ]
    },
    {
     "name": "stdout",
     "output_type": "stream",
     "text": [
      "3\n",
      "3\n",
      "3\n",
      "3\n",
      "13\n",
      "\n"
     ]
    },
    {
     "name": "stderr",
     "output_type": "stream",
     "text": [
      "192.168.117.1 - - [13/May/2021 15:12:31] \"\u001b[37mPOST /test HTTP/1.1\u001b[0m\" 200 -\n",
      "192.168.117.1 - - [13/May/2021 15:12:31] \"\u001b[37mPOST /test HTTP/1.1\u001b[0m\" 200 -\n",
      "192.168.117.1 - - [13/May/2021 15:12:31] \"\u001b[37mPOST /test HTTP/1.1\u001b[0m\" 200 -\n"
     ]
    },
    {
     "name": "stdout",
     "output_type": "stream",
     "text": [
      "3\n",
      "3\n",
      "3\n",
      "3\n",
      "3\n",
      "3\n",
      "1\n",
      "3\n"
     ]
    },
    {
     "name": "stderr",
     "output_type": "stream",
     "text": [
      "192.168.117.1 - - [13/May/2021 15:12:31] \"\u001b[37mPOST /test HTTP/1.1\u001b[0m\" 200 -\n",
      "192.168.117.1 - - [13/May/2021 15:12:31] \"\u001b[37mPOST /test HTTP/1.1\u001b[0m\" 200 -\n",
      "192.168.117.1 - - [13/May/2021 15:12:31] \"\u001b[37mPOST /test HTTP/1.1\u001b[0m\" 200 -\n",
      "192.168.117.1 - - [13/May/2021 15:12:31] \"\u001b[37mPOST /test HTTP/1.1\u001b[0m\" 200 -\n"
     ]
    },
    {
     "name": "stdout",
     "output_type": "stream",
     "text": [
      "3\n",
      "3\n",
      "1\n",
      "3\n",
      "3\n",
      "1\n",
      "3\n",
      "1\n",
      "3\n",
      "3\n",
      "3\n"
     ]
    },
    {
     "name": "stderr",
     "output_type": "stream",
     "text": [
      "192.168.117.1 - - [13/May/2021 15:12:32] \"\u001b[37mPOST /test HTTP/1.1\u001b[0m\" 200 -\n",
      "192.168.117.1 - - [13/May/2021 15:12:32] \"\u001b[37mPOST /test HTTP/1.1\u001b[0m\" 200 -\n",
      "192.168.117.1 - - [13/May/2021 15:12:32] \"\u001b[37mPOST /test HTTP/1.1\u001b[0m\" 200 -\n",
      "192.168.117.1 - - [13/May/2021 15:12:32] \"\u001b[37mPOST /test HTTP/1.1\u001b[0m\" 200 -\n",
      "192.168.117.1 - - [13/May/2021 15:12:32] \"\u001b[37mPOST /test HTTP/1.1\u001b[0m\" 200 -\n",
      "192.168.117.1 - - [13/May/2021 15:12:32] \"\u001b[37mPOST /test HTTP/1.1\u001b[0m\" 200 -\n",
      "192.168.117.1 - - [13/May/2021 15:12:32] \"\u001b[37mPOST /test HTTP/1.1\u001b[0m\" 200 -\n"
     ]
    },
    {
     "name": "stdout",
     "output_type": "stream",
     "text": [
      "3\n",
      "3\n",
      "3\n",
      "1\n",
      "1\n",
      "3\n",
      "3\n",
      "3\n",
      "3\n",
      "1\n"
     ]
    },
    {
     "name": "stderr",
     "output_type": "stream",
     "text": [
      "192.168.117.1 - - [13/May/2021 15:12:32] \"\u001b[37mPOST /test HTTP/1.1\u001b[0m\" 200 -\n",
      "192.168.117.1 - - [13/May/2021 15:12:32] \"\u001b[37mPOST /test HTTP/1.1\u001b[0m\" 200 -\n",
      "192.168.117.1 - - [13/May/2021 15:12:32] \"\u001b[37mPOST /test HTTP/1.1\u001b[0m\" 200 -\n",
      "192.168.117.1 - - [13/May/2021 15:12:32] \"\u001b[37mPOST /test HTTP/1.1\u001b[0m\" 200 -\n"
     ]
    },
    {
     "name": "stdout",
     "output_type": "stream",
     "text": [
      "3\n",
      "3\n",
      "3\n",
      "1\n",
      "3\n"
     ]
    },
    {
     "name": "stderr",
     "output_type": "stream",
     "text": [
      "192.168.117.1 - - [13/May/2021 15:12:32] \"\u001b[37mPOST /test HTTP/1.1\u001b[0m\" 200 -\n",
      "192.168.117.1 - - [13/May/2021 15:12:32] \"\u001b[37mPOST /test HTTP/1.1\u001b[0m\" 200 -\n",
      "192.168.117.1 - - [13/May/2021 15:12:32] \"\u001b[37mPOST /test HTTP/1.1\u001b[0m\" 200 -\n",
      "192.168.117.1 - - [13/May/2021 15:12:32] \"\u001b[37mPOST /test HTTP/1.1\u001b[0m\" 200 -\n",
      "192.168.117.1 - - [13/May/2021 15:12:32] \"\u001b[37mPOST /test HTTP/1.1\u001b[0m\" 200 -\n",
      "192.168.117.1 - - [13/May/2021 15:12:32] \"\u001b[37mPOST /test HTTP/1.1\u001b[0m\" 200 -\n"
     ]
    },
    {
     "name": "stdout",
     "output_type": "stream",
     "text": [
      "3\n",
      "3\n",
      "3\n",
      "3\n",
      "3\n"
     ]
    },
    {
     "name": "stderr",
     "output_type": "stream",
     "text": [
      "192.168.117.1 - - [13/May/2021 15:12:32] \"\u001b[37mPOST /test HTTP/1.1\u001b[0m\" 200 -\n",
      "192.168.117.1 - - [13/May/2021 15:12:32] \"\u001b[37mPOST /test HTTP/1.1\u001b[0m\" 200 -\n",
      "192.168.117.1 - - [13/May/2021 15:12:32] \"\u001b[37mPOST /test HTTP/1.1\u001b[0m\" 200 -\n",
      "192.168.117.1 - - [13/May/2021 15:12:32] \"\u001b[37mPOST /test HTTP/1.1\u001b[0m\" 200 -\n",
      "192.168.117.1 - - [13/May/2021 15:12:32] \"\u001b[37mPOST /test HTTP/1.1\u001b[0m\" 200 -\n",
      "192.168.117.1 - - [13/May/2021 15:12:32] \"\u001b[37mPOST /test HTTP/1.1\u001b[0m\" 200 -\n",
      "192.168.117.1 - - [13/May/2021 15:12:32] \"\u001b[37mPOST /test HTTP/1.1\u001b[0m\" 200 -\n"
     ]
    },
    {
     "name": "stdout",
     "output_type": "stream",
     "text": [
      "3\n",
      "1\n"
     ]
    },
    {
     "name": "stderr",
     "output_type": "stream",
     "text": [
      "192.168.117.1 - - [13/May/2021 15:12:32] \"\u001b[37mPOST /test HTTP/1.1\u001b[0m\" 200 -\n",
      "192.168.117.1 - - [13/May/2021 15:12:33] \"\u001b[37mPOST /test HTTP/1.1\u001b[0m\" 200 -\n",
      "192.168.117.1 - - [13/May/2021 15:12:33] \"\u001b[37mPOST /test HTTP/1.1\u001b[0m\" 200 -\n",
      "192.168.117.1 - - [13/May/2021 15:12:33] \"\u001b[37mPOST /test HTTP/1.1\u001b[0m\" 200 -\n",
      "192.168.117.1 - - [13/May/2021 15:12:33] \"\u001b[37mPOST /test HTTP/1.1\u001b[0m\" 200 -\n"
     ]
    },
    {
     "name": "stdout",
     "output_type": "stream",
     "text": [
      "3\n",
      "3\n",
      "3\n",
      "1\n",
      "3\n",
      "3\n"
     ]
    },
    {
     "name": "stderr",
     "output_type": "stream",
     "text": [
      "192.168.117.1 - - [13/May/2021 15:12:33] \"\u001b[37mPOST /test HTTP/1.1\u001b[0m\" 200 -\n",
      "192.168.117.1 - - [13/May/2021 15:12:33] \"\u001b[37mPOST /test HTTP/1.1\u001b[0m\" 200 -\n",
      "192.168.117.1 - - [13/May/2021 15:12:33] \"\u001b[37mPOST /test HTTP/1.1\u001b[0m\" 200 -\n",
      "192.168.117.1 - - [13/May/2021 15:12:33] \"\u001b[37mPOST /test HTTP/1.1\u001b[0m\" 200 -\n",
      "192.168.117.1 - - [13/May/2021 15:12:33] \"\u001b[37mPOST /test HTTP/1.1\u001b[0m\" 200 -\n",
      "192.168.117.1 - - [13/May/2021 15:12:33] \"\u001b[37mPOST /test HTTP/1.1\u001b[0m\" 200 -\n"
     ]
    },
    {
     "name": "stdout",
     "output_type": "stream",
     "text": [
      "3\n",
      "3\n",
      "3\n",
      "1\n",
      "3\n"
     ]
    },
    {
     "name": "stderr",
     "output_type": "stream",
     "text": [
      "192.168.117.1 - - [13/May/2021 15:12:33] \"\u001b[37mPOST /test HTTP/1.1\u001b[0m\" 200 -\n",
      "192.168.117.1 - - [13/May/2021 15:12:33] \"\u001b[37mPOST /test HTTP/1.1\u001b[0m\" 200 -\n",
      "192.168.117.1 - - [13/May/2021 15:12:33] \"\u001b[37mPOST /test HTTP/1.1\u001b[0m\" 200 -\n",
      "192.168.117.1 - - [13/May/2021 15:12:33] \"\u001b[37mPOST /test HTTP/1.1\u001b[0m\" 200 -\n"
     ]
    },
    {
     "name": "stdout",
     "output_type": "stream",
     "text": [
      "1\n",
      "3\n",
      "3\n",
      "1\n",
      "3\n"
     ]
    },
    {
     "name": "stderr",
     "output_type": "stream",
     "text": [
      "192.168.117.1 - - [13/May/2021 15:12:33] \"\u001b[37mPOST /test HTTP/1.1\u001b[0m\" 200 -\n",
      "192.168.117.1 - - [13/May/2021 15:12:33] \"\u001b[37mPOST /test HTTP/1.1\u001b[0m\" 200 -\n",
      "192.168.117.1 - - [13/May/2021 15:12:33] \"\u001b[37mPOST /test HTTP/1.1\u001b[0m\" 200 -\n",
      "192.168.117.1 - - [13/May/2021 15:12:34] \"\u001b[37mPOST /test HTTP/1.1\u001b[0m\" 200 -\n",
      "192.168.117.1 - - [13/May/2021 15:12:34] \"\u001b[37mPOST /test HTTP/1.1\u001b[0m\" 200 -\n",
      "192.168.117.1 - - [13/May/2021 15:12:34] \"\u001b[37mPOST /test HTTP/1.1\u001b[0m\" 200 -\n"
     ]
    },
    {
     "name": "stdout",
     "output_type": "stream",
     "text": [
      "3\n",
      "3\n",
      "3\n",
      "3\n",
      "1\n",
      "3\n"
     ]
    },
    {
     "name": "stderr",
     "output_type": "stream",
     "text": [
      "192.168.117.1 - - [13/May/2021 15:12:34] \"\u001b[37mPOST /test HTTP/1.1\u001b[0m\" 200 -\n",
      "192.168.117.1 - - [13/May/2021 15:12:34] \"\u001b[37mPOST /test HTTP/1.1\u001b[0m\" 200 -\n",
      "192.168.117.1 - - [13/May/2021 15:12:34] \"\u001b[37mPOST /test HTTP/1.1\u001b[0m\" 200 -\n",
      "192.168.117.1 - - [13/May/2021 15:12:34] \"\u001b[37mPOST /test HTTP/1.1\u001b[0m\" 200 -\n",
      "192.168.117.1 - - [13/May/2021 15:12:34] \"\u001b[37mPOST /test HTTP/1.1\u001b[0m\" 200 -\n",
      "192.168.117.1 - - [13/May/2021 15:12:34] \"\u001b[37mPOST /test HTTP/1.1\u001b[0m\" 200 -\n",
      "192.168.117.1 - - [13/May/2021 15:12:34] \"\u001b[37mPOST /test HTTP/1.1\u001b[0m\" 200 -\n",
      "192.168.117.1 - - [13/May/2021 15:12:34] \"\u001b[37mPOST /test HTTP/1.1\u001b[0m\" 200 -\n",
      "192.168.117.1 - - [13/May/2021 15:12:34] \"\u001b[37mPOST /test HTTP/1.1\u001b[0m\" 200 -\n"
     ]
    },
    {
     "name": "stdout",
     "output_type": "stream",
     "text": [
      "1\n",
      "3\n",
      "3\n",
      "3\n",
      "3\n",
      "3\n"
     ]
    },
    {
     "name": "stderr",
     "output_type": "stream",
     "text": [
      "192.168.117.1 - - [13/May/2021 15:12:34] \"\u001b[37mPOST /test HTTP/1.1\u001b[0m\" 200 -\n",
      "192.168.117.1 - - [13/May/2021 15:12:34] \"\u001b[37mPOST /test HTTP/1.1\u001b[0m\" 200 -\n",
      "192.168.117.1 - - [13/May/2021 15:12:34] \"\u001b[37mPOST /test HTTP/1.1\u001b[0m\" 200 -\n",
      "192.168.117.1 - - [13/May/2021 15:12:34] \"\u001b[37mPOST /test HTTP/1.1\u001b[0m\" 200 -\n",
      "192.168.117.1 - - [13/May/2021 15:12:34] \"\u001b[37mPOST /test HTTP/1.1\u001b[0m\" 200 -\n",
      "192.168.117.1 - - [13/May/2021 15:12:34] \"\u001b[37mPOST /test HTTP/1.1\u001b[0m\" 200 -\n",
      "192.168.117.1 - - [13/May/2021 15:12:34] \"\u001b[37mPOST /test HTTP/1.1\u001b[0m\" 200 -\n",
      "192.168.117.1 - - [13/May/2021 15:12:34] \"\u001b[37mPOST /test HTTP/1.1\u001b[0m\" 200 -\n",
      "192.168.117.1 - - [13/May/2021 15:12:35] \"\u001b[37mPOST /test HTTP/1.1\u001b[0m\" 200 -\n",
      "192.168.117.1 - - [13/May/2021 15:12:35] \"\u001b[37mPOST /test HTTP/1.1\u001b[0m\" 200 -\n",
      "192.168.117.1 - - [13/May/2021 15:12:35] \"\u001b[37mPOST /test HTTP/1.1\u001b[0m\" 200 -\n"
     ]
    },
    {
     "name": "stdout",
     "output_type": "stream",
     "text": [
      "1\n",
      "3\n",
      "3\n",
      "3\n",
      "3\n",
      "3\n"
     ]
    },
    {
     "name": "stderr",
     "output_type": "stream",
     "text": [
      "192.168.117.1 - - [13/May/2021 15:12:35] \"\u001b[37mPOST /test HTTP/1.1\u001b[0m\" 200 -\n",
      "192.168.117.1 - - [13/May/2021 15:12:35] \"\u001b[37mPOST /test HTTP/1.1\u001b[0m\" 200 -\n",
      "192.168.117.1 - - [13/May/2021 15:12:35] \"\u001b[37mPOST /test HTTP/1.1\u001b[0m\" 200 -\n",
      "192.168.117.1 - - [13/May/2021 15:12:35] \"\u001b[37mPOST /test HTTP/1.1\u001b[0m\" 200 -\n",
      "192.168.117.1 - - [13/May/2021 15:12:35] \"\u001b[37mPOST /test HTTP/1.1\u001b[0m\" 200 -\n",
      "192.168.117.1 - - [13/May/2021 15:12:35] \"\u001b[37mPOST /test HTTP/1.1\u001b[0m\" 200 -\n",
      "192.168.117.1 - - [13/May/2021 15:12:35] \"\u001b[37mPOST /test HTTP/1.1\u001b[0m\" 200 -\n",
      "192.168.117.1 - - [13/May/2021 15:12:35] \"\u001b[37mPOST /test HTTP/1.1\u001b[0m\" 200 -\n",
      "192.168.117.1 - - [13/May/2021 15:12:35] \"\u001b[37mPOST /test HTTP/1.1\u001b[0m\" 200 -\n"
     ]
    },
    {
     "name": "stdout",
     "output_type": "stream",
     "text": [
      "3\n",
      "1\n"
     ]
    },
    {
     "name": "stderr",
     "output_type": "stream",
     "text": [
      "192.168.117.1 - - [13/May/2021 15:12:36] \"\u001b[37mPOST /test HTTP/1.1\u001b[0m\" 200 -\n",
      "192.168.117.1 - - [13/May/2021 15:12:36] \"\u001b[37mPOST /test HTTP/1.1\u001b[0m\" 200 -\n",
      "192.168.117.1 - - [13/May/2021 15:12:36] \"\u001b[37mPOST /test HTTP/1.1\u001b[0m\" 200 -\n",
      "192.168.117.1 - - [13/May/2021 15:12:36] \"\u001b[37mPOST /test HTTP/1.1\u001b[0m\" 200 -\n",
      "192.168.117.1 - - [13/May/2021 15:12:36] \"\u001b[37mPOST /test HTTP/1.1\u001b[0m\" 200 -\n",
      "192.168.117.1 - - [13/May/2021 15:12:36] \"\u001b[37mPOST /test HTTP/1.1\u001b[0m\" 200 -\n",
      "192.168.117.1 - - [13/May/2021 15:12:36] \"\u001b[37mPOST /test HTTP/1.1\u001b[0m\" 200 -\n",
      "192.168.117.1 - - [13/May/2021 15:12:36] \"\u001b[37mPOST /test HTTP/1.1\u001b[0m\" 200 -\n",
      "192.168.117.1 - - [13/May/2021 15:12:36] \"\u001b[37mPOST /test HTTP/1.1\u001b[0m\" 200 -\n",
      "192.168.117.1 - - [13/May/2021 15:12:36] \"\u001b[37mPOST /test HTTP/1.1\u001b[0m\" 200 -\n"
     ]
    },
    {
     "name": "stdout",
     "output_type": "stream",
     "text": [
      "3\n",
      "3\n",
      "1\n",
      "3\n",
      "3\n",
      "1\n",
      "3\n",
      "1\n",
      "3\n",
      "3\n"
     ]
    },
    {
     "name": "stderr",
     "output_type": "stream",
     "text": [
      "192.168.117.1 - - [13/May/2021 15:12:36] \"\u001b[37mPOST /test HTTP/1.1\u001b[0m\" 200 -\n"
     ]
    },
    {
     "name": "stdout",
     "output_type": "stream",
     "text": [
      "3\n"
     ]
    },
    {
     "name": "stderr",
     "output_type": "stream",
     "text": [
      "192.168.117.1 - - [13/May/2021 15:16:18] \"\u001b[37mPOST /test HTTP/1.1\u001b[0m\" 200 -\n",
      "192.168.117.1 - - [13/May/2021 15:16:18] \"\u001b[37mPOST /test HTTP/1.1\u001b[0m\" 200 -\n",
      "192.168.117.1 - - [13/May/2021 15:16:18] \"\u001b[37mPOST /test HTTP/1.1\u001b[0m\" 200 -\n",
      "192.168.117.1 - - [13/May/2021 15:16:18] \"\u001b[37mPOST /test HTTP/1.1\u001b[0m\" 200 -\n",
      "192.168.117.1 - - [13/May/2021 15:16:18] \"\u001b[37mPOST /test HTTP/1.1\u001b[0m\" 200 -\n"
     ]
    },
    {
     "name": "stdout",
     "output_type": "stream",
     "text": [
      "3\n",
      "1\n",
      "3\n",
      "3\n",
      "3\n"
     ]
    },
    {
     "name": "stderr",
     "output_type": "stream",
     "text": [
      "192.168.117.1 - - [13/May/2021 15:16:37] \"\u001b[37mPOST /test HTTP/1.1\u001b[0m\" 200 -\n",
      "192.168.117.1 - - [13/May/2021 15:16:37] \"\u001b[37mPOST /test HTTP/1.1\u001b[0m\" 200 -\n",
      "192.168.117.1 - - [13/May/2021 15:16:37] \"\u001b[37mPOST /test HTTP/1.1\u001b[0m\" 200 -\n",
      "192.168.117.1 - - [13/May/2021 15:16:37] \"\u001b[37mPOST /test HTTP/1.1\u001b[0m\" 200 -\n",
      "192.168.117.1 - - [13/May/2021 15:16:37] \"\u001b[37mPOST /test HTTP/1.1\u001b[0m\" 200 -\n"
     ]
    },
    {
     "name": "stdout",
     "output_type": "stream",
     "text": [
      "3\n",
      "3\n",
      "1\n",
      "3\n",
      "3\n"
     ]
    },
    {
     "name": "stderr",
     "output_type": "stream",
     "text": [
      "192.168.117.1 - - [13/May/2021 15:17:02] \"\u001b[37mPOST /test HTTP/1.1\u001b[0m\" 200 -\n",
      "192.168.117.1 - - [13/May/2021 15:17:02] \"\u001b[37mPOST /test HTTP/1.1\u001b[0m\" 200 -\n",
      "192.168.117.1 - - [13/May/2021 15:17:02] \"\u001b[37mPOST /test HTTP/1.1\u001b[0m\" 200 -\n",
      "192.168.117.1 - - [13/May/2021 15:17:02] \"\u001b[37mPOST /test HTTP/1.1\u001b[0m\" 200 -\n",
      "192.168.117.1 - - [13/May/2021 15:17:02] \"\u001b[37mPOST /test HTTP/1.1\u001b[0m\" 200 -\n"
     ]
    },
    {
     "name": "stdout",
     "output_type": "stream",
     "text": [
      "3\n",
      "1\n",
      "3\n",
      "3\n",
      "3\n"
     ]
    },
    {
     "name": "stderr",
     "output_type": "stream",
     "text": [
      "192.168.117.1 - - [13/May/2021 15:22:02] \"\u001b[37mPOST /test HTTP/1.1\u001b[0m\" 200 -\n",
      "192.168.117.1 - - [13/May/2021 15:22:02] \"\u001b[37mPOST /test HTTP/1.1\u001b[0m\" 200 -\n",
      "192.168.117.1 - - [13/May/2021 15:22:02] \"\u001b[37mPOST /test HTTP/1.1\u001b[0m\" 200 -\n",
      "192.168.117.1 - - [13/May/2021 15:22:02] \"\u001b[37mPOST /test HTTP/1.1\u001b[0m\" 200 -\n",
      "192.168.117.1 - - [13/May/2021 15:22:02] \"\u001b[37mPOST /test HTTP/1.1\u001b[0m\" 200 -\n"
     ]
    },
    {
     "name": "stdout",
     "output_type": "stream",
     "text": [
      "3\n",
      "1\n",
      "3\n",
      "3\n",
      "3\n"
     ]
    },
    {
     "name": "stderr",
     "output_type": "stream",
     "text": [
      "192.168.117.1 - - [13/May/2021 15:22:05] \"\u001b[37mPOST /test HTTP/1.1\u001b[0m\" 200 -\n",
      "192.168.117.1 - - [13/May/2021 15:22:05] \"\u001b[37mPOST /test HTTP/1.1\u001b[0m\" 200 -\n",
      "192.168.117.1 - - [13/May/2021 15:22:05] \"\u001b[37mPOST /test HTTP/1.1\u001b[0m\" 200 -\n",
      "192.168.117.1 - - [13/May/2021 15:22:05] \"\u001b[37mPOST /test HTTP/1.1\u001b[0m\" 200 -\n",
      "192.168.117.1 - - [13/May/2021 15:22:05] \"\u001b[37mPOST /test HTTP/1.1\u001b[0m\" 200 -\n"
     ]
    },
    {
     "name": "stdout",
     "output_type": "stream",
     "text": [
      "3\n",
      "1\n",
      "3\n",
      "3\n",
      "3\n"
     ]
    },
    {
     "name": "stderr",
     "output_type": "stream",
     "text": [
      "192.168.117.1 - - [13/May/2021 15:22:08] \"\u001b[37mPOST /test HTTP/1.1\u001b[0m\" 200 -\n",
      "192.168.117.1 - - [13/May/2021 15:22:08] \"\u001b[37mPOST /test HTTP/1.1\u001b[0m\" 200 -\n",
      "192.168.117.1 - - [13/May/2021 15:22:08] \"\u001b[37mPOST /test HTTP/1.1\u001b[0m\" 200 -\n",
      "192.168.117.1 - - [13/May/2021 15:22:08] \"\u001b[37mPOST /test HTTP/1.1\u001b[0m\" 200 -\n",
      "192.168.117.1 - - [13/May/2021 15:22:08] \"\u001b[37mPOST /test HTTP/1.1\u001b[0m\" 200 -\n"
     ]
    },
    {
     "name": "stdout",
     "output_type": "stream",
     "text": [
      "3\n",
      "3\n",
      "1\n",
      "3\n",
      "3\n"
     ]
    }
   ],
   "source": [
    "from flask import Flask\n",
    "from flask import request\n",
    "from flask_restful import Resource, Api, reqparse, abort\n",
    "\n",
    "app = Flask(__name__)\n",
    "api = Api(app)\n",
    "\n",
    "@app.route('/test',methods=[\"POST\"])\n",
    "def sentimentTest():\n",
    "    value=request.form['ed_test']\n",
    "    re = sentiment_predict(value)\n",
    "    print(re) \n",
    "    return str(re)\n",
    "\n",
    "if __name__==\"__main__\":\n",
    "    app.run(host='0.0.0.0')"
   ]
  },
  {
   "cell_type": "code",
   "execution_count": null,
   "metadata": {},
   "outputs": [],
   "source": []
  }
 ],
 "metadata": {
  "kernelspec": {
   "display_name": "Python 3",
   "language": "python",
   "name": "python3"
  },
  "language_info": {
   "codemirror_mode": {
    "name": "ipython",
    "version": 3
   },
   "file_extension": ".py",
   "mimetype": "text/x-python",
   "name": "python",
   "nbconvert_exporter": "python",
   "pygments_lexer": "ipython3",
   "version": "3.8.3"
  }
 },
 "nbformat": 4,
 "nbformat_minor": 4
}
